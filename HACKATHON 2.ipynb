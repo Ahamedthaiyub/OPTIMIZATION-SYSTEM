{
 "cells": [
  {
   "cell_type": "code",
   "execution_count": 0,
   "metadata": {
    "colab": {},
    "colab_type": "code",
    "id": "nQNWgxFgq-iw"
   },
   "outputs": [],
   "source": []
  },
  {
   "cell_type": "code",
   "execution_count": 0,
   "metadata": {
    "colab": {
     "base_uri": "https://localhost:8080/",
     "height": 53
    },
    "colab_type": "code",
    "executionInfo": {
     "elapsed": 6673,
     "status": "ok",
     "timestamp": 1568699991461,
     "user": {
      "displayName": "Raghuvaran Tyson",
      "photoUrl": "https://lh3.googleusercontent.com/a-/AAuE7mBhAZB-htu3DgBaqN_MOdG5zfYZFANwOFvuem7-=s64",
      "userId": "10700062273568709982"
     },
     "user_tz": -330
    },
    "id": "cA1rXo7IthwT",
    "outputId": "eaa7ec20-e37f-4aa2-cd66-388607390656"
   },
   "outputs": [
    {
     "name": "stdout",
     "output_type": "stream",
     "text": [
      "Drive already mounted at /content/drive; to attempt to forcibly remount, call drive.mount(\"/content/drive\", force_remount=True).\n"
     ]
    }
   ],
   "source": [
    "from google.colab import drive\n",
    "drive.mount('/content/drive')"
   ]
  },
  {
   "cell_type": "markdown",
   "metadata": {
    "colab_type": "text",
    "id": "qsrRcHY2txPD"
   },
   "source": [
    "# Problem Statement\n",
    "\n",
    "**Employee Attrition is a huge problem across industries and generally costs the company a lot for\n",
    "hiring, retraining, productivity and work loss for each employee who leaves.**\n",
    "\n",
    "**To understand weather an employee quits at the earliest, we need to build model to predict whether an employee would quit in the near future.** \n",
    "\n",
    "\n",
    "\n",
    "- code by AHAMED THAIYUB A\n"
   ]
  },
  {
   "cell_type": "markdown",
   "metadata": {
    "colab_type": "text",
    "id": "q4av_UgJvOP3"
   },
   "source": [
    "# Reading the data sets & knowing about each attribute.\n"
   ]
  },
  {
   "cell_type": "code",
   "execution_count": 0,
   "metadata": {
    "colab": {},
    "colab_type": "code",
    "id": "YH4JuQ3Evs3D"
   },
   "outputs": [],
   "source": [
    "import pandas as pd\n",
    "import numpy as np"
   ]
  },
  {
   "cell_type": "code",
   "execution_count": 0,
   "metadata": {
    "colab": {},
    "colab_type": "code",
    "id": "n-Dc6y1ytiXU"
   },
   "outputs": [],
   "source": [
    "#Reading train data \n",
    "train_attrition = pd.read_csv(\"/content/drive/My Drive/Colab Notebooks/Data/Traindata/train_attrition.csv\")\n",
    "train_work = pd.read_csv(\"/content/drive/My Drive/Colab Notebooks/Data/Traindata/train_work.csv\")\n"
   ]
  },
  {
   "cell_type": "code",
   "execution_count": 0,
   "metadata": {
    "colab": {},
    "colab_type": "code",
    "id": "HhafwXNJxS_K"
   },
   "outputs": [],
   "source": [
    "#Reading the test data \n",
    "test_attrition = pd.read_csv(\"/content/drive/My Drive/Colab Notebooks/Data/Testdata/test_attrition.csv\")\n",
    "test_work = pd.read_csv(\"/content/drive/My Drive/Colab Notebooks/Data/Testdata/test_work.csv\")"
   ]
  },
  {
   "cell_type": "code",
   "execution_count": 0,
   "metadata": {
    "colab": {},
    "colab_type": "code",
    "id": "I_Ba-dJVxsJ2"
   },
   "outputs": [],
   "source": [
    "#Reading the employee_data\n",
    "emp_data = pd.read_csv(\"/content/drive/My Drive/Colab Notebooks/Data/employee_data/employee_data.csv\")"
   ]
  },
  {
   "cell_type": "code",
   "execution_count": 0,
   "metadata": {
    "colab": {
     "base_uri": "https://localhost:8080/",
     "height": 196
    },
    "colab_type": "code",
    "executionInfo": {
     "elapsed": 8941,
     "status": "ok",
     "timestamp": 1568699993758,
     "user": {
      "displayName": "Raghuvaran Tyson",
      "photoUrl": "https://lh3.googleusercontent.com/a-/AAuE7mBhAZB-htu3DgBaqN_MOdG5zfYZFANwOFvuem7-=s64",
      "userId": "10700062273568709982"
     },
     "user_tz": -330
    },
    "id": "j823NPfNx0ql",
    "outputId": "1876adb0-bfdb-424b-b559-ab0ea82c0250"
   },
   "outputs": [
    {
     "data": {
      "text/html": [
       "<div>\n",
       "<style scoped>\n",
       "    .dataframe tbody tr th:only-of-type {\n",
       "        vertical-align: middle;\n",
       "    }\n",
       "\n",
       "    .dataframe tbody tr th {\n",
       "        vertical-align: top;\n",
       "    }\n",
       "\n",
       "    .dataframe thead th {\n",
       "        text-align: right;\n",
       "    }\n",
       "</style>\n",
       "<table border=\"1\" class=\"dataframe\">\n",
       "  <thead>\n",
       "    <tr style=\"text-align: right;\">\n",
       "      <th></th>\n",
       "      <th>EmployeeID</th>\n",
       "      <th>Left_Company</th>\n",
       "    </tr>\n",
       "  </thead>\n",
       "  <tbody>\n",
       "    <tr>\n",
       "      <th>0</th>\n",
       "      <td>emp-1</td>\n",
       "      <td>0.0</td>\n",
       "    </tr>\n",
       "    <tr>\n",
       "      <th>1</th>\n",
       "      <td>emp-10</td>\n",
       "      <td>1.0</td>\n",
       "    </tr>\n",
       "    <tr>\n",
       "      <th>2</th>\n",
       "      <td>emp-100</td>\n",
       "      <td>0.0</td>\n",
       "    </tr>\n",
       "    <tr>\n",
       "      <th>3</th>\n",
       "      <td>emp-101</td>\n",
       "      <td>0.0</td>\n",
       "    </tr>\n",
       "    <tr>\n",
       "      <th>4</th>\n",
       "      <td>emp-102</td>\n",
       "      <td>0.0</td>\n",
       "    </tr>\n",
       "  </tbody>\n",
       "</table>\n",
       "</div>"
      ],
      "text/plain": [
       "  EmployeeID  Left_Company\n",
       "0      emp-1           0.0\n",
       "1     emp-10           1.0\n",
       "2    emp-100           0.0\n",
       "3    emp-101           0.0\n",
       "4    emp-102           0.0"
      ]
     },
     "execution_count": 7,
     "metadata": {
      "tags": []
     },
     "output_type": "execute_result"
    }
   ],
   "source": [
    "#read the top 5 rows of the train_attrition data\n",
    "train_attrition.head() "
   ]
  },
  {
   "cell_type": "markdown",
   "metadata": {
    "colab_type": "text",
    "id": "R2FX6ORrjde0"
   },
   "source": [
    "## Shape of the Raw training data."
   ]
  },
  {
   "cell_type": "markdown",
   "metadata": {
    "colab_type": "text",
    "id": "V7Syta2HrkXg"
   },
   "source": [
    "### No of Rows & Column in the train attrition & train work data."
   ]
  },
  {
   "cell_type": "code",
   "execution_count": 0,
   "metadata": {
    "colab": {
     "base_uri": "https://localhost:8080/",
     "height": 50
    },
    "colab_type": "code",
    "executionInfo": {
     "elapsed": 8934,
     "status": "ok",
     "timestamp": 1568699993760,
     "user": {
      "displayName": "Raghuvaran Tyson",
      "photoUrl": "https://lh3.googleusercontent.com/a-/AAuE7mBhAZB-htu3DgBaqN_MOdG5zfYZFANwOFvuem7-=s64",
      "userId": "10700062273568709982"
     },
     "user_tz": -330
    },
    "id": "vnNHr-dEzsCU",
    "outputId": "816dc00c-2ab2-4ba5-cddd-6096e3465a2d"
   },
   "outputs": [
    {
     "name": "stdout",
     "output_type": "stream",
     "text": [
      "The train_attrition has 245 rows & 2 columns.\n",
      "The train_work has 3983 rows & 7 columns.\n"
     ]
    }
   ],
   "source": [
    "#dimensions of the train_attrition data.\n",
    "\n",
    "print(\"The train_attrition has {} rows & {} columns.\" .format(train_attrition.shape[0], train_attrition.shape[1]))\n",
    "print(\"The train_work has {} rows & {} columns.\" .format(train_work.shape[0], train_work.shape[1]))\n"
   ]
  },
  {
   "cell_type": "code",
   "execution_count": 0,
   "metadata": {
    "colab": {
     "base_uri": "https://localhost:8080/",
     "height": 196
    },
    "colab_type": "code",
    "executionInfo": {
     "elapsed": 8926,
     "status": "ok",
     "timestamp": 1568699993762,
     "user": {
      "displayName": "Raghuvaran Tyson",
      "photoUrl": "https://lh3.googleusercontent.com/a-/AAuE7mBhAZB-htu3DgBaqN_MOdG5zfYZFANwOFvuem7-=s64",
      "userId": "10700062273568709982"
     },
     "user_tz": -330
    },
    "id": "ImEgqzlbx3wm",
    "outputId": "d78a2737-fc4f-4787-aac6-274893e4d255"
   },
   "outputs": [
    {
     "data": {
      "text/html": [
       "<div>\n",
       "<style scoped>\n",
       "    .dataframe tbody tr th:only-of-type {\n",
       "        vertical-align: middle;\n",
       "    }\n",
       "\n",
       "    .dataframe tbody tr th {\n",
       "        vertical-align: top;\n",
       "    }\n",
       "\n",
       "    .dataframe thead th {\n",
       "        text-align: right;\n",
       "    }\n",
       "</style>\n",
       "<table border=\"1\" class=\"dataframe\">\n",
       "  <thead>\n",
       "    <tr style=\"text-align: right;\">\n",
       "      <th></th>\n",
       "      <th>EmployeeID</th>\n",
       "      <th>TotalWorkingHours</th>\n",
       "      <th>Billable_Hours</th>\n",
       "      <th>Hours_off_Duty</th>\n",
       "      <th>Touring_Hours</th>\n",
       "      <th>NoOfProjects</th>\n",
       "      <th>ActualTimeSpent</th>\n",
       "    </tr>\n",
       "  </thead>\n",
       "  <tbody>\n",
       "    <tr>\n",
       "      <th>0</th>\n",
       "      <td>emp-1</td>\n",
       "      <td>184.0</td>\n",
       "      <td>144.0</td>\n",
       "      <td>40.0</td>\n",
       "      <td>144.0</td>\n",
       "      <td>3</td>\n",
       "      <td>77</td>\n",
       "    </tr>\n",
       "    <tr>\n",
       "      <th>1</th>\n",
       "      <td>emp-1</td>\n",
       "      <td>176.0</td>\n",
       "      <td>136.0</td>\n",
       "      <td>40.0</td>\n",
       "      <td>136.0</td>\n",
       "      <td>2</td>\n",
       "      <td>98</td>\n",
       "    </tr>\n",
       "    <tr>\n",
       "      <th>2</th>\n",
       "      <td>emp-1</td>\n",
       "      <td>200.0</td>\n",
       "      <td>120.0</td>\n",
       "      <td>72.0</td>\n",
       "      <td>120.0</td>\n",
       "      <td>1</td>\n",
       "      <td>14</td>\n",
       "    </tr>\n",
       "    <tr>\n",
       "      <th>3</th>\n",
       "      <td>emp-1</td>\n",
       "      <td>160.0</td>\n",
       "      <td>144.0</td>\n",
       "      <td>8.0</td>\n",
       "      <td>144.0</td>\n",
       "      <td>3</td>\n",
       "      <td>147</td>\n",
       "    </tr>\n",
       "    <tr>\n",
       "      <th>4</th>\n",
       "      <td>emp-1</td>\n",
       "      <td>171.0</td>\n",
       "      <td>135.0</td>\n",
       "      <td>0.0</td>\n",
       "      <td>135.0</td>\n",
       "      <td>1</td>\n",
       "      <td>42</td>\n",
       "    </tr>\n",
       "  </tbody>\n",
       "</table>\n",
       "</div>"
      ],
      "text/plain": [
       "  EmployeeID  TotalWorkingHours  ...  NoOfProjects  ActualTimeSpent\n",
       "0      emp-1              184.0  ...             3               77\n",
       "1      emp-1              176.0  ...             2               98\n",
       "2      emp-1              200.0  ...             1               14\n",
       "3      emp-1              160.0  ...             3              147\n",
       "4      emp-1              171.0  ...             1               42\n",
       "\n",
       "[5 rows x 7 columns]"
      ]
     },
     "execution_count": 9,
     "metadata": {
      "tags": []
     },
     "output_type": "execute_result"
    }
   ],
   "source": [
    "train_work.head() #Reading the top 5 rows of train_work file"
   ]
  },
  {
   "cell_type": "code",
   "execution_count": 0,
   "metadata": {
    "colab": {
     "base_uri": "https://localhost:8080/",
     "height": 196
    },
    "colab_type": "code",
    "executionInfo": {
     "elapsed": 8921,
     "status": "ok",
     "timestamp": 1568699993765,
     "user": {
      "displayName": "Raghuvaran Tyson",
      "photoUrl": "https://lh3.googleusercontent.com/a-/AAuE7mBhAZB-htu3DgBaqN_MOdG5zfYZFANwOFvuem7-=s64",
      "userId": "10700062273568709982"
     },
     "user_tz": -330
    },
    "id": "LI9wCyk4yAQD",
    "outputId": "f91dc674-2150-45d8-b372-baeaaecd96a2"
   },
   "outputs": [
    {
     "data": {
      "text/html": [
       "<div>\n",
       "<style scoped>\n",
       "    .dataframe tbody tr th:only-of-type {\n",
       "        vertical-align: middle;\n",
       "    }\n",
       "\n",
       "    .dataframe tbody tr th {\n",
       "        vertical-align: top;\n",
       "    }\n",
       "\n",
       "    .dataframe thead th {\n",
       "        text-align: right;\n",
       "    }\n",
       "</style>\n",
       "<table border=\"1\" class=\"dataframe\">\n",
       "  <thead>\n",
       "    <tr style=\"text-align: right;\">\n",
       "      <th></th>\n",
       "      <th>EmployeeID</th>\n",
       "      <th>Job_History</th>\n",
       "      <th>Joining_Date</th>\n",
       "      <th>Designation</th>\n",
       "      <th>Sex</th>\n",
       "    </tr>\n",
       "  </thead>\n",
       "  <tbody>\n",
       "    <tr>\n",
       "      <th>0</th>\n",
       "      <td>emp-10</td>\n",
       "      <td>Worked at Company - 816 , Company - 724 , Comp...</td>\n",
       "      <td>2006_02</td>\n",
       "      <td>VP</td>\n",
       "      <td>0</td>\n",
       "    </tr>\n",
       "    <tr>\n",
       "      <th>1</th>\n",
       "      <td>emp-108</td>\n",
       "      <td>Worked at Company - 205 , Company - 373 , Comp...</td>\n",
       "      <td>2012_01</td>\n",
       "      <td>VP</td>\n",
       "      <td>1</td>\n",
       "    </tr>\n",
       "    <tr>\n",
       "      <th>2</th>\n",
       "      <td>emp-115</td>\n",
       "      <td>Worked at Company - 690 , Company - 280 , Comp...</td>\n",
       "      <td>2012_02</td>\n",
       "      <td>Senior</td>\n",
       "      <td>1</td>\n",
       "    </tr>\n",
       "    <tr>\n",
       "      <th>3</th>\n",
       "      <td>emp-121</td>\n",
       "      <td>Worked at Company - 684 , Company - 159 , Comp...</td>\n",
       "      <td>2012_03</td>\n",
       "      <td>VP</td>\n",
       "      <td>1</td>\n",
       "    </tr>\n",
       "    <tr>\n",
       "      <th>4</th>\n",
       "      <td>emp-138</td>\n",
       "      <td>Worked at Company - 443 , Company - 121 , Comp...</td>\n",
       "      <td>2012_05</td>\n",
       "      <td>Senior</td>\n",
       "      <td>1</td>\n",
       "    </tr>\n",
       "  </tbody>\n",
       "</table>\n",
       "</div>"
      ],
      "text/plain": [
       "  EmployeeID  ... Sex\n",
       "0     emp-10  ...   0\n",
       "1    emp-108  ...   1\n",
       "2    emp-115  ...   1\n",
       "3    emp-121  ...   1\n",
       "4    emp-138  ...   1\n",
       "\n",
       "[5 rows x 5 columns]"
      ]
     },
     "execution_count": 10,
     "metadata": {
      "tags": []
     },
     "output_type": "execute_result"
    }
   ],
   "source": [
    "#let's understand what is the employee_data\n",
    "emp_data.head()"
   ]
  },
  {
   "cell_type": "markdown",
   "metadata": {
    "colab_type": "text",
    "id": "8wDd9Z5zjnvA"
   },
   "source": [
    "## Employee data of both Train & Test data.\n"
   ]
  },
  {
   "cell_type": "markdown",
   "metadata": {
    "colab_type": "text",
    "id": "gOgBNBlbrN4z"
   },
   "source": [
    "### Shape of the Employee Data."
   ]
  },
  {
   "cell_type": "code",
   "execution_count": 0,
   "metadata": {
    "colab": {
     "base_uri": "https://localhost:8080/"
    },
    "colab_type": "code",
    "executionInfo": {
     "elapsed": 8911,
     "status": "ok",
     "timestamp": 1568699993766,
     "user": {
      "displayName": "Raghuvaran Tyson",
      "photoUrl": "https://lh3.googleusercontent.com/a-/AAuE7mBhAZB-htu3DgBaqN_MOdG5zfYZFANwOFvuem7-=s64",
      "userId": "10700062273568709982"
     },
     "user_tz": -330
    },
    "id": "JXZ44NLx0WeQ",
    "outputId": "9bf3037e-62d1-48dd-f8b7-4cf66ac2d0dd"
   },
   "outputs": [
    {
     "name": "stdout",
     "output_type": "stream",
     "text": [
      "The employee data has 296 rows & 5 columns.\n"
     ]
    }
   ],
   "source": [
    "print(\"The employee data has {} rows & {} columns.\" .format(emp_data.shape[0], emp_data.shape[1]))"
   ]
  },
  {
   "cell_type": "code",
   "execution_count": 0,
   "metadata": {
    "colab": {
     "base_uri": "https://localhost:8080/"
    },
    "colab_type": "code",
    "executionInfo": {
     "elapsed": 8905,
     "status": "ok",
     "timestamp": 1568699993768,
     "user": {
      "displayName": "Raghuvaran Tyson",
      "photoUrl": "https://lh3.googleusercontent.com/a-/AAuE7mBhAZB-htu3DgBaqN_MOdG5zfYZFANwOFvuem7-=s64",
      "userId": "10700062273568709982"
     },
     "user_tz": -330
    },
    "id": "gnB1NGaw0mFE",
    "outputId": "3e4f0399-1e6e-4d6b-fdde-c9cfb007a2c7"
   },
   "outputs": [
    {
     "data": {
      "text/html": [
       "<div>\n",
       "<style scoped>\n",
       "    .dataframe tbody tr th:only-of-type {\n",
       "        vertical-align: middle;\n",
       "    }\n",
       "\n",
       "    .dataframe tbody tr th {\n",
       "        vertical-align: top;\n",
       "    }\n",
       "\n",
       "    .dataframe thead th {\n",
       "        text-align: right;\n",
       "    }\n",
       "</style>\n",
       "<table border=\"1\" class=\"dataframe\">\n",
       "  <thead>\n",
       "    <tr style=\"text-align: right;\">\n",
       "      <th></th>\n",
       "      <th>EmployeeID</th>\n",
       "      <th>Left_Company</th>\n",
       "    </tr>\n",
       "  </thead>\n",
       "  <tbody>\n",
       "    <tr>\n",
       "      <th>0</th>\n",
       "      <td>emp-106</td>\n",
       "      <td>NaN</td>\n",
       "    </tr>\n",
       "    <tr>\n",
       "      <th>1</th>\n",
       "      <td>emp-112</td>\n",
       "      <td>NaN</td>\n",
       "    </tr>\n",
       "    <tr>\n",
       "      <th>2</th>\n",
       "      <td>emp-114</td>\n",
       "      <td>NaN</td>\n",
       "    </tr>\n",
       "    <tr>\n",
       "      <th>3</th>\n",
       "      <td>emp-118</td>\n",
       "      <td>NaN</td>\n",
       "    </tr>\n",
       "    <tr>\n",
       "      <th>4</th>\n",
       "      <td>emp-12</td>\n",
       "      <td>NaN</td>\n",
       "    </tr>\n",
       "  </tbody>\n",
       "</table>\n",
       "</div>"
      ],
      "text/plain": [
       "  EmployeeID  Left_Company\n",
       "0    emp-106           NaN\n",
       "1    emp-112           NaN\n",
       "2    emp-114           NaN\n",
       "3    emp-118           NaN\n",
       "4     emp-12           NaN"
      ]
     },
     "execution_count": 12,
     "metadata": {
      "tags": []
     },
     "output_type": "execute_result"
    }
   ],
   "source": [
    "#Let's see the top rows of the test data \n",
    "\n",
    "test_attrition.head()"
   ]
  },
  {
   "cell_type": "markdown",
   "metadata": {
    "colab_type": "text",
    "id": "MGWH3k6urWkZ"
   },
   "source": [
    "### No of Rows & Column in th test attrition & test work data."
   ]
  },
  {
   "cell_type": "code",
   "execution_count": 0,
   "metadata": {
    "colab": {
     "base_uri": "https://localhost:8080/"
    },
    "colab_type": "code",
    "executionInfo": {
     "elapsed": 8899,
     "status": "ok",
     "timestamp": 1568699993770,
     "user": {
      "displayName": "Raghuvaran Tyson",
      "photoUrl": "https://lh3.googleusercontent.com/a-/AAuE7mBhAZB-htu3DgBaqN_MOdG5zfYZFANwOFvuem7-=s64",
      "userId": "10700062273568709982"
     },
     "user_tz": -330
    },
    "id": "LGpJjsbF1eG6",
    "outputId": "252e7089-e198-4496-c32c-ada13f22cfc8"
   },
   "outputs": [
    {
     "name": "stdout",
     "output_type": "stream",
     "text": [
      "The Test Attrition data has 51 rows & 2 columns.\n",
      "The Test work has 874 rows & 7 columns.\n"
     ]
    }
   ],
   "source": [
    "print(\"The Test Attrition data has {} rows & {} columns.\" .format(test_attrition.shape[0], test_attrition.shape[1]))\n",
    "print(\"The Test work has {} rows & {} columns.\" .format(test_work.shape[0], test_work.shape[1]))\n"
   ]
  },
  {
   "cell_type": "markdown",
   "metadata": {
    "colab_type": "text",
    "id": "D9G3nirU00jw"
   },
   "source": [
    "**We need to predict weather these will leave the company**"
   ]
  },
  {
   "cell_type": "code",
   "execution_count": 0,
   "metadata": {
    "colab": {
     "base_uri": "https://localhost:8080/"
    },
    "colab_type": "code",
    "executionInfo": {
     "elapsed": 8895,
     "status": "ok",
     "timestamp": 1568699993773,
     "user": {
      "displayName": "Raghuvaran Tyson",
      "photoUrl": "https://lh3.googleusercontent.com/a-/AAuE7mBhAZB-htu3DgBaqN_MOdG5zfYZFANwOFvuem7-=s64",
      "userId": "10700062273568709982"
     },
     "user_tz": -330
    },
    "id": "V-Tb9Bgi0yiI",
    "outputId": "a8958b5f-d431-4fae-e11b-cae064a4056b"
   },
   "outputs": [
    {
     "data": {
      "text/html": [
       "<div>\n",
       "<style scoped>\n",
       "    .dataframe tbody tr th:only-of-type {\n",
       "        vertical-align: middle;\n",
       "    }\n",
       "\n",
       "    .dataframe tbody tr th {\n",
       "        vertical-align: top;\n",
       "    }\n",
       "\n",
       "    .dataframe thead th {\n",
       "        text-align: right;\n",
       "    }\n",
       "</style>\n",
       "<table border=\"1\" class=\"dataframe\">\n",
       "  <thead>\n",
       "    <tr style=\"text-align: right;\">\n",
       "      <th></th>\n",
       "      <th>EmployeeID</th>\n",
       "      <th>TotalWorkingHours</th>\n",
       "      <th>Billable_Hours</th>\n",
       "      <th>Hours_off_Duty</th>\n",
       "      <th>Touring_Hours</th>\n",
       "      <th>NoOfProjects</th>\n",
       "      <th>ActualTimeSpent</th>\n",
       "    </tr>\n",
       "  </thead>\n",
       "  <tbody>\n",
       "    <tr>\n",
       "      <th>0</th>\n",
       "      <td>emp-2</td>\n",
       "      <td>170.0</td>\n",
       "      <td>124.0</td>\n",
       "      <td>8.0</td>\n",
       "      <td>0.0</td>\n",
       "      <td>4</td>\n",
       "      <td>77</td>\n",
       "    </tr>\n",
       "    <tr>\n",
       "      <th>1</th>\n",
       "      <td>emp-2</td>\n",
       "      <td>164.0</td>\n",
       "      <td>114.0</td>\n",
       "      <td>24.0</td>\n",
       "      <td>0.0</td>\n",
       "      <td>4</td>\n",
       "      <td>105</td>\n",
       "    </tr>\n",
       "    <tr>\n",
       "      <th>2</th>\n",
       "      <td>emp-2</td>\n",
       "      <td>201.0</td>\n",
       "      <td>139.0</td>\n",
       "      <td>48.0</td>\n",
       "      <td>0.0</td>\n",
       "      <td>4</td>\n",
       "      <td>112</td>\n",
       "    </tr>\n",
       "    <tr>\n",
       "      <th>3</th>\n",
       "      <td>emp-2</td>\n",
       "      <td>153.0</td>\n",
       "      <td>114.0</td>\n",
       "      <td>24.0</td>\n",
       "      <td>0.0</td>\n",
       "      <td>2</td>\n",
       "      <td>91</td>\n",
       "    </tr>\n",
       "    <tr>\n",
       "      <th>4</th>\n",
       "      <td>emp-2</td>\n",
       "      <td>122.0</td>\n",
       "      <td>106.0</td>\n",
       "      <td>0.0</td>\n",
       "      <td>0.0</td>\n",
       "      <td>2</td>\n",
       "      <td>98</td>\n",
       "    </tr>\n",
       "  </tbody>\n",
       "</table>\n",
       "</div>"
      ],
      "text/plain": [
       "  EmployeeID  TotalWorkingHours  ...  NoOfProjects  ActualTimeSpent\n",
       "0      emp-2              170.0  ...             4               77\n",
       "1      emp-2              164.0  ...             4              105\n",
       "2      emp-2              201.0  ...             4              112\n",
       "3      emp-2              153.0  ...             2               91\n",
       "4      emp-2              122.0  ...             2               98\n",
       "\n",
       "[5 rows x 7 columns]"
      ]
     },
     "execution_count": 14,
     "metadata": {
      "tags": []
     },
     "output_type": "execute_result"
    }
   ],
   "source": [
    "test_work.head()"
   ]
  },
  {
   "cell_type": "markdown",
   "metadata": {
    "colab_type": "text",
    "id": "RqDMt3Cyyeif"
   },
   "source": [
    "# Description of the features\n",
    "\n",
    "● Left_Company (Target) : Whether the employee left the  company or not (1 - Yes, 0 - No).\n",
    "\n",
    "● EmployeeID : A unique identification key for every individual employee.\n",
    "\n",
    "● TotalWorkingHours : The total working hours logged for the employee at the location.\n",
    "\n",
    "● Billable_Hours : The number of hours that are used to charge the Client.\n",
    "\n",
    "● Hours_off_Duty : Number of hours the employee took off.\n",
    "\n",
    "● Touring_Hours : Number of hours the employee spent working at an offsite location.\n",
    "\n",
    "● NoOfProjects : Number of Projects the employee is assigned to.\n",
    "\n",
    "● ActualTimeSpent : Actual time the employee spent working according to the timesheets.\n",
    "\n",
    "● Job_History : A feature containing the previous companies where the employee was employed.\n",
    "\n",
    "● Joining_Date : The date on which the employee Joined the organisation.\n",
    "\n",
    "● Designation : The role of the employee in the company, with the following levels: EVP, Junior, MD, Senior, VP.\n",
    "\n",
    "● Sex : The gender of the employee."
   ]
  },
  {
   "cell_type": "markdown",
   "metadata": {
    "colab_type": "text",
    "id": "06a_LN6q1-bR"
   },
   "source": [
    "## Merging the datasets based on the employee data."
   ]
  },
  {
   "cell_type": "code",
   "execution_count": 0,
   "metadata": {
    "colab": {
     "base_uri": "https://localhost:8080/",
     "height": 196
    },
    "colab_type": "code",
    "executionInfo": {
     "elapsed": 8888,
     "status": "ok",
     "timestamp": 1568699993775,
     "user": {
      "displayName": "Raghuvaran Tyson",
      "photoUrl": "https://lh3.googleusercontent.com/a-/AAuE7mBhAZB-htu3DgBaqN_MOdG5zfYZFANwOFvuem7-=s64",
      "userId": "10700062273568709982"
     },
     "user_tz": -330
    },
    "id": "yDksHvfx5Lmu",
    "outputId": "4a882976-1869-4be8-9bcf-0c0a8994d966"
   },
   "outputs": [
    {
     "data": {
      "text/html": [
       "<div>\n",
       "<style scoped>\n",
       "    .dataframe tbody tr th:only-of-type {\n",
       "        vertical-align: middle;\n",
       "    }\n",
       "\n",
       "    .dataframe tbody tr th {\n",
       "        vertical-align: top;\n",
       "    }\n",
       "\n",
       "    .dataframe thead th {\n",
       "        text-align: right;\n",
       "    }\n",
       "</style>\n",
       "<table border=\"1\" class=\"dataframe\">\n",
       "  <thead>\n",
       "    <tr style=\"text-align: right;\">\n",
       "      <th></th>\n",
       "      <th>EmployeeID</th>\n",
       "      <th>Left_Company</th>\n",
       "    </tr>\n",
       "  </thead>\n",
       "  <tbody>\n",
       "    <tr>\n",
       "      <th>0</th>\n",
       "      <td>emp-1</td>\n",
       "      <td>0.0</td>\n",
       "    </tr>\n",
       "    <tr>\n",
       "      <th>1</th>\n",
       "      <td>emp-10</td>\n",
       "      <td>1.0</td>\n",
       "    </tr>\n",
       "    <tr>\n",
       "      <th>2</th>\n",
       "      <td>emp-100</td>\n",
       "      <td>0.0</td>\n",
       "    </tr>\n",
       "    <tr>\n",
       "      <th>3</th>\n",
       "      <td>emp-101</td>\n",
       "      <td>0.0</td>\n",
       "    </tr>\n",
       "    <tr>\n",
       "      <th>4</th>\n",
       "      <td>emp-102</td>\n",
       "      <td>0.0</td>\n",
       "    </tr>\n",
       "  </tbody>\n",
       "</table>\n",
       "</div>"
      ],
      "text/plain": [
       "  EmployeeID  Left_Company\n",
       "0      emp-1           0.0\n",
       "1     emp-10           1.0\n",
       "2    emp-100           0.0\n",
       "3    emp-101           0.0\n",
       "4    emp-102           0.0"
      ]
     },
     "execution_count": 15,
     "metadata": {
      "tags": []
     },
     "output_type": "execute_result"
    }
   ],
   "source": [
    "train_attrition.head()"
   ]
  },
  {
   "cell_type": "code",
   "execution_count": 0,
   "metadata": {
    "colab": {
     "base_uri": "https://localhost:8080/",
     "height": 196
    },
    "colab_type": "code",
    "executionInfo": {
     "elapsed": 8882,
     "status": "ok",
     "timestamp": 1568699993778,
     "user": {
      "displayName": "Raghuvaran Tyson",
      "photoUrl": "https://lh3.googleusercontent.com/a-/AAuE7mBhAZB-htu3DgBaqN_MOdG5zfYZFANwOFvuem7-=s64",
      "userId": "10700062273568709982"
     },
     "user_tz": -330
    },
    "id": "innUPUBt5Oxy",
    "outputId": "591a9e10-44b8-4c45-bb98-c874c1b6c4a3"
   },
   "outputs": [
    {
     "data": {
      "text/html": [
       "<div>\n",
       "<style scoped>\n",
       "    .dataframe tbody tr th:only-of-type {\n",
       "        vertical-align: middle;\n",
       "    }\n",
       "\n",
       "    .dataframe tbody tr th {\n",
       "        vertical-align: top;\n",
       "    }\n",
       "\n",
       "    .dataframe thead th {\n",
       "        text-align: right;\n",
       "    }\n",
       "</style>\n",
       "<table border=\"1\" class=\"dataframe\">\n",
       "  <thead>\n",
       "    <tr style=\"text-align: right;\">\n",
       "      <th></th>\n",
       "      <th>EmployeeID</th>\n",
       "      <th>Job_History</th>\n",
       "      <th>Joining_Date</th>\n",
       "      <th>Designation</th>\n",
       "      <th>Sex</th>\n",
       "    </tr>\n",
       "  </thead>\n",
       "  <tbody>\n",
       "    <tr>\n",
       "      <th>0</th>\n",
       "      <td>emp-10</td>\n",
       "      <td>Worked at Company - 816 , Company - 724 , Comp...</td>\n",
       "      <td>2006_02</td>\n",
       "      <td>VP</td>\n",
       "      <td>0</td>\n",
       "    </tr>\n",
       "    <tr>\n",
       "      <th>1</th>\n",
       "      <td>emp-108</td>\n",
       "      <td>Worked at Company - 205 , Company - 373 , Comp...</td>\n",
       "      <td>2012_01</td>\n",
       "      <td>VP</td>\n",
       "      <td>1</td>\n",
       "    </tr>\n",
       "    <tr>\n",
       "      <th>2</th>\n",
       "      <td>emp-115</td>\n",
       "      <td>Worked at Company - 690 , Company - 280 , Comp...</td>\n",
       "      <td>2012_02</td>\n",
       "      <td>Senior</td>\n",
       "      <td>1</td>\n",
       "    </tr>\n",
       "    <tr>\n",
       "      <th>3</th>\n",
       "      <td>emp-121</td>\n",
       "      <td>Worked at Company - 684 , Company - 159 , Comp...</td>\n",
       "      <td>2012_03</td>\n",
       "      <td>VP</td>\n",
       "      <td>1</td>\n",
       "    </tr>\n",
       "    <tr>\n",
       "      <th>4</th>\n",
       "      <td>emp-138</td>\n",
       "      <td>Worked at Company - 443 , Company - 121 , Comp...</td>\n",
       "      <td>2012_05</td>\n",
       "      <td>Senior</td>\n",
       "      <td>1</td>\n",
       "    </tr>\n",
       "  </tbody>\n",
       "</table>\n",
       "</div>"
      ],
      "text/plain": [
       "  EmployeeID  ... Sex\n",
       "0     emp-10  ...   0\n",
       "1    emp-108  ...   1\n",
       "2    emp-115  ...   1\n",
       "3    emp-121  ...   1\n",
       "4    emp-138  ...   1\n",
       "\n",
       "[5 rows x 5 columns]"
      ]
     },
     "execution_count": 16,
     "metadata": {
      "tags": []
     },
     "output_type": "execute_result"
    }
   ],
   "source": [
    "emp_data.head()"
   ]
  },
  {
   "cell_type": "markdown",
   "metadata": {
    "colab_type": "text",
    "id": "lI7JEamK-A3i"
   },
   "source": [
    "## Merging the train data into a single datafrfame"
   ]
  },
  {
   "cell_type": "code",
   "execution_count": 0,
   "metadata": {
    "colab": {},
    "colab_type": "code",
    "id": "377tITWL5njU"
   },
   "outputs": [],
   "source": [
    "train_emp_data = pd.merge(train_attrition, emp_data, how='left', on='EmployeeID')"
   ]
  },
  {
   "cell_type": "code",
   "execution_count": 0,
   "metadata": {
    "colab": {
     "base_uri": "https://localhost:8080/",
     "height": 33
    },
    "colab_type": "code",
    "executionInfo": {
     "elapsed": 8875,
     "status": "ok",
     "timestamp": 1568699993784,
     "user": {
      "displayName": "Raghuvaran Tyson",
      "photoUrl": "https://lh3.googleusercontent.com/a-/AAuE7mBhAZB-htu3DgBaqN_MOdG5zfYZFANwOFvuem7-=s64",
      "userId": "10700062273568709982"
     },
     "user_tz": -330
    },
    "id": "iJwENagu6LoF",
    "outputId": "ead98c57-f6a2-4b89-de52-d5f70c30fbcc"
   },
   "outputs": [
    {
     "data": {
      "text/plain": [
       "(245, 6)"
      ]
     },
     "execution_count": 18,
     "metadata": {
      "tags": []
     },
     "output_type": "execute_result"
    }
   ],
   "source": [
    "train_emp_data.shape"
   ]
  },
  {
   "cell_type": "code",
   "execution_count": 0,
   "metadata": {
    "colab": {
     "base_uri": "https://localhost:8080/",
     "height": 196
    },
    "colab_type": "code",
    "executionInfo": {
     "elapsed": 8866,
     "status": "ok",
     "timestamp": 1568699993786,
     "user": {
      "displayName": "Raghuvaran Tyson",
      "photoUrl": "https://lh3.googleusercontent.com/a-/AAuE7mBhAZB-htu3DgBaqN_MOdG5zfYZFANwOFvuem7-=s64",
      "userId": "10700062273568709982"
     },
     "user_tz": -330
    },
    "id": "T58WM-Zh6SlX",
    "outputId": "d27fb801-60ba-4115-d252-69929129eab9"
   },
   "outputs": [
    {
     "data": {
      "text/html": [
       "<div>\n",
       "<style scoped>\n",
       "    .dataframe tbody tr th:only-of-type {\n",
       "        vertical-align: middle;\n",
       "    }\n",
       "\n",
       "    .dataframe tbody tr th {\n",
       "        vertical-align: top;\n",
       "    }\n",
       "\n",
       "    .dataframe thead th {\n",
       "        text-align: right;\n",
       "    }\n",
       "</style>\n",
       "<table border=\"1\" class=\"dataframe\">\n",
       "  <thead>\n",
       "    <tr style=\"text-align: right;\">\n",
       "      <th></th>\n",
       "      <th>EmployeeID</th>\n",
       "      <th>Left_Company</th>\n",
       "      <th>Job_History</th>\n",
       "      <th>Joining_Date</th>\n",
       "      <th>Designation</th>\n",
       "      <th>Sex</th>\n",
       "    </tr>\n",
       "  </thead>\n",
       "  <tbody>\n",
       "    <tr>\n",
       "      <th>0</th>\n",
       "      <td>emp-1</td>\n",
       "      <td>0.0</td>\n",
       "      <td>Worked at Company - 639 , Company - 212 , Comp...</td>\n",
       "      <td>2011_01</td>\n",
       "      <td>MD</td>\n",
       "      <td>1</td>\n",
       "    </tr>\n",
       "    <tr>\n",
       "      <th>1</th>\n",
       "      <td>emp-10</td>\n",
       "      <td>1.0</td>\n",
       "      <td>Worked at Company - 816 , Company - 724 , Comp...</td>\n",
       "      <td>2006_02</td>\n",
       "      <td>VP</td>\n",
       "      <td>0</td>\n",
       "    </tr>\n",
       "    <tr>\n",
       "      <th>2</th>\n",
       "      <td>emp-100</td>\n",
       "      <td>0.0</td>\n",
       "      <td>Worked at Company - 562 , Company - 319</td>\n",
       "      <td>2011_12</td>\n",
       "      <td>Senior</td>\n",
       "      <td>1</td>\n",
       "    </tr>\n",
       "    <tr>\n",
       "      <th>3</th>\n",
       "      <td>emp-101</td>\n",
       "      <td>0.0</td>\n",
       "      <td>Worked at Company - 212 , Company - 668 , Comp...</td>\n",
       "      <td>2012_01</td>\n",
       "      <td>Senior</td>\n",
       "      <td>1</td>\n",
       "    </tr>\n",
       "    <tr>\n",
       "      <th>4</th>\n",
       "      <td>emp-102</td>\n",
       "      <td>0.0</td>\n",
       "      <td>Worked at Company - 234</td>\n",
       "      <td>2011_12</td>\n",
       "      <td>Senior</td>\n",
       "      <td>1</td>\n",
       "    </tr>\n",
       "  </tbody>\n",
       "</table>\n",
       "</div>"
      ],
      "text/plain": [
       "  EmployeeID  Left_Company  ... Designation Sex\n",
       "0      emp-1           0.0  ...          MD   1\n",
       "1     emp-10           1.0  ...          VP   0\n",
       "2    emp-100           0.0  ...      Senior   1\n",
       "3    emp-101           0.0  ...      Senior   1\n",
       "4    emp-102           0.0  ...      Senior   1\n",
       "\n",
       "[5 rows x 6 columns]"
      ]
     },
     "execution_count": 19,
     "metadata": {
      "tags": []
     },
     "output_type": "execute_result"
    }
   ],
   "source": [
    "train_emp_data.head()"
   ]
  },
  {
   "cell_type": "code",
   "execution_count": 0,
   "metadata": {
    "colab": {},
    "colab_type": "code",
    "id": "5nl4ijkO6Nsp"
   },
   "outputs": [],
   "source": [
    "train_final = pd.merge(train_emp_data, train_work, on='EmployeeID', how='left')"
   ]
  },
  {
   "cell_type": "code",
   "execution_count": 0,
   "metadata": {
    "colab": {
     "base_uri": "https://localhost:8080/",
     "height": 33
    },
    "colab_type": "code",
    "executionInfo": {
     "elapsed": 8854,
     "status": "ok",
     "timestamp": 1568699993790,
     "user": {
      "displayName": "Raghuvaran Tyson",
      "photoUrl": "https://lh3.googleusercontent.com/a-/AAuE7mBhAZB-htu3DgBaqN_MOdG5zfYZFANwOFvuem7-=s64",
      "userId": "10700062273568709982"
     },
     "user_tz": -330
    },
    "id": "-gLyZFp06gIW",
    "outputId": "5ea4188e-cf15-43ea-8e31-19b3550848e7"
   },
   "outputs": [
    {
     "data": {
      "text/plain": [
       "(3983, 12)"
      ]
     },
     "execution_count": 21,
     "metadata": {
      "tags": []
     },
     "output_type": "execute_result"
    }
   ],
   "source": [
    "train_final.shape"
   ]
  },
  {
   "cell_type": "code",
   "execution_count": 0,
   "metadata": {
    "colab": {
     "base_uri": "https://localhost:8080/",
     "height": 551
    },
    "colab_type": "code",
    "executionInfo": {
     "elapsed": 9390,
     "status": "ok",
     "timestamp": 1568699994335,
     "user": {
      "displayName": "Raghuvaran Tyson",
      "photoUrl": "https://lh3.googleusercontent.com/a-/AAuE7mBhAZB-htu3DgBaqN_MOdG5zfYZFANwOFvuem7-=s64",
      "userId": "10700062273568709982"
     },
     "user_tz": -330
    },
    "id": "n6aZ2V846onv",
    "outputId": "745ece80-2fa8-4f4c-b7d8-e8043c618716"
   },
   "outputs": [
    {
     "data": {
      "text/html": [
       "<div>\n",
       "<style scoped>\n",
       "    .dataframe tbody tr th:only-of-type {\n",
       "        vertical-align: middle;\n",
       "    }\n",
       "\n",
       "    .dataframe tbody tr th {\n",
       "        vertical-align: top;\n",
       "    }\n",
       "\n",
       "    .dataframe thead th {\n",
       "        text-align: right;\n",
       "    }\n",
       "</style>\n",
       "<table border=\"1\" class=\"dataframe\">\n",
       "  <thead>\n",
       "    <tr style=\"text-align: right;\">\n",
       "      <th></th>\n",
       "      <th>EmployeeID</th>\n",
       "      <th>Left_Company</th>\n",
       "      <th>Job_History</th>\n",
       "      <th>Joining_Date</th>\n",
       "      <th>Designation</th>\n",
       "      <th>Sex</th>\n",
       "      <th>TotalWorkingHours</th>\n",
       "      <th>Billable_Hours</th>\n",
       "      <th>Hours_off_Duty</th>\n",
       "      <th>Touring_Hours</th>\n",
       "      <th>NoOfProjects</th>\n",
       "      <th>ActualTimeSpent</th>\n",
       "    </tr>\n",
       "  </thead>\n",
       "  <tbody>\n",
       "    <tr>\n",
       "      <th>0</th>\n",
       "      <td>emp-1</td>\n",
       "      <td>0.0</td>\n",
       "      <td>Worked at Company - 639 , Company - 212 , Comp...</td>\n",
       "      <td>2011_01</td>\n",
       "      <td>MD</td>\n",
       "      <td>1</td>\n",
       "      <td>184.0</td>\n",
       "      <td>144.0</td>\n",
       "      <td>40.0</td>\n",
       "      <td>144.0</td>\n",
       "      <td>3</td>\n",
       "      <td>77</td>\n",
       "    </tr>\n",
       "    <tr>\n",
       "      <th>1</th>\n",
       "      <td>emp-1</td>\n",
       "      <td>0.0</td>\n",
       "      <td>Worked at Company - 639 , Company - 212 , Comp...</td>\n",
       "      <td>2011_01</td>\n",
       "      <td>MD</td>\n",
       "      <td>1</td>\n",
       "      <td>176.0</td>\n",
       "      <td>136.0</td>\n",
       "      <td>40.0</td>\n",
       "      <td>136.0</td>\n",
       "      <td>2</td>\n",
       "      <td>98</td>\n",
       "    </tr>\n",
       "    <tr>\n",
       "      <th>2</th>\n",
       "      <td>emp-1</td>\n",
       "      <td>0.0</td>\n",
       "      <td>Worked at Company - 639 , Company - 212 , Comp...</td>\n",
       "      <td>2011_01</td>\n",
       "      <td>MD</td>\n",
       "      <td>1</td>\n",
       "      <td>200.0</td>\n",
       "      <td>120.0</td>\n",
       "      <td>72.0</td>\n",
       "      <td>120.0</td>\n",
       "      <td>1</td>\n",
       "      <td>14</td>\n",
       "    </tr>\n",
       "    <tr>\n",
       "      <th>3</th>\n",
       "      <td>emp-1</td>\n",
       "      <td>0.0</td>\n",
       "      <td>Worked at Company - 639 , Company - 212 , Comp...</td>\n",
       "      <td>2011_01</td>\n",
       "      <td>MD</td>\n",
       "      <td>1</td>\n",
       "      <td>160.0</td>\n",
       "      <td>144.0</td>\n",
       "      <td>8.0</td>\n",
       "      <td>144.0</td>\n",
       "      <td>3</td>\n",
       "      <td>147</td>\n",
       "    </tr>\n",
       "    <tr>\n",
       "      <th>4</th>\n",
       "      <td>emp-1</td>\n",
       "      <td>0.0</td>\n",
       "      <td>Worked at Company - 639 , Company - 212 , Comp...</td>\n",
       "      <td>2011_01</td>\n",
       "      <td>MD</td>\n",
       "      <td>1</td>\n",
       "      <td>171.0</td>\n",
       "      <td>135.0</td>\n",
       "      <td>0.0</td>\n",
       "      <td>135.0</td>\n",
       "      <td>1</td>\n",
       "      <td>42</td>\n",
       "    </tr>\n",
       "  </tbody>\n",
       "</table>\n",
       "</div>"
      ],
      "text/plain": [
       "  EmployeeID  Left_Company  ... NoOfProjects ActualTimeSpent\n",
       "0      emp-1           0.0  ...            3              77\n",
       "1      emp-1           0.0  ...            2              98\n",
       "2      emp-1           0.0  ...            1              14\n",
       "3      emp-1           0.0  ...            3             147\n",
       "4      emp-1           0.0  ...            1              42\n",
       "\n",
       "[5 rows x 12 columns]"
      ]
     },
     "execution_count": 22,
     "metadata": {
      "tags": []
     },
     "output_type": "execute_result"
    }
   ],
   "source": [
    "train_final.head()"
   ]
  },
  {
   "cell_type": "code",
   "execution_count": 0,
   "metadata": {
    "colab": {},
    "colab_type": "code",
    "id": "33y7nyaa6w6_"
   },
   "outputs": [],
   "source": [
    "#considering only the columns in the train_attrition using groupby  & agg function.\n",
    "train = train_final.groupby('EmployeeID').agg('max')"
   ]
  },
  {
   "cell_type": "code",
   "execution_count": 0,
   "metadata": {
    "colab": {
     "base_uri": "https://localhost:8080/",
     "height": 547
    },
    "colab_type": "code",
    "executionInfo": {
     "elapsed": 9378,
     "status": "ok",
     "timestamp": 1568699994338,
     "user": {
      "displayName": "Raghuvaran Tyson",
      "photoUrl": "https://lh3.googleusercontent.com/a-/AAuE7mBhAZB-htu3DgBaqN_MOdG5zfYZFANwOFvuem7-=s64",
      "userId": "10700062273568709982"
     },
     "user_tz": -330
    },
    "id": "BKyuLLwo8P9X",
    "outputId": "c9480e86-6492-4f0b-d899-6cab9250df22"
   },
   "outputs": [
    {
     "data": {
      "text/html": [
       "<div>\n",
       "<style scoped>\n",
       "    .dataframe tbody tr th:only-of-type {\n",
       "        vertical-align: middle;\n",
       "    }\n",
       "\n",
       "    .dataframe tbody tr th {\n",
       "        vertical-align: top;\n",
       "    }\n",
       "\n",
       "    .dataframe thead th {\n",
       "        text-align: right;\n",
       "    }\n",
       "</style>\n",
       "<table border=\"1\" class=\"dataframe\">\n",
       "  <thead>\n",
       "    <tr style=\"text-align: right;\">\n",
       "      <th></th>\n",
       "      <th>Left_Company</th>\n",
       "      <th>Job_History</th>\n",
       "      <th>Joining_Date</th>\n",
       "      <th>Designation</th>\n",
       "      <th>Sex</th>\n",
       "      <th>TotalWorkingHours</th>\n",
       "      <th>Billable_Hours</th>\n",
       "      <th>Hours_off_Duty</th>\n",
       "      <th>Touring_Hours</th>\n",
       "      <th>NoOfProjects</th>\n",
       "      <th>ActualTimeSpent</th>\n",
       "    </tr>\n",
       "    <tr>\n",
       "      <th>EmployeeID</th>\n",
       "      <th></th>\n",
       "      <th></th>\n",
       "      <th></th>\n",
       "      <th></th>\n",
       "      <th></th>\n",
       "      <th></th>\n",
       "      <th></th>\n",
       "      <th></th>\n",
       "      <th></th>\n",
       "      <th></th>\n",
       "      <th></th>\n",
       "    </tr>\n",
       "  </thead>\n",
       "  <tbody>\n",
       "    <tr>\n",
       "      <th>emp-1</th>\n",
       "      <td>0.0</td>\n",
       "      <td>Worked at Company - 639 , Company - 212 , Comp...</td>\n",
       "      <td>2011_01</td>\n",
       "      <td>MD</td>\n",
       "      <td>1</td>\n",
       "      <td>205.0</td>\n",
       "      <td>189.0</td>\n",
       "      <td>72.0</td>\n",
       "      <td>189.0</td>\n",
       "      <td>3</td>\n",
       "      <td>231</td>\n",
       "    </tr>\n",
       "    <tr>\n",
       "      <th>emp-10</th>\n",
       "      <td>1.0</td>\n",
       "      <td>Worked at Company - 816 , Company - 724 , Comp...</td>\n",
       "      <td>2006_02</td>\n",
       "      <td>VP</td>\n",
       "      <td>0</td>\n",
       "      <td>241.0</td>\n",
       "      <td>233.0</td>\n",
       "      <td>120.0</td>\n",
       "      <td>186.0</td>\n",
       "      <td>2</td>\n",
       "      <td>147</td>\n",
       "    </tr>\n",
       "    <tr>\n",
       "      <th>emp-100</th>\n",
       "      <td>0.0</td>\n",
       "      <td>Worked at Company - 562 , Company - 319</td>\n",
       "      <td>2011_12</td>\n",
       "      <td>Senior</td>\n",
       "      <td>1</td>\n",
       "      <td>278.0</td>\n",
       "      <td>264.0</td>\n",
       "      <td>40.0</td>\n",
       "      <td>264.0</td>\n",
       "      <td>3</td>\n",
       "      <td>308</td>\n",
       "    </tr>\n",
       "    <tr>\n",
       "      <th>emp-101</th>\n",
       "      <td>0.0</td>\n",
       "      <td>Worked at Company - 212 , Company - 668 , Comp...</td>\n",
       "      <td>2012_01</td>\n",
       "      <td>Senior</td>\n",
       "      <td>1</td>\n",
       "      <td>345.5</td>\n",
       "      <td>233.5</td>\n",
       "      <td>64.0</td>\n",
       "      <td>0.0</td>\n",
       "      <td>2</td>\n",
       "      <td>217</td>\n",
       "    </tr>\n",
       "    <tr>\n",
       "      <th>emp-102</th>\n",
       "      <td>0.0</td>\n",
       "      <td>Worked at Company - 234</td>\n",
       "      <td>2011_12</td>\n",
       "      <td>Senior</td>\n",
       "      <td>1</td>\n",
       "      <td>270.0</td>\n",
       "      <td>249.0</td>\n",
       "      <td>88.0</td>\n",
       "      <td>213.0</td>\n",
       "      <td>2</td>\n",
       "      <td>231</td>\n",
       "    </tr>\n",
       "  </tbody>\n",
       "</table>\n",
       "</div>"
      ],
      "text/plain": [
       "            Left_Company  ... ActualTimeSpent\n",
       "EmployeeID                ...                \n",
       "emp-1                0.0  ...             231\n",
       "emp-10               1.0  ...             147\n",
       "emp-100              0.0  ...             308\n",
       "emp-101              0.0  ...             217\n",
       "emp-102              0.0  ...             231\n",
       "\n",
       "[5 rows x 11 columns]"
      ]
     },
     "execution_count": 24,
     "metadata": {
      "tags": []
     },
     "output_type": "execute_result"
    }
   ],
   "source": [
    "train.head()"
   ]
  },
  {
   "cell_type": "code",
   "execution_count": 0,
   "metadata": {
    "colab": {
     "base_uri": "https://localhost:8080/",
     "height": 33
    },
    "colab_type": "code",
    "executionInfo": {
     "elapsed": 9369,
     "status": "ok",
     "timestamp": 1568699994340,
     "user": {
      "displayName": "Raghuvaran Tyson",
      "photoUrl": "https://lh3.googleusercontent.com/a-/AAuE7mBhAZB-htu3DgBaqN_MOdG5zfYZFANwOFvuem7-=s64",
      "userId": "10700062273568709982"
     },
     "user_tz": -330
    },
    "id": "nkdY9b9V8RXT",
    "outputId": "a2a5e45a-3974-458a-ee8e-06c08fec0048"
   },
   "outputs": [
    {
     "data": {
      "text/plain": [
       "(245, 11)"
      ]
     },
     "execution_count": 25,
     "metadata": {
      "tags": []
     },
     "output_type": "execute_result"
    }
   ],
   "source": [
    "train.shape"
   ]
  },
  {
   "cell_type": "markdown",
   "metadata": {
    "colab_type": "text",
    "id": "8YFhOsCTsV5u"
   },
   "source": [
    "## Merging the test data into Single data frame. "
   ]
  },
  {
   "cell_type": "code",
   "execution_count": 0,
   "metadata": {
    "colab": {},
    "colab_type": "code",
    "id": "sTgr78h8827i"
   },
   "outputs": [],
   "source": [
    "#merging the test data \n",
    "\n",
    "test_emp_data = pd.merge(test_attrition, emp_data, how='left', on='EmployeeID')\n"
   ]
  },
  {
   "cell_type": "code",
   "execution_count": 0,
   "metadata": {
    "colab": {
     "base_uri": "https://localhost:8080/",
     "height": 196
    },
    "colab_type": "code",
    "executionInfo": {
     "elapsed": 9359,
     "status": "ok",
     "timestamp": 1568699994343,
     "user": {
      "displayName": "Raghuvaran Tyson",
      "photoUrl": "https://lh3.googleusercontent.com/a-/AAuE7mBhAZB-htu3DgBaqN_MOdG5zfYZFANwOFvuem7-=s64",
      "userId": "10700062273568709982"
     },
     "user_tz": -330
    },
    "id": "ooIridVM-liQ",
    "outputId": "5ef5f33e-8df7-4c51-e6c4-5313256c7cdf"
   },
   "outputs": [
    {
     "data": {
      "text/html": [
       "<div>\n",
       "<style scoped>\n",
       "    .dataframe tbody tr th:only-of-type {\n",
       "        vertical-align: middle;\n",
       "    }\n",
       "\n",
       "    .dataframe tbody tr th {\n",
       "        vertical-align: top;\n",
       "    }\n",
       "\n",
       "    .dataframe thead th {\n",
       "        text-align: right;\n",
       "    }\n",
       "</style>\n",
       "<table border=\"1\" class=\"dataframe\">\n",
       "  <thead>\n",
       "    <tr style=\"text-align: right;\">\n",
       "      <th></th>\n",
       "      <th>EmployeeID</th>\n",
       "      <th>Left_Company</th>\n",
       "      <th>Job_History</th>\n",
       "      <th>Joining_Date</th>\n",
       "      <th>Designation</th>\n",
       "      <th>Sex</th>\n",
       "    </tr>\n",
       "  </thead>\n",
       "  <tbody>\n",
       "    <tr>\n",
       "      <th>0</th>\n",
       "      <td>emp-106</td>\n",
       "      <td>NaN</td>\n",
       "      <td>Worked at Company - 510 , Company - 658 , Comp...</td>\n",
       "      <td>2012_01</td>\n",
       "      <td>Senior</td>\n",
       "      <td>0</td>\n",
       "    </tr>\n",
       "    <tr>\n",
       "      <th>1</th>\n",
       "      <td>emp-112</td>\n",
       "      <td>NaN</td>\n",
       "      <td>Worked at Company - 42 , Company - 432 , Compa...</td>\n",
       "      <td>2012_02</td>\n",
       "      <td>VP</td>\n",
       "      <td>1</td>\n",
       "    </tr>\n",
       "    <tr>\n",
       "      <th>2</th>\n",
       "      <td>emp-114</td>\n",
       "      <td>NaN</td>\n",
       "      <td>Worked at Company - 99 , Company - 88 , Compan...</td>\n",
       "      <td>2012_02</td>\n",
       "      <td>EVP</td>\n",
       "      <td>1</td>\n",
       "    </tr>\n",
       "    <tr>\n",
       "      <th>3</th>\n",
       "      <td>emp-118</td>\n",
       "      <td>NaN</td>\n",
       "      <td>Worked at Company - 554 , Company - 304</td>\n",
       "      <td>2012_04</td>\n",
       "      <td>EVP</td>\n",
       "      <td>1</td>\n",
       "    </tr>\n",
       "    <tr>\n",
       "      <th>4</th>\n",
       "      <td>emp-12</td>\n",
       "      <td>NaN</td>\n",
       "      <td>Worked at Company - 548 , Company - 405</td>\n",
       "      <td>2006_09</td>\n",
       "      <td>VP</td>\n",
       "      <td>1</td>\n",
       "    </tr>\n",
       "  </tbody>\n",
       "</table>\n",
       "</div>"
      ],
      "text/plain": [
       "  EmployeeID  Left_Company  ... Designation Sex\n",
       "0    emp-106           NaN  ...      Senior   0\n",
       "1    emp-112           NaN  ...          VP   1\n",
       "2    emp-114           NaN  ...         EVP   1\n",
       "3    emp-118           NaN  ...         EVP   1\n",
       "4     emp-12           NaN  ...          VP   1\n",
       "\n",
       "[5 rows x 6 columns]"
      ]
     },
     "execution_count": 27,
     "metadata": {
      "tags": []
     },
     "output_type": "execute_result"
    }
   ],
   "source": [
    "test_emp_data.head()"
   ]
  },
  {
   "cell_type": "code",
   "execution_count": 0,
   "metadata": {
    "colab": {},
    "colab_type": "code",
    "id": "FjrQfxM9-myk"
   },
   "outputs": [],
   "source": [
    "test_final = pd.merge(test_emp_data,test_work, how='left', on='EmployeeID')"
   ]
  },
  {
   "cell_type": "code",
   "execution_count": 0,
   "metadata": {
    "colab": {
     "base_uri": "https://localhost:8080/",
     "height": 551
    },
    "colab_type": "code",
    "executionInfo": {
     "elapsed": 9351,
     "status": "ok",
     "timestamp": 1568699994347,
     "user": {
      "displayName": "Raghuvaran Tyson",
      "photoUrl": "https://lh3.googleusercontent.com/a-/AAuE7mBhAZB-htu3DgBaqN_MOdG5zfYZFANwOFvuem7-=s64",
      "userId": "10700062273568709982"
     },
     "user_tz": -330
    },
    "id": "R3BGs6GJ_S5m",
    "outputId": "66ef0ba1-1ac6-4fb0-ff80-a647446bd7d1"
   },
   "outputs": [
    {
     "data": {
      "text/html": [
       "<div>\n",
       "<style scoped>\n",
       "    .dataframe tbody tr th:only-of-type {\n",
       "        vertical-align: middle;\n",
       "    }\n",
       "\n",
       "    .dataframe tbody tr th {\n",
       "        vertical-align: top;\n",
       "    }\n",
       "\n",
       "    .dataframe thead th {\n",
       "        text-align: right;\n",
       "    }\n",
       "</style>\n",
       "<table border=\"1\" class=\"dataframe\">\n",
       "  <thead>\n",
       "    <tr style=\"text-align: right;\">\n",
       "      <th></th>\n",
       "      <th>EmployeeID</th>\n",
       "      <th>Left_Company</th>\n",
       "      <th>Job_History</th>\n",
       "      <th>Joining_Date</th>\n",
       "      <th>Designation</th>\n",
       "      <th>Sex</th>\n",
       "      <th>TotalWorkingHours</th>\n",
       "      <th>Billable_Hours</th>\n",
       "      <th>Hours_off_Duty</th>\n",
       "      <th>Touring_Hours</th>\n",
       "      <th>NoOfProjects</th>\n",
       "      <th>ActualTimeSpent</th>\n",
       "    </tr>\n",
       "  </thead>\n",
       "  <tbody>\n",
       "    <tr>\n",
       "      <th>0</th>\n",
       "      <td>emp-106</td>\n",
       "      <td>NaN</td>\n",
       "      <td>Worked at Company - 510 , Company - 658 , Comp...</td>\n",
       "      <td>2012_01</td>\n",
       "      <td>Senior</td>\n",
       "      <td>0</td>\n",
       "      <td>96.0</td>\n",
       "      <td>16.0</td>\n",
       "      <td>40.0</td>\n",
       "      <td>2.0</td>\n",
       "      <td>2</td>\n",
       "      <td>42</td>\n",
       "    </tr>\n",
       "    <tr>\n",
       "      <th>1</th>\n",
       "      <td>emp-106</td>\n",
       "      <td>NaN</td>\n",
       "      <td>Worked at Company - 510 , Company - 658 , Comp...</td>\n",
       "      <td>2012_01</td>\n",
       "      <td>Senior</td>\n",
       "      <td>0</td>\n",
       "      <td>80.0</td>\n",
       "      <td>0.0</td>\n",
       "      <td>8.0</td>\n",
       "      <td>0.0</td>\n",
       "      <td>0</td>\n",
       "      <td>0</td>\n",
       "    </tr>\n",
       "    <tr>\n",
       "      <th>2</th>\n",
       "      <td>emp-106</td>\n",
       "      <td>NaN</td>\n",
       "      <td>Worked at Company - 510 , Company - 658 , Comp...</td>\n",
       "      <td>2012_01</td>\n",
       "      <td>Senior</td>\n",
       "      <td>0</td>\n",
       "      <td>200.0</td>\n",
       "      <td>16.0</td>\n",
       "      <td>0.0</td>\n",
       "      <td>0.0</td>\n",
       "      <td>1</td>\n",
       "      <td>0</td>\n",
       "    </tr>\n",
       "    <tr>\n",
       "      <th>3</th>\n",
       "      <td>emp-106</td>\n",
       "      <td>NaN</td>\n",
       "      <td>Worked at Company - 510 , Company - 658 , Comp...</td>\n",
       "      <td>2012_01</td>\n",
       "      <td>Senior</td>\n",
       "      <td>0</td>\n",
       "      <td>165.0</td>\n",
       "      <td>114.0</td>\n",
       "      <td>40.0</td>\n",
       "      <td>0.0</td>\n",
       "      <td>1</td>\n",
       "      <td>28</td>\n",
       "    </tr>\n",
       "    <tr>\n",
       "      <th>4</th>\n",
       "      <td>emp-106</td>\n",
       "      <td>NaN</td>\n",
       "      <td>Worked at Company - 510 , Company - 658 , Comp...</td>\n",
       "      <td>2012_01</td>\n",
       "      <td>Senior</td>\n",
       "      <td>0</td>\n",
       "      <td>251.0</td>\n",
       "      <td>219.0</td>\n",
       "      <td>8.0</td>\n",
       "      <td>0.0</td>\n",
       "      <td>1</td>\n",
       "      <td>63</td>\n",
       "    </tr>\n",
       "  </tbody>\n",
       "</table>\n",
       "</div>"
      ],
      "text/plain": [
       "  EmployeeID  Left_Company  ... NoOfProjects ActualTimeSpent\n",
       "0    emp-106           NaN  ...            2              42\n",
       "1    emp-106           NaN  ...            0               0\n",
       "2    emp-106           NaN  ...            1               0\n",
       "3    emp-106           NaN  ...            1              28\n",
       "4    emp-106           NaN  ...            1              63\n",
       "\n",
       "[5 rows x 12 columns]"
      ]
     },
     "execution_count": 29,
     "metadata": {
      "tags": []
     },
     "output_type": "execute_result"
    }
   ],
   "source": [
    "test_final.head()"
   ]
  },
  {
   "cell_type": "code",
   "execution_count": 0,
   "metadata": {
    "colab": {},
    "colab_type": "code",
    "id": "o1ueB6oW_Xw8"
   },
   "outputs": [],
   "source": [
    "#using Groupby & agg functin merging the column based on the sample submission data.\n",
    "test = test_final.groupby(by='EmployeeID').agg('max')"
   ]
  },
  {
   "cell_type": "code",
   "execution_count": 0,
   "metadata": {
    "colab": {
     "base_uri": "https://localhost:8080/",
     "height": 33
    },
    "colab_type": "code",
    "executionInfo": {
     "elapsed": 9342,
     "status": "ok",
     "timestamp": 1568699994352,
     "user": {
      "displayName": "Raghuvaran Tyson",
      "photoUrl": "https://lh3.googleusercontent.com/a-/AAuE7mBhAZB-htu3DgBaqN_MOdG5zfYZFANwOFvuem7-=s64",
      "userId": "10700062273568709982"
     },
     "user_tz": -330
    },
    "id": "ie22m6f5_exL",
    "outputId": "90b2cacb-8fc7-47b8-d79f-375cd566f807"
   },
   "outputs": [
    {
     "data": {
      "text/plain": [
       "(51, 11)"
      ]
     },
     "execution_count": 31,
     "metadata": {
      "tags": []
     },
     "output_type": "execute_result"
    }
   ],
   "source": [
    "test.shape"
   ]
  },
  {
   "cell_type": "markdown",
   "metadata": {
    "colab_type": "text",
    "id": "ZdZP-tu6sf-S"
   },
   "source": []
  },
  {
   "cell_type": "code",
   "execution_count": 0,
   "metadata": {
    "colab": {},
    "colab_type": "code",
    "id": "WcmcJdTi_ucv"
   },
   "outputs": [],
   "source": [
    "#Writing the files into csv for furter use \n",
    "train.to_csv(\"train.csv\", index=True)\n",
    "test.to_csv(\"test.csv\", index=True)"
   ]
  },
  {
   "cell_type": "code",
   "execution_count": 0,
   "metadata": {
    "colab": {},
    "colab_type": "code",
    "id": "Kkq2CIUes67z"
   },
   "outputs": [],
   "source": []
  },
  {
   "cell_type": "markdown",
   "metadata": {
    "colab_type": "text",
    "id": "S3xYmBv1tBpq"
   },
   "source": [
    "# Feature Engineering"
   ]
  },
  {
   "cell_type": "code",
   "execution_count": 0,
   "metadata": {
    "colab": {},
    "colab_type": "code",
    "id": "CpnabCaMtuUs"
   },
   "outputs": [],
   "source": [
    "train_final = pd.read_csv(\"/content/train.csv\")\n",
    "test_final = pd.read_csv(\"/content/test.csv\")"
   ]
  },
  {
   "cell_type": "code",
   "execution_count": 0,
   "metadata": {
    "colab": {
     "base_uri": "https://localhost:8080/",
     "height": 84
    },
    "colab_type": "code",
    "executionInfo": {
     "elapsed": 9329,
     "status": "ok",
     "timestamp": 1568699994361,
     "user": {
      "displayName": "Raghuvaran Tyson",
      "photoUrl": "https://lh3.googleusercontent.com/a-/AAuE7mBhAZB-htu3DgBaqN_MOdG5zfYZFANwOFvuem7-=s64",
      "userId": "10700062273568709982"
     },
     "user_tz": -330
    },
    "id": "PaZ5QhomtEPN",
    "outputId": "8a3e364b-8a39-4b4a-9930-25c168487469"
   },
   "outputs": [
    {
     "name": "stdout",
     "output_type": "stream",
     "text": [
      "Index(['EmployeeID', 'Left_Company', 'Job_History', 'Joining_Date',\n",
      "       'Designation', 'Sex', 'TotalWorkingHours', 'Billable_Hours',\n",
      "       'Hours_off_Duty', 'Touring_Hours', 'NoOfProjects', 'ActualTimeSpent'],\n",
      "      dtype='object')\n"
     ]
    }
   ],
   "source": [
    "#Get the list of column in the training data\n",
    "print((train_final.columns))"
   ]
  },
  {
   "cell_type": "code",
   "execution_count": 0,
   "metadata": {
    "colab": {
     "base_uri": "https://localhost:8080/",
     "height": 84
    },
    "colab_type": "code",
    "executionInfo": {
     "elapsed": 9322,
     "status": "ok",
     "timestamp": 1568699994366,
     "user": {
      "displayName": "Raghuvaran Tyson",
      "photoUrl": "https://lh3.googleusercontent.com/a-/AAuE7mBhAZB-htu3DgBaqN_MOdG5zfYZFANwOFvuem7-=s64",
      "userId": "10700062273568709982"
     },
     "user_tz": -330
    },
    "id": "49f31zs_uCeg",
    "outputId": "f1fcc2ab-01b3-45c8-9edc-f2aad3ba0a88"
   },
   "outputs": [
    {
     "name": "stdout",
     "output_type": "stream",
     "text": [
      "Index(['EmployeeID', 'Left_Company', 'Job_History', 'Joining_Date',\n",
      "       'Designation', 'Sex', 'TotalWorkingHours', 'Billable_Hours',\n",
      "       'Hours_off_Duty', 'Touring_Hours', 'NoOfProjects', 'ActualTimeSpent'],\n",
      "      dtype='object')\n"
     ]
    }
   ],
   "source": [
    "print(test_final.columns)"
   ]
  },
  {
   "cell_type": "code",
   "execution_count": 0,
   "metadata": {
    "colab": {},
    "colab_type": "code",
    "id": "iwD-9eFitG1i"
   },
   "outputs": [],
   "source": [
    "#Dropping the unwanted columns in the data\n",
    "train_final.drop(columns=['EmployeeID'], axis=1,inplace=True)\n",
    "test_final.drop(columns=['EmployeeID','Left_Company'], axis=1, inplace=True)"
   ]
  },
  {
   "cell_type": "code",
   "execution_count": 0,
   "metadata": {
    "colab": {
     "base_uri": "https://localhost:8080/",
     "height": 50
    },
    "colab_type": "code",
    "executionInfo": {
     "elapsed": 9312,
     "status": "ok",
     "timestamp": 1568699994370,
     "user": {
      "displayName": "Raghuvaran Tyson",
      "photoUrl": "https://lh3.googleusercontent.com/a-/AAuE7mBhAZB-htu3DgBaqN_MOdG5zfYZFANwOFvuem7-=s64",
      "userId": "10700062273568709982"
     },
     "user_tz": -330
    },
    "id": "-G5WHHesur3o",
    "outputId": "2074fe8e-080e-48ae-d6b9-6cdf9ad6708b"
   },
   "outputs": [
    {
     "name": "stdout",
     "output_type": "stream",
     "text": [
      "Train data shape : (245, 11) \n",
      "Test data shape: (51, 10) \n"
     ]
    }
   ],
   "source": [
    "print(\"Train data shape : {} \" .format(train_final.shape))\n",
    "print(\"Test data shape: {} \".format(test_final.shape))"
   ]
  },
  {
   "cell_type": "code",
   "execution_count": 0,
   "metadata": {
    "colab": {
     "base_uri": "https://localhost:8080/",
     "height": 517
    },
    "colab_type": "code",
    "executionInfo": {
     "elapsed": 9305,
     "status": "ok",
     "timestamp": 1568699994373,
     "user": {
      "displayName": "Raghuvaran Tyson",
      "photoUrl": "https://lh3.googleusercontent.com/a-/AAuE7mBhAZB-htu3DgBaqN_MOdG5zfYZFANwOFvuem7-=s64",
      "userId": "10700062273568709982"
     },
     "user_tz": -330
    },
    "id": "0NlhIhW-vDEF",
    "outputId": "981451ff-a1e7-4d9e-92e3-5de1f25cafce"
   },
   "outputs": [
    {
     "data": {
      "text/html": [
       "<div>\n",
       "<style scoped>\n",
       "    .dataframe tbody tr th:only-of-type {\n",
       "        vertical-align: middle;\n",
       "    }\n",
       "\n",
       "    .dataframe tbody tr th {\n",
       "        vertical-align: top;\n",
       "    }\n",
       "\n",
       "    .dataframe thead th {\n",
       "        text-align: right;\n",
       "    }\n",
       "</style>\n",
       "<table border=\"1\" class=\"dataframe\">\n",
       "  <thead>\n",
       "    <tr style=\"text-align: right;\">\n",
       "      <th></th>\n",
       "      <th>Left_Company</th>\n",
       "      <th>Job_History</th>\n",
       "      <th>Joining_Date</th>\n",
       "      <th>Designation</th>\n",
       "      <th>Sex</th>\n",
       "      <th>TotalWorkingHours</th>\n",
       "      <th>Billable_Hours</th>\n",
       "      <th>Hours_off_Duty</th>\n",
       "      <th>Touring_Hours</th>\n",
       "      <th>NoOfProjects</th>\n",
       "      <th>ActualTimeSpent</th>\n",
       "    </tr>\n",
       "  </thead>\n",
       "  <tbody>\n",
       "    <tr>\n",
       "      <th>0</th>\n",
       "      <td>0.0</td>\n",
       "      <td>Worked at Company - 639 , Company - 212 , Comp...</td>\n",
       "      <td>2011_01</td>\n",
       "      <td>MD</td>\n",
       "      <td>1</td>\n",
       "      <td>205.0</td>\n",
       "      <td>189.0</td>\n",
       "      <td>72.0</td>\n",
       "      <td>189.0</td>\n",
       "      <td>3</td>\n",
       "      <td>231</td>\n",
       "    </tr>\n",
       "    <tr>\n",
       "      <th>1</th>\n",
       "      <td>1.0</td>\n",
       "      <td>Worked at Company - 816 , Company - 724 , Comp...</td>\n",
       "      <td>2006_02</td>\n",
       "      <td>VP</td>\n",
       "      <td>0</td>\n",
       "      <td>241.0</td>\n",
       "      <td>233.0</td>\n",
       "      <td>120.0</td>\n",
       "      <td>186.0</td>\n",
       "      <td>2</td>\n",
       "      <td>147</td>\n",
       "    </tr>\n",
       "    <tr>\n",
       "      <th>2</th>\n",
       "      <td>0.0</td>\n",
       "      <td>Worked at Company - 562 , Company - 319</td>\n",
       "      <td>2011_12</td>\n",
       "      <td>Senior</td>\n",
       "      <td>1</td>\n",
       "      <td>278.0</td>\n",
       "      <td>264.0</td>\n",
       "      <td>40.0</td>\n",
       "      <td>264.0</td>\n",
       "      <td>3</td>\n",
       "      <td>308</td>\n",
       "    </tr>\n",
       "    <tr>\n",
       "      <th>3</th>\n",
       "      <td>0.0</td>\n",
       "      <td>Worked at Company - 212 , Company - 668 , Comp...</td>\n",
       "      <td>2012_01</td>\n",
       "      <td>Senior</td>\n",
       "      <td>1</td>\n",
       "      <td>345.5</td>\n",
       "      <td>233.5</td>\n",
       "      <td>64.0</td>\n",
       "      <td>0.0</td>\n",
       "      <td>2</td>\n",
       "      <td>217</td>\n",
       "    </tr>\n",
       "    <tr>\n",
       "      <th>4</th>\n",
       "      <td>0.0</td>\n",
       "      <td>Worked at Company - 234</td>\n",
       "      <td>2011_12</td>\n",
       "      <td>Senior</td>\n",
       "      <td>1</td>\n",
       "      <td>270.0</td>\n",
       "      <td>249.0</td>\n",
       "      <td>88.0</td>\n",
       "      <td>213.0</td>\n",
       "      <td>2</td>\n",
       "      <td>231</td>\n",
       "    </tr>\n",
       "  </tbody>\n",
       "</table>\n",
       "</div>"
      ],
      "text/plain": [
       "   Left_Company  ... ActualTimeSpent\n",
       "0           0.0  ...             231\n",
       "1           1.0  ...             147\n",
       "2           0.0  ...             308\n",
       "3           0.0  ...             217\n",
       "4           0.0  ...             231\n",
       "\n",
       "[5 rows x 11 columns]"
      ]
     },
     "execution_count": 38,
     "metadata": {
      "tags": []
     },
     "output_type": "execute_result"
    }
   ],
   "source": [
    "train_final.head()"
   ]
  },
  {
   "cell_type": "code",
   "execution_count": 0,
   "metadata": {
    "colab": {},
    "colab_type": "code",
    "id": "uJmibMorvjr3"
   },
   "outputs": [],
   "source": [
    "# Splitting the Joining_date column into Joining year & Joining month.\n",
    "\n",
    "#convert on training data. \n",
    "train_final[['joining_year','joining_month']] = train_final['Joining_Date'].str.split(\"_\", expand=True)\n",
    "\n",
    "#convert on test data\n",
    "test_final[['joining_year','joining_month']] = test_final['Joining_Date'].str.split(\"_\", expand=True)"
   ]
  },
  {
   "cell_type": "code",
   "execution_count": 0,
   "metadata": {
    "colab": {
     "base_uri": "https://localhost:8080/",
     "height": 517
    },
    "colab_type": "code",
    "executionInfo": {
     "elapsed": 9290,
     "status": "ok",
     "timestamp": 1568699994376,
     "user": {
      "displayName": "Raghuvaran Tyson",
      "photoUrl": "https://lh3.googleusercontent.com/a-/AAuE7mBhAZB-htu3DgBaqN_MOdG5zfYZFANwOFvuem7-=s64",
      "userId": "10700062273568709982"
     },
     "user_tz": -330
    },
    "id": "bSqZCHwWwAfC",
    "outputId": "7af2f1b0-310a-46ee-e2ad-270ad5d632fd"
   },
   "outputs": [
    {
     "data": {
      "text/html": [
       "<div>\n",
       "<style scoped>\n",
       "    .dataframe tbody tr th:only-of-type {\n",
       "        vertical-align: middle;\n",
       "    }\n",
       "\n",
       "    .dataframe tbody tr th {\n",
       "        vertical-align: top;\n",
       "    }\n",
       "\n",
       "    .dataframe thead th {\n",
       "        text-align: right;\n",
       "    }\n",
       "</style>\n",
       "<table border=\"1\" class=\"dataframe\">\n",
       "  <thead>\n",
       "    <tr style=\"text-align: right;\">\n",
       "      <th></th>\n",
       "      <th>Left_Company</th>\n",
       "      <th>Job_History</th>\n",
       "      <th>Joining_Date</th>\n",
       "      <th>Designation</th>\n",
       "      <th>Sex</th>\n",
       "      <th>TotalWorkingHours</th>\n",
       "      <th>Billable_Hours</th>\n",
       "      <th>Hours_off_Duty</th>\n",
       "      <th>Touring_Hours</th>\n",
       "      <th>NoOfProjects</th>\n",
       "      <th>ActualTimeSpent</th>\n",
       "      <th>joining_year</th>\n",
       "      <th>joining_month</th>\n",
       "    </tr>\n",
       "  </thead>\n",
       "  <tbody>\n",
       "    <tr>\n",
       "      <th>0</th>\n",
       "      <td>0.0</td>\n",
       "      <td>Worked at Company - 639 , Company - 212 , Comp...</td>\n",
       "      <td>2011_01</td>\n",
       "      <td>MD</td>\n",
       "      <td>1</td>\n",
       "      <td>205.0</td>\n",
       "      <td>189.0</td>\n",
       "      <td>72.0</td>\n",
       "      <td>189.0</td>\n",
       "      <td>3</td>\n",
       "      <td>231</td>\n",
       "      <td>2011</td>\n",
       "      <td>01</td>\n",
       "    </tr>\n",
       "    <tr>\n",
       "      <th>1</th>\n",
       "      <td>1.0</td>\n",
       "      <td>Worked at Company - 816 , Company - 724 , Comp...</td>\n",
       "      <td>2006_02</td>\n",
       "      <td>VP</td>\n",
       "      <td>0</td>\n",
       "      <td>241.0</td>\n",
       "      <td>233.0</td>\n",
       "      <td>120.0</td>\n",
       "      <td>186.0</td>\n",
       "      <td>2</td>\n",
       "      <td>147</td>\n",
       "      <td>2006</td>\n",
       "      <td>02</td>\n",
       "    </tr>\n",
       "    <tr>\n",
       "      <th>2</th>\n",
       "      <td>0.0</td>\n",
       "      <td>Worked at Company - 562 , Company - 319</td>\n",
       "      <td>2011_12</td>\n",
       "      <td>Senior</td>\n",
       "      <td>1</td>\n",
       "      <td>278.0</td>\n",
       "      <td>264.0</td>\n",
       "      <td>40.0</td>\n",
       "      <td>264.0</td>\n",
       "      <td>3</td>\n",
       "      <td>308</td>\n",
       "      <td>2011</td>\n",
       "      <td>12</td>\n",
       "    </tr>\n",
       "    <tr>\n",
       "      <th>3</th>\n",
       "      <td>0.0</td>\n",
       "      <td>Worked at Company - 212 , Company - 668 , Comp...</td>\n",
       "      <td>2012_01</td>\n",
       "      <td>Senior</td>\n",
       "      <td>1</td>\n",
       "      <td>345.5</td>\n",
       "      <td>233.5</td>\n",
       "      <td>64.0</td>\n",
       "      <td>0.0</td>\n",
       "      <td>2</td>\n",
       "      <td>217</td>\n",
       "      <td>2012</td>\n",
       "      <td>01</td>\n",
       "    </tr>\n",
       "    <tr>\n",
       "      <th>4</th>\n",
       "      <td>0.0</td>\n",
       "      <td>Worked at Company - 234</td>\n",
       "      <td>2011_12</td>\n",
       "      <td>Senior</td>\n",
       "      <td>1</td>\n",
       "      <td>270.0</td>\n",
       "      <td>249.0</td>\n",
       "      <td>88.0</td>\n",
       "      <td>213.0</td>\n",
       "      <td>2</td>\n",
       "      <td>231</td>\n",
       "      <td>2011</td>\n",
       "      <td>12</td>\n",
       "    </tr>\n",
       "  </tbody>\n",
       "</table>\n",
       "</div>"
      ],
      "text/plain": [
       "   Left_Company  ... joining_month\n",
       "0           0.0  ...            01\n",
       "1           1.0  ...            02\n",
       "2           0.0  ...            12\n",
       "3           0.0  ...            01\n",
       "4           0.0  ...            12\n",
       "\n",
       "[5 rows x 13 columns]"
      ]
     },
     "execution_count": 40,
     "metadata": {
      "tags": []
     },
     "output_type": "execute_result"
    }
   ],
   "source": [
    "#check if it has been converted\n",
    "train_final.head()"
   ]
  },
  {
   "cell_type": "code",
   "execution_count": 0,
   "metadata": {
    "colab": {},
    "colab_type": "code",
    "id": "xxsA1B7Xsusm"
   },
   "outputs": [],
   "source": [
    "train_final['job_count'] = train_final['Job_History'].str.split(',').str.len()\n",
    "\n",
    "test_final['job_count'] = test_final['Job_History'].str.split(',').str.len()"
   ]
  },
  {
   "cell_type": "code",
   "execution_count": 0,
   "metadata": {
    "colab": {},
    "colab_type": "code",
    "id": "vtXAUQcb4ihD"
   },
   "outputs": [],
   "source": [
    "#drop the Joining date column in train & test data\n",
    "\n",
    "train_final.drop(columns=['Joining_Date'], axis=1, inplace=True)\n",
    "\n",
    "\n",
    "test_final.drop(columns=['Joining_Date'], axis=1, inplace=True)"
   ]
  },
  {
   "cell_type": "code",
   "execution_count": 0,
   "metadata": {
    "colab": {
     "base_uri": "https://localhost:8080/",
     "height": 517
    },
    "colab_type": "code",
    "executionInfo": {
     "elapsed": 9280,
     "status": "ok",
     "timestamp": 1568699994384,
     "user": {
      "displayName": "Raghuvaran Tyson",
      "photoUrl": "https://lh3.googleusercontent.com/a-/AAuE7mBhAZB-htu3DgBaqN_MOdG5zfYZFANwOFvuem7-=s64",
      "userId": "10700062273568709982"
     },
     "user_tz": -330
    },
    "id": "5dNLjiXujowX",
    "outputId": "47593513-21d0-4095-a0a7-8a0440be5ca5"
   },
   "outputs": [
    {
     "data": {
      "text/html": [
       "<div>\n",
       "<style scoped>\n",
       "    .dataframe tbody tr th:only-of-type {\n",
       "        vertical-align: middle;\n",
       "    }\n",
       "\n",
       "    .dataframe tbody tr th {\n",
       "        vertical-align: top;\n",
       "    }\n",
       "\n",
       "    .dataframe thead th {\n",
       "        text-align: right;\n",
       "    }\n",
       "</style>\n",
       "<table border=\"1\" class=\"dataframe\">\n",
       "  <thead>\n",
       "    <tr style=\"text-align: right;\">\n",
       "      <th></th>\n",
       "      <th>Left_Company</th>\n",
       "      <th>Job_History</th>\n",
       "      <th>Designation</th>\n",
       "      <th>Sex</th>\n",
       "      <th>TotalWorkingHours</th>\n",
       "      <th>Billable_Hours</th>\n",
       "      <th>Hours_off_Duty</th>\n",
       "      <th>Touring_Hours</th>\n",
       "      <th>NoOfProjects</th>\n",
       "      <th>ActualTimeSpent</th>\n",
       "      <th>joining_year</th>\n",
       "      <th>joining_month</th>\n",
       "      <th>job_count</th>\n",
       "    </tr>\n",
       "  </thead>\n",
       "  <tbody>\n",
       "    <tr>\n",
       "      <th>0</th>\n",
       "      <td>0.0</td>\n",
       "      <td>Worked at Company - 639 , Company - 212 , Comp...</td>\n",
       "      <td>MD</td>\n",
       "      <td>1</td>\n",
       "      <td>205.0</td>\n",
       "      <td>189.0</td>\n",
       "      <td>72.0</td>\n",
       "      <td>189.0</td>\n",
       "      <td>3</td>\n",
       "      <td>231</td>\n",
       "      <td>2011</td>\n",
       "      <td>01</td>\n",
       "      <td>3</td>\n",
       "    </tr>\n",
       "    <tr>\n",
       "      <th>1</th>\n",
       "      <td>1.0</td>\n",
       "      <td>Worked at Company - 816 , Company - 724 , Comp...</td>\n",
       "      <td>VP</td>\n",
       "      <td>0</td>\n",
       "      <td>241.0</td>\n",
       "      <td>233.0</td>\n",
       "      <td>120.0</td>\n",
       "      <td>186.0</td>\n",
       "      <td>2</td>\n",
       "      <td>147</td>\n",
       "      <td>2006</td>\n",
       "      <td>02</td>\n",
       "      <td>4</td>\n",
       "    </tr>\n",
       "    <tr>\n",
       "      <th>2</th>\n",
       "      <td>0.0</td>\n",
       "      <td>Worked at Company - 562 , Company - 319</td>\n",
       "      <td>Senior</td>\n",
       "      <td>1</td>\n",
       "      <td>278.0</td>\n",
       "      <td>264.0</td>\n",
       "      <td>40.0</td>\n",
       "      <td>264.0</td>\n",
       "      <td>3</td>\n",
       "      <td>308</td>\n",
       "      <td>2011</td>\n",
       "      <td>12</td>\n",
       "      <td>2</td>\n",
       "    </tr>\n",
       "    <tr>\n",
       "      <th>3</th>\n",
       "      <td>0.0</td>\n",
       "      <td>Worked at Company - 212 , Company - 668 , Comp...</td>\n",
       "      <td>Senior</td>\n",
       "      <td>1</td>\n",
       "      <td>345.5</td>\n",
       "      <td>233.5</td>\n",
       "      <td>64.0</td>\n",
       "      <td>0.0</td>\n",
       "      <td>2</td>\n",
       "      <td>217</td>\n",
       "      <td>2012</td>\n",
       "      <td>01</td>\n",
       "      <td>3</td>\n",
       "    </tr>\n",
       "    <tr>\n",
       "      <th>4</th>\n",
       "      <td>0.0</td>\n",
       "      <td>Worked at Company - 234</td>\n",
       "      <td>Senior</td>\n",
       "      <td>1</td>\n",
       "      <td>270.0</td>\n",
       "      <td>249.0</td>\n",
       "      <td>88.0</td>\n",
       "      <td>213.0</td>\n",
       "      <td>2</td>\n",
       "      <td>231</td>\n",
       "      <td>2011</td>\n",
       "      <td>12</td>\n",
       "      <td>1</td>\n",
       "    </tr>\n",
       "  </tbody>\n",
       "</table>\n",
       "</div>"
      ],
      "text/plain": [
       "   Left_Company  ... job_count\n",
       "0           0.0  ...         3\n",
       "1           1.0  ...         4\n",
       "2           0.0  ...         2\n",
       "3           0.0  ...         3\n",
       "4           0.0  ...         1\n",
       "\n",
       "[5 rows x 13 columns]"
      ]
     },
     "execution_count": 43,
     "metadata": {
      "tags": []
     },
     "output_type": "execute_result"
    }
   ],
   "source": [
    "train_final.head()"
   ]
  },
  {
   "cell_type": "code",
   "execution_count": 0,
   "metadata": {
    "colab": {
     "base_uri": "https://localhost:8080/",
     "height": 251
    },
    "colab_type": "code",
    "executionInfo": {
     "elapsed": 9272,
     "status": "ok",
     "timestamp": 1568699994385,
     "user": {
      "displayName": "Raghuvaran Tyson",
      "photoUrl": "https://lh3.googleusercontent.com/a-/AAuE7mBhAZB-htu3DgBaqN_MOdG5zfYZFANwOFvuem7-=s64",
      "userId": "10700062273568709982"
     },
     "user_tz": -330
    },
    "id": "yDwXgp9I4ibH",
    "outputId": "dacc3102-7180-478e-af98-0148fc23efd1"
   },
   "outputs": [
    {
     "data": {
      "text/plain": [
       "Left_Company         float64\n",
       "Job_History           object\n",
       "Designation           object\n",
       "Sex                    int64\n",
       "TotalWorkingHours    float64\n",
       "Billable_Hours       float64\n",
       "Hours_off_Duty       float64\n",
       "Touring_Hours        float64\n",
       "NoOfProjects           int64\n",
       "ActualTimeSpent        int64\n",
       "joining_year          object\n",
       "joining_month         object\n",
       "job_count              int64\n",
       "dtype: object"
      ]
     },
     "execution_count": 44,
     "metadata": {
      "tags": []
     },
     "output_type": "execute_result"
    }
   ],
   "source": [
    "train_final.dtypes #check the data type of train data "
   ]
  },
  {
   "cell_type": "code",
   "execution_count": 0,
   "metadata": {
    "colab": {
     "base_uri": "https://localhost:8080/",
     "height": 234
    },
    "colab_type": "code",
    "executionInfo": {
     "elapsed": 9258,
     "status": "ok",
     "timestamp": 1568699994386,
     "user": {
      "displayName": "Raghuvaran Tyson",
      "photoUrl": "https://lh3.googleusercontent.com/a-/AAuE7mBhAZB-htu3DgBaqN_MOdG5zfYZFANwOFvuem7-=s64",
      "userId": "10700062273568709982"
     },
     "user_tz": -330
    },
    "id": "4G4b97_R5oKO",
    "outputId": "7233a02a-24e2-4e95-b9a2-8bdb92f3b37e"
   },
   "outputs": [
    {
     "data": {
      "text/plain": [
       "Job_History           object\n",
       "Designation           object\n",
       "Sex                    int64\n",
       "TotalWorkingHours    float64\n",
       "Billable_Hours       float64\n",
       "Hours_off_Duty       float64\n",
       "Touring_Hours        float64\n",
       "NoOfProjects           int64\n",
       "ActualTimeSpent        int64\n",
       "joining_year          object\n",
       "joining_month         object\n",
       "job_count              int64\n",
       "dtype: object"
      ]
     },
     "execution_count": 45,
     "metadata": {
      "tags": []
     },
     "output_type": "execute_result"
    }
   ],
   "source": [
    "test_final.dtypes #check the data types of the test data."
   ]
  },
  {
   "cell_type": "code",
   "execution_count": 0,
   "metadata": {
    "colab": {},
    "colab_type": "code",
    "id": "lxcgEjHzUvh0"
   },
   "outputs": [],
   "source": [
    "#creating a copy for using with label encoding\n",
    "\n",
    "train_copy = train_final.copy()\n",
    "test_copy = test_final.copy()"
   ]
  },
  {
   "cell_type": "code",
   "execution_count": 0,
   "metadata": {
    "colab": {},
    "colab_type": "code",
    "id": "4YsYS-YE4iZw"
   },
   "outputs": [],
   "source": [
    "#convert floats into int\n",
    "\n",
    "for col in ['TotalWorkingHours','Billable_Hours','Hours_off_Duty','Touring_Hours']:\n",
    "  train_final[col] = train_final[col].astype('float')"
   ]
  },
  {
   "cell_type": "code",
   "execution_count": 0,
   "metadata": {
    "colab": {},
    "colab_type": "code",
    "id": "uSIjIzmm4iW6"
   },
   "outputs": [],
   "source": [
    "#Do the same on the test data \n",
    "for col in ['TotalWorkingHours','Billable_Hours','Hours_off_Duty','Touring_Hours']:\n",
    "  test_final[col] = test_final[col].astype('float')"
   ]
  },
  {
   "cell_type": "code",
   "execution_count": 0,
   "metadata": {
    "colab": {},
    "colab_type": "code",
    "id": "feUvrkC04iUr"
   },
   "outputs": [],
   "source": [
    "#creating the list of numeric attributes"
   ]
  },
  {
   "cell_type": "markdown",
   "metadata": {
    "colab_type": "text",
    "id": "XAq0ScfztqQG"
   },
   "source": [
    "### Converting objects to categories "
   ]
  },
  {
   "cell_type": "code",
   "execution_count": 0,
   "metadata": {
    "colab": {},
    "colab_type": "code",
    "id": "VU8bidfShjK5"
   },
   "outputs": [],
   "source": [
    "#on training data\n",
    "\n",
    "for col in ['Sex','Designation','NoOfProjects','joining_year','joining_month','Job_History']:\n",
    "  train_final[col] = train_final[col].astype('category')\n",
    "#on testing data \n",
    "\n",
    "for col in ['Sex','Designation','NoOfProjects','joining_year','joining_month','Job_History']:\n",
    "  test_final[col] = test_final[col].astype('category')\n",
    "\n",
    "train_final['Left_Company'] = train_final['Left_Company'].astype('category')"
   ]
  },
  {
   "cell_type": "code",
   "execution_count": 0,
   "metadata": {
    "colab": {},
    "colab_type": "code",
    "id": "J29wEmb_jVgn"
   },
   "outputs": [],
   "source": [
    "#creating a list of categorical & numerical attributes\n",
    "\n",
    "cat_attr = list(train_final.select_dtypes(\"category\").columns) #exclude target column inthe list\n",
    "num_attr = list(test_final.columns.difference(cat_attr))\n",
    "\n",
    "# cat_attr.pop()"
   ]
  },
  {
   "cell_type": "code",
   "execution_count": 0,
   "metadata": {
    "colab": {},
    "colab_type": "code",
    "id": "dEV5jmIt7WRC"
   },
   "outputs": [],
   "source": [
    "cat_attr.remove('Left_Company')"
   ]
  },
  {
   "cell_type": "code",
   "execution_count": 0,
   "metadata": {
    "colab": {
     "base_uri": "https://localhost:8080/",
     "height": 117
    },
    "colab_type": "code",
    "executionInfo": {
     "elapsed": 9192,
     "status": "ok",
     "timestamp": 1568699994395,
     "user": {
      "displayName": "Raghuvaran Tyson",
      "photoUrl": "https://lh3.googleusercontent.com/a-/AAuE7mBhAZB-htu3DgBaqN_MOdG5zfYZFANwOFvuem7-=s64",
      "userId": "10700062273568709982"
     },
     "user_tz": -330
    },
    "id": "TcsfI3YO75rK",
    "outputId": "95db1d05-cb2f-4746-dcab-942b9b1c09f2"
   },
   "outputs": [
    {
     "data": {
      "text/plain": [
       "['Job_History',\n",
       " 'Designation',\n",
       " 'Sex',\n",
       " 'NoOfProjects',\n",
       " 'joining_year',\n",
       " 'joining_month']"
      ]
     },
     "execution_count": 53,
     "metadata": {
      "tags": []
     },
     "output_type": "execute_result"
    }
   ],
   "source": [
    "cat_attr"
   ]
  },
  {
   "cell_type": "code",
   "execution_count": 0,
   "metadata": {
    "colab": {
     "base_uri": "https://localhost:8080/",
     "height": 117
    },
    "colab_type": "code",
    "executionInfo": {
     "elapsed": 9145,
     "status": "ok",
     "timestamp": 1568699994398,
     "user": {
      "displayName": "Raghuvaran Tyson",
      "photoUrl": "https://lh3.googleusercontent.com/a-/AAuE7mBhAZB-htu3DgBaqN_MOdG5zfYZFANwOFvuem7-=s64",
      "userId": "10700062273568709982"
     },
     "user_tz": -330
    },
    "id": "0_i7l9IE7WNz",
    "outputId": "836e03a1-dda4-455a-b609-62a0265dc7aa"
   },
   "outputs": [
    {
     "data": {
      "text/plain": [
       "['ActualTimeSpent',\n",
       " 'Billable_Hours',\n",
       " 'Hours_off_Duty',\n",
       " 'TotalWorkingHours',\n",
       " 'Touring_Hours',\n",
       " 'job_count']"
      ]
     },
     "execution_count": 54,
     "metadata": {
      "tags": []
     },
     "output_type": "execute_result"
    }
   ],
   "source": [
    "num_attr"
   ]
  },
  {
   "cell_type": "markdown",
   "metadata": {
    "colab_type": "text",
    "id": "j5tPmDb8tiS_"
   },
   "source": [
    "### Columns with missing values"
   ]
  },
  {
   "cell_type": "code",
   "execution_count": 0,
   "metadata": {
    "colab": {
     "base_uri": "https://localhost:8080/",
     "height": 50
    },
    "colab_type": "code",
    "executionInfo": {
     "elapsed": 9102,
     "status": "ok",
     "timestamp": 1568699994399,
     "user": {
      "displayName": "Raghuvaran Tyson",
      "photoUrl": "https://lh3.googleusercontent.com/a-/AAuE7mBhAZB-htu3DgBaqN_MOdG5zfYZFANwOFvuem7-=s64",
      "userId": "10700062273568709982"
     },
     "user_tz": -330
    },
    "id": "4hPi5WmljVdb",
    "outputId": "a673f91e-a98d-46aa-b1dd-48290ddc9d6d"
   },
   "outputs": [
    {
     "name": "stdout",
     "output_type": "stream",
     "text": [
      "Index([], dtype='object')\n",
      "Index([], dtype='object')\n"
     ]
    }
   ],
   "source": [
    "# Missing values in train data  & test data\n",
    "missing_cols_train = train_final.columns[train_final.isnull().any()]\n",
    "print(missing_cols_train)\n",
    "\n",
    "missing_cols_test = test_final.columns[test_final.isnull().any()]\n",
    "print(missing_cols_test)"
   ]
  },
  {
   "cell_type": "markdown",
   "metadata": {
    "colab_type": "text",
    "id": "ufbnnrritxWe"
   },
   "source": [
    "### Importing the Required packages"
   ]
  },
  {
   "cell_type": "code",
   "execution_count": 0,
   "metadata": {
    "colab": {
     "base_uri": "https://localhost:8080/",
     "height": 70
    },
    "colab_type": "code",
    "executionInfo": {
     "elapsed": 10175,
     "status": "ok",
     "timestamp": 1568699995488,
     "user": {
      "displayName": "Raghuvaran Tyson",
      "photoUrl": "https://lh3.googleusercontent.com/a-/AAuE7mBhAZB-htu3DgBaqN_MOdG5zfYZFANwOFvuem7-=s64",
      "userId": "10700062273568709982"
     },
     "user_tz": -330
    },
    "id": "vR1HY3pujVaz",
    "outputId": "ea147be2-2705-4964-d1e2-980524069f7f"
   },
   "outputs": [
    {
     "name": "stderr",
     "output_type": "stream",
     "text": [
      "/usr/local/lib/python3.6/dist-packages/sklearn/externals/six.py:31: DeprecationWarning: The module is deprecated in version 0.21 and will be removed in version 0.23 since we've dropped support for Python 2.7. Please rely on the official version of six (https://pypi.org/project/six/).\n",
      "  \"(https://pypi.org/project/six/).\", DeprecationWarning)\n"
     ]
    }
   ],
   "source": [
    "from sklearn import preprocessing\n",
    "from sklearn.impute import SimpleImputer\n",
    "\n",
    "from sklearn.compose import ColumnTransformer\n",
    "\n",
    "from sklearn.preprocessing import StandardScaler\n",
    "from sklearn.preprocessing import OneHotEncoder\n",
    "from sklearn.model_selection import train_test_split\n",
    "from sklearn.pipeline import Pipeline\n",
    "from sklearn.model_selection import GridSearchCV, cross_val_score, StratifiedKFold\n",
    "\n",
    "from sklearn.tree import DecisionTreeClassifier\n",
    "from sklearn.ensemble import RandomForestClassifier\n",
    "from sklearn.svm import SVC\n",
    "from sklearn.linear_model import LogisticRegression\n",
    "\n",
    "from sklearn.ensemble import GradientBoostingClassifier\n",
    "from sklearn.ensemble import AdaBoostClassifier\n",
    "from sklearn.metrics import confusion_matrix\n",
    "\n",
    "import matplotlib.pyplot as plt\n",
    "import seaborn as sns\n",
    "from imblearn.over_sampling import SMOTE\n",
    "from sklearn.metrics import accuracy_score, recall_score, precision_score, f1_score\n",
    "\n",
    "\n",
    "import warnings\n",
    "warnings.filterwarnings('ignore')"
   ]
  },
  {
   "cell_type": "markdown",
   "metadata": {
    "colab_type": "text",
    "id": "ctJKvIicIO3h"
   },
   "source": [
    "## Dummification"
   ]
  },
  {
   "cell_type": "code",
   "execution_count": 0,
   "metadata": {
    "colab": {},
    "colab_type": "code",
    "id": "1FCmp01RIjOK"
   },
   "outputs": [],
   "source": [
    "y= train_final['Left_Company']\n",
    "\n",
    "del train_final['Left_Company']\n",
    "X = train_final"
   ]
  },
  {
   "cell_type": "markdown",
   "metadata": {
    "colab_type": "text",
    "id": "Y48OxXFzIOuE"
   },
   "source": []
  },
  {
   "cell_type": "code",
   "execution_count": 0,
   "metadata": {
    "colab": {},
    "colab_type": "code",
    "id": "WFYurEK5Gwcp"
   },
   "outputs": [],
   "source": [
    "\n",
    "#One hot encoding on the train data\n",
    "\n",
    "dummy_train = pd.get_dummies(data= X, columns= cat_attr, drop_first=True)"
   ]
  },
  {
   "cell_type": "code",
   "execution_count": 0,
   "metadata": {
    "colab": {
     "base_uri": "https://localhost:8080/",
     "height": 33
    },
    "colab_type": "code",
    "executionInfo": {
     "elapsed": 10164,
     "status": "ok",
     "timestamp": 1568699995499,
     "user": {
      "displayName": "Raghuvaran Tyson",
      "photoUrl": "https://lh3.googleusercontent.com/a-/AAuE7mBhAZB-htu3DgBaqN_MOdG5zfYZFANwOFvuem7-=s64",
      "userId": "10700062273568709982"
     },
     "user_tz": -330
    },
    "id": "HyYzhXFNGwZX",
    "outputId": "9f0cd674-5cc4-49d6-948b-41bd88dcd3f3"
   },
   "outputs": [
    {
     "data": {
      "text/plain": [
       "(245, 283)"
      ]
     },
     "execution_count": 59,
     "metadata": {
      "tags": []
     },
     "output_type": "execute_result"
    }
   ],
   "source": [
    "dummy_train.shape"
   ]
  },
  {
   "cell_type": "code",
   "execution_count": 0,
   "metadata": {
    "colab": {},
    "colab_type": "code",
    "id": "_XIz-daAGwWK"
   },
   "outputs": [],
   "source": [
    "#One hot encoding on the test data\n",
    "\n",
    "test_final = pd.get_dummies(data= test_final, columns= cat_attr, drop_first=True)"
   ]
  },
  {
   "cell_type": "code",
   "execution_count": 0,
   "metadata": {
    "colab": {
     "base_uri": "https://localhost:8080/",
     "height": 33
    },
    "colab_type": "code",
    "executionInfo": {
     "elapsed": 9886,
     "status": "ok",
     "timestamp": 1568699995505,
     "user": {
      "displayName": "Raghuvaran Tyson",
      "photoUrl": "https://lh3.googleusercontent.com/a-/AAuE7mBhAZB-htu3DgBaqN_MOdG5zfYZFANwOFvuem7-=s64",
      "userId": "10700062273568709982"
     },
     "user_tz": -330
    },
    "id": "NvsWJEhpJGmf",
    "outputId": "85b7dc5b-2e48-44c6-970c-cfd3e89a8e84"
   },
   "outputs": [
    {
     "name": "stdout",
     "output_type": "stream",
     "text": [
      "(51, 86)\n"
     ]
    }
   ],
   "source": [
    "print(test_final.shape)"
   ]
  },
  {
   "cell_type": "code",
   "execution_count": 0,
   "metadata": {
    "colab": {},
    "colab_type": "code",
    "id": "sG1WbpF5JSIa"
   },
   "outputs": [],
   "source": [
    "# Align the columns in the test data with train data \n",
    "\n",
    "dummy_train, test_final = dummy_train.align(test_final, join='left', axis=1)"
   ]
  },
  {
   "cell_type": "code",
   "execution_count": 0,
   "metadata": {
    "colab": {
     "base_uri": "https://localhost:8080/",
     "height": 33
    },
    "colab_type": "code",
    "executionInfo": {
     "elapsed": 9858,
     "status": "ok",
     "timestamp": 1568699995511,
     "user": {
      "displayName": "Raghuvaran Tyson",
      "photoUrl": "https://lh3.googleusercontent.com/a-/AAuE7mBhAZB-htu3DgBaqN_MOdG5zfYZFANwOFvuem7-=s64",
      "userId": "10700062273568709982"
     },
     "user_tz": -330
    },
    "id": "OYBH83q9JjuM",
    "outputId": "017b5708-921e-493f-e430-266097361809"
   },
   "outputs": [
    {
     "name": "stdout",
     "output_type": "stream",
     "text": [
      "12597\n"
     ]
    }
   ],
   "source": [
    "#check the missing values in the test\n",
    "print(test_final.isnull().sum().sum())\n",
    "\n",
    "test_final.fillna(value=0, inplace=True)"
   ]
  },
  {
   "cell_type": "code",
   "execution_count": 0,
   "metadata": {
    "colab": {},
    "colab_type": "code",
    "id": "iqd-IQ01978e"
   },
   "outputs": [],
   "source": [
    "from sklearn.preprocessing import StandardScaler\n"
   ]
  },
  {
   "cell_type": "code",
   "execution_count": 0,
   "metadata": {
    "colab": {},
    "colab_type": "code",
    "id": "HMuYnvrOGwUL"
   },
   "outputs": [],
   "source": [
    "#standardize the train dat a& test data\n",
    "\n",
    "std = StandardScaler() #Instantiating an object. \n",
    "std.fit(dummy_train) #Fittin gon th train data\n",
    "\n",
    "std_x = std.transform(dummy_train) #transform on th etrain data\n",
    "std_test = std.transform(test_final) #transform on the test data"
   ]
  },
  {
   "cell_type": "code",
   "execution_count": 0,
   "metadata": {
    "colab": {
     "base_uri": "https://localhost:8080/",
     "height": 50
    },
    "colab_type": "code",
    "executionInfo": {
     "elapsed": 9831,
     "status": "ok",
     "timestamp": 1568699995521,
     "user": {
      "displayName": "Raghuvaran Tyson",
      "photoUrl": "https://lh3.googleusercontent.com/a-/AAuE7mBhAZB-htu3DgBaqN_MOdG5zfYZFANwOFvuem7-=s64",
      "userId": "10700062273568709982"
     },
     "user_tz": -330
    },
    "id": "R7aFXbINKc_R",
    "outputId": "1ef1c141-3664-4dc7-bfc9-44c4db0d2dbd"
   },
   "outputs": [
    {
     "name": "stdout",
     "output_type": "stream",
     "text": [
      "(245, 283)\n",
      "(51, 283)\n"
     ]
    }
   ],
   "source": [
    "print(std_x.shape)\n",
    "print(std_test.shape)"
   ]
  },
  {
   "cell_type": "code",
   "execution_count": 0,
   "metadata": {
    "colab": {},
    "colab_type": "code",
    "id": "tneVrkenPGH5"
   },
   "outputs": [],
   "source": []
  },
  {
   "cell_type": "markdown",
   "metadata": {
    "colab_type": "text",
    "id": "kNkXbG48KiYj"
   },
   "source": [
    "# Models On complete std data without splitting : \n",
    " "
   ]
  },
  {
   "cell_type": "markdown",
   "metadata": {
    "colab_type": "text",
    "id": "MhugaAZrKmHN"
   },
   "source": [
    "## Model-1 -Logistic Regression : \n"
   ]
  },
  {
   "cell_type": "code",
   "execution_count": 0,
   "metadata": {
    "colab": {
     "base_uri": "https://localhost:8080/",
     "height": 100
    },
    "colab_type": "code",
    "executionInfo": {
     "elapsed": 9804,
     "status": "ok",
     "timestamp": 1568699995527,
     "user": {
      "displayName": "Raghuvaran Tyson",
      "photoUrl": "https://lh3.googleusercontent.com/a-/AAuE7mBhAZB-htu3DgBaqN_MOdG5zfYZFANwOFvuem7-=s64",
      "userId": "10700062273568709982"
     },
     "user_tz": -330
    },
    "id": "9fHfSuhOKczF",
    "outputId": "b8df3102-76c0-4d18-9c24-948d48216ab1"
   },
   "outputs": [
    {
     "data": {
      "text/plain": [
       "LogisticRegression(C=1.0, class_weight=None, dual=False, fit_intercept=True,\n",
       "                   intercept_scaling=1, l1_ratio=None, max_iter=100,\n",
       "                   multi_class='warn', n_jobs=None, penalty='l2',\n",
       "                   random_state=None, solver='warn', tol=0.0001, verbose=0,\n",
       "                   warm_start=False)"
      ]
     },
     "execution_count": 67,
     "metadata": {
      "tags": []
     },
     "output_type": "execute_result"
    }
   ],
   "source": [
    "log_reg = LogisticRegression()\n",
    "\n",
    "log_reg.fit(std_x, y)\n"
   ]
  },
  {
   "cell_type": "code",
   "execution_count": 0,
   "metadata": {
    "colab": {
     "base_uri": "https://localhost:8080/",
     "height": 33
    },
    "colab_type": "code",
    "executionInfo": {
     "elapsed": 9788,
     "status": "ok",
     "timestamp": 1568699995530,
     "user": {
      "displayName": "Raghuvaran Tyson",
      "photoUrl": "https://lh3.googleusercontent.com/a-/AAuE7mBhAZB-htu3DgBaqN_MOdG5zfYZFANwOFvuem7-=s64",
      "userId": "10700062273568709982"
     },
     "user_tz": -330
    },
    "id": "Xnyv5Tv4LGd0",
    "outputId": "04de0d65-4408-4c4e-cb88-0513052b37ba"
   },
   "outputs": [
    {
     "name": "stdout",
     "output_type": "stream",
     "text": [
      "1.0\n"
     ]
    }
   ],
   "source": [
    "log_pred = log_reg.predict(std_x)\n",
    "\n",
    "print(f1_score(y, log_pred))"
   ]
  },
  {
   "cell_type": "markdown",
   "metadata": {
    "colab_type": "text",
    "id": "3bggOH1CMsZy"
   },
   "source": [
    "##  Model- 2 - Decision tree :"
   ]
  },
  {
   "cell_type": "code",
   "execution_count": 0,
   "metadata": {
    "colab": {
     "base_uri": "https://localhost:8080/",
     "height": 84
    },
    "colab_type": "code",
    "executionInfo": {
     "elapsed": 15254,
     "status": "ok",
     "timestamp": 1568700001017,
     "user": {
      "displayName": "Raghuvaran Tyson",
      "photoUrl": "https://lh3.googleusercontent.com/a-/AAuE7mBhAZB-htu3DgBaqN_MOdG5zfYZFANwOFvuem7-=s64",
      "userId": "10700062273568709982"
     },
     "user_tz": -330
    },
    "id": "clvr5584Mr2x",
    "outputId": "9539e9a7-82ce-480b-c767-7d64a9feca46"
   },
   "outputs": [
    {
     "name": "stdout",
     "output_type": "stream",
     "text": [
      "{'criterion': 'entropy', 'max_depth': 5, 'min_samples_leaf': 3, 'min_samples_split': 5}\n",
      "0.851063829787234\n",
      "CPU times: user 373 ms, sys: 44.7 ms, total: 418 ms\n",
      "Wall time: 3.24 s\n"
     ]
    }
   ],
   "source": [
    "%%time\n",
    "clf_dt =  DecisionTreeClassifier()\n",
    "\n",
    "dt_param_grid = {'criterion': ['entropy', 'gini'], \n",
    "                 'max_depth': [3,4,5],\n",
    "                 \"min_samples_split\": [2,5],\n",
    "                 \"min_samples_leaf\": [1,3,5]}\n",
    "\n",
    "dt_grid = GridSearchCV(clf_dt, param_grid=dt_param_grid, n_jobs=-1, cv=10,return_train_score=True)\n",
    "\n",
    "dt_grid.fit(std_x,y)\n",
    "\n",
    "print(dt_grid.best_params_)\n",
    "\n",
    "dt_pred = dt_grid.predict(std_x)\n",
    "\n",
    "print(f1_score(y, dt_pred))"
   ]
  },
  {
   "cell_type": "markdown",
   "metadata": {
    "colab_type": "text",
    "id": "gMxIluJH8oZb"
   },
   "source": [
    "## Model-3 --Build Gradient Boosting "
   ]
  },
  {
   "cell_type": "code",
   "execution_count": 0,
   "metadata": {
    "colab": {
     "base_uri": "https://localhost:8080/",
     "height": 104
    },
    "colab_type": "code",
    "executionInfo": {
     "elapsed": 15238,
     "status": "ok",
     "timestamp": 1568700001019,
     "user": {
      "displayName": "Raghuvaran Tyson",
      "photoUrl": "https://lh3.googleusercontent.com/a-/AAuE7mBhAZB-htu3DgBaqN_MOdG5zfYZFANwOFvuem7-=s64",
      "userId": "10700062273568709982"
     },
     "user_tz": -330
    },
    "id": "gsdUCtEcH23G",
    "outputId": "5522e51b-eb43-48aa-ee5e-22e9bafc7230"
   },
   "outputs": [
    {
     "name": "stdout",
     "output_type": "stream",
     "text": [
      "The Best parameters are: {'learning_rate': 0.1, 'max_depth': 2, 'max_features': 0.3, 'n_estimators': 20, 'subsample': 0.8} .\n",
      "0.851063829787234\n",
      "CPU times: user 155 ms, sys: 9.21 ms, total: 164 ms\n",
      "Wall time: 1.57 s\n"
     ]
    }
   ],
   "source": [
    "\n",
    "%%time\n",
    "clf_gbc = GradientBoostingClassifier()\n",
    "\n",
    "gbm_param_grid = {'max_depth': [2,3,4],\n",
    "                  'subsample': [0.8,0.6],\n",
    "                  'max_features':[0.3], \n",
    "                  'n_estimators': [10, 20, 30],\n",
    "                  'learning_rate':[0.1]}\n",
    "\n",
    "gbm_grid = GridSearchCV(clf_gbc, param_grid=gbm_param_grid, n_jobs =-1, cv=5)\n",
    "\n",
    "gbm_grid.fit(std_x,y)\n",
    "\n",
    "print(\"The Best parameters are: {} .\".format(gbm_grid.best_params_))\n",
    "\n",
    "train_pred_gb = gbm_grid.predict(std_x)\n",
    "\n",
    "print(f1_score(y, train_pred_gb))\n",
    "\n"
   ]
  },
  {
   "cell_type": "markdown",
   "metadata": {
    "colab_type": "text",
    "id": "PpoJC55p27hG"
   },
   "source": [
    "# Building model after outholding the dataset."
   ]
  },
  {
   "cell_type": "code",
   "execution_count": 0,
   "metadata": {
    "colab": {},
    "colab_type": "code",
    "id": "IgYWo5YD26wt"
   },
   "outputs": [],
   "source": [
    "x_train, x_test, y_train, y_test = train_test_split(std_x, y, test_size=0.3, random_state=11, stratify=y)\n"
   ]
  },
  {
   "cell_type": "code",
   "execution_count": 0,
   "metadata": {
    "colab": {},
    "colab_type": "code",
    "id": "TVTZI94x56hc"
   },
   "outputs": [],
   "source": [
    "sm = SMOTE(random_state=2)\n",
    "\n",
    "x_train_re, y_train_re = sm.fit_sample(x_train, y_train.ravel())\n",
    "x_test_re, y_test_re = sm.fit_sample(x_test,y_test.ravel())\n"
   ]
  },
  {
   "cell_type": "code",
   "execution_count": 0,
   "metadata": {
    "colab": {
     "base_uri": "https://localhost:8080/",
     "height": 84
    },
    "colab_type": "code",
    "executionInfo": {
     "elapsed": 15214,
     "status": "ok",
     "timestamp": 1568700001029,
     "user": {
      "displayName": "Raghuvaran Tyson",
      "photoUrl": "https://lh3.googleusercontent.com/a-/AAuE7mBhAZB-htu3DgBaqN_MOdG5zfYZFANwOFvuem7-=s64",
      "userId": "10700062273568709982"
     },
     "user_tz": -330
    },
    "id": "fOi7Ij6c_0gC",
    "outputId": "dd9ca984-ec79-44d8-d590-343104f86334"
   },
   "outputs": [
    {
     "name": "stdout",
     "output_type": "stream",
     "text": [
      "(304, 283)\n",
      "(132, 283)\n",
      "(304,)\n",
      "(132,)\n"
     ]
    }
   ],
   "source": [
    "print(x_train_re.shape)\n",
    "print(x_test_re.shape)\n",
    "print(y_train_re.shape)\n",
    "print(y_test_re.shape)\n"
   ]
  },
  {
   "cell_type": "markdown",
   "metadata": {
    "colab_type": "text",
    "id": "Az_BMTEM3DO7"
   },
   "source": [
    "## Model-1 Gradient Boosting : "
   ]
  },
  {
   "cell_type": "code",
   "execution_count": 0,
   "metadata": {
    "colab": {
     "base_uri": "https://localhost:8080/",
     "height": 120
    },
    "colab_type": "code",
    "executionInfo": {
     "elapsed": 27630,
     "status": "ok",
     "timestamp": 1568700013465,
     "user": {
      "displayName": "Raghuvaran Tyson",
      "photoUrl": "https://lh3.googleusercontent.com/a-/AAuE7mBhAZB-htu3DgBaqN_MOdG5zfYZFANwOFvuem7-=s64",
      "userId": "10700062273568709982"
     },
     "user_tz": -330
    },
    "id": "x3mVTp-ZfRi-",
    "outputId": "5c61696f-6ded-46f7-aeca-8f6ea949fb10"
   },
   "outputs": [
    {
     "name": "stdout",
     "output_type": "stream",
     "text": [
      "The Best parameters are: {'learning_rate': 0.1, 'max_depth': 4, 'max_features': 0.3, 'n_estimators': 6, 'subsample': 0.8} .\n",
      "99.33774834437085\n",
      "96.06299212598425\n",
      "CPU times: user 1.78 s, sys: 43.3 ms, total: 1.82 s\n",
      "Wall time: 12.5 s\n"
     ]
    }
   ],
   "source": [
    "\n",
    "%%time\n",
    "clf_gbc = GradientBoostingClassifier()\n",
    "\n",
    "gbm_param_grid = {'max_depth': [2,3,4],\n",
    "                  'subsample': [0.8,0.6],\n",
    "                  'max_features':[0.3, 0.4], \n",
    "                  'n_estimators': [1,2,3,4,5,6,7,8,9,10],\n",
    "                  'learning_rate':[0.1, 0.01, 0.001]} #making learning rate lesser gave the best results\n",
    "\n",
    "gbm_grid_1 = GridSearchCV(clf_gbc, param_grid=gbm_param_grid, n_jobs =-1, cv=5)\n",
    "\n",
    "gbm_grid_1.fit(x_train_re,y_train_re)\n",
    "\n",
    "print(\"The Best parameters are: {} .\".format(gbm_grid_1.best_params_))\n",
    "\n",
    "train_pred_gb_2 = gbm_grid_1.predict(x_train_re)\n",
    "test_pred_gb_2 = gbm_grid_1.predict(x_test_re)\n",
    "print(f1_score(y_train_re, train_pred_gb_2)*100)\n",
    "print(f1_score(y_test_re, test_pred_gb_2)*100)\n",
    "\n"
   ]
  },
  {
   "cell_type": "markdown",
   "metadata": {
    "colab_type": "text",
    "id": "q5I3TTLyP22X"
   },
   "source": [
    "## Model-2  Logit Model :  \n"
   ]
  },
  {
   "cell_type": "code",
   "execution_count": 0,
   "metadata": {
    "colab": {
     "base_uri": "https://localhost:8080/",
     "height": 50
    },
    "colab_type": "code",
    "executionInfo": {
     "elapsed": 27616,
     "status": "ok",
     "timestamp": 1568700013468,
     "user": {
      "displayName": "Raghuvaran Tyson",
      "photoUrl": "https://lh3.googleusercontent.com/a-/AAuE7mBhAZB-htu3DgBaqN_MOdG5zfYZFANwOFvuem7-=s64",
      "userId": "10700062273568709982"
     },
     "user_tz": -330
    },
    "id": "JsIhUoqmFTRY",
    "outputId": "3c9e3c83-9bbb-4ea0-a344-67b638ca73d8"
   },
   "outputs": [
    {
     "name": "stdout",
     "output_type": "stream",
     "text": [
      "1.0\n",
      "0.8148148148148148\n"
     ]
    }
   ],
   "source": [
    "log_reg_2 = LogisticRegression()\n",
    "\n",
    "log_reg_2.fit(x_train_re,y_train_re)\n",
    "\n",
    "log_reg_pred_train = log_reg_2.predict(x_train_re)\n",
    "log_reg_pred_test = log_reg_2.predict(x_test_re)\n",
    "\n",
    "print(f1_score(y_train_re, log_reg_pred_train))\n",
    "print(f1_score(y_test_re, log_reg_pred_test))\n",
    "\n",
    "#prediction on test data \n",
    "\n"
   ]
  },
  {
   "cell_type": "markdown",
   "metadata": {
    "colab_type": "text",
    "id": "ZBB5DUqNQ_Lj"
   },
   "source": [
    "## Model-3 xgBoost : "
   ]
  },
  {
   "cell_type": "code",
   "execution_count": 0,
   "metadata": {
    "colab": {
     "base_uri": "https://localhost:8080/",
     "height": 100
    },
    "colab_type": "code",
    "executionInfo": {
     "elapsed": 41310,
     "status": "ok",
     "timestamp": 1568700027181,
     "user": {
      "displayName": "Raghuvaran Tyson",
      "photoUrl": "https://lh3.googleusercontent.com/a-/AAuE7mBhAZB-htu3DgBaqN_MOdG5zfYZFANwOFvuem7-=s64",
      "userId": "10700062273568709982"
     },
     "user_tz": -330
    },
    "id": "FHAP24B2RQTG",
    "outputId": "80ff8318-f37a-4f5c-9040-28b5e85db6c8"
   },
   "outputs": [
    {
     "name": "stdout",
     "output_type": "stream",
     "text": [
      "{'colsample_bytree': 0.7, 'learning_rate': 0.1, 'max_depth': 7, 'n_estimators': 10, 'subsample': 0.6}\n",
      "Train Score: 0.9764309764309764.\n",
      "Validation Score: 0.9606299212598425.\n",
      "CPU times: user 940 ms, sys: 228 ms, total: 1.17 s\n",
      "Wall time: 13.8 s\n"
     ]
    }
   ],
   "source": [
    "\n",
    "%%time\n",
    "import xgboost as xgb\n",
    "from sklearn.model_selection import GridSearchCV\n",
    "xgb = xgb.XGBClassifier()\n",
    "\n",
    "\n",
    "kfold = StratifiedKFold(n_splits=5, shuffle=True, random_state=143)\n",
    "\n",
    "param_grid = {\"n_estimators\" : [10,15],\n",
    "              \"max_depth\" : [3,5,6,7],\n",
    "              \"colsample_bytree\":[0.7,.8],\n",
    "              \"learning_rate\": [0.001,0.01,0.1],\n",
    "              \"subsample\":[0.8,0.6]}\n",
    "\n",
    "xg_grid = GridSearchCV(xgb, param_grid=param_grid, n_jobs=-1, cv=kfold)\n",
    "\n",
    "\n",
    "xg_grid.fit(x_train_re,y_train_re)\n",
    "\n",
    "print(xg_grid.best_params_)\n",
    "\n",
    "train_pred = xg_grid.predict(x_train_re)\n",
    "test_pred = xg_grid.predict(x_test_re)\n",
    "\n",
    "print(\"Train Score: {}.\" .format(f1_score(y_train_re, train_pred)))\n",
    "print(\"Validation Score: {}.\" .format(f1_score(y_test_re, test_pred)))\n"
   ]
  },
  {
   "cell_type": "markdown",
   "metadata": {
    "colab_type": "text",
    "id": "p8JAQST2g4I5"
   },
   "source": [
    "## Model- 4 RF"
   ]
  },
  {
   "cell_type": "code",
   "execution_count": 0,
   "metadata": {
    "colab": {
     "base_uri": "https://localhost:8080/",
     "height": 100
    },
    "colab_type": "code",
    "executionInfo": {
     "elapsed": 43389,
     "status": "ok",
     "timestamp": 1568700029286,
     "user": {
      "displayName": "Raghuvaran Tyson",
      "photoUrl": "https://lh3.googleusercontent.com/a-/AAuE7mBhAZB-htu3DgBaqN_MOdG5zfYZFANwOFvuem7-=s64",
      "userId": "10700062273568709982"
     },
     "user_tz": -330
    },
    "id": "Xy-ABUhxg22g",
    "outputId": "23a793ea-1b48-4bac-ec7a-2e07287d192a"
   },
   "outputs": [
    {
     "name": "stdout",
     "output_type": "stream",
     "text": [
      "{'criterion': 'gini', 'max_depth': 5, 'min_samples_leaf': 1, 'min_samples_split': 5}\n",
      "Train Score: 0.9706840390879479 .\n",
      "Validation Score: 0.9076923076923077 .\n",
      "CPU times: user 1.98 s, sys: 14.1 ms, total: 1.99 s\n",
      "Wall time: 2 s\n"
     ]
    }
   ],
   "source": [
    "%%time\n",
    "clf_rf = RandomForestClassifier()\n",
    "\n",
    "kfold = StratifiedKFold(n_splits=5, shuffle=True, random_state=143)\n",
    "\n",
    "param_grid = {\"n_estimators\" : [3,4,5,10,12,13,14],\n",
    "              \"max_depth\" : [2,3,5,6],\n",
    "              \"max_features\" : [3,4, 5, 7],\n",
    "              \"min_samples_leaf\" : [4, 6, 8, 10]}\n",
    "\n",
    "rf_grid = GridSearchCV(clf_rf, param_grid=dt_param_grid, cv=kfold)\n",
    "\n",
    "\n",
    "rf_grid.fit(x_train_re,y_train_re)\n",
    "\n",
    "print(rf_grid.best_params_)\n",
    "\n",
    "train_pred_rf = rf_grid.predict(x_train_re)\n",
    "test_pred_rf = rf_grid.predict(x_test_re)\n",
    "\n",
    "print(\"Train Score: {} .\" .format(f1_score(y_train_re, train_pred_rf)))\n",
    "print(\"Validation Score: {} .\" .format(f1_score(y_test_re, test_pred_rf)))\n",
    "\n"
   ]
  },
  {
   "cell_type": "code",
   "execution_count": 0,
   "metadata": {
    "colab": {},
    "colab_type": "code",
    "id": "cksoylQNRFpF"
   },
   "outputs": [],
   "source": [
    "from sklearn.neighbors import KNeighborsClassifier"
   ]
  },
  {
   "cell_type": "code",
   "execution_count": 0,
   "metadata": {
    "colab": {
     "base_uri": "https://localhost:8080/",
     "height": 67
    },
    "colab_type": "code",
    "executionInfo": {
     "elapsed": 43357,
     "status": "ok",
     "timestamp": 1568700029292,
     "user": {
      "displayName": "Raghuvaran Tyson",
      "photoUrl": "https://lh3.googleusercontent.com/a-/AAuE7mBhAZB-htu3DgBaqN_MOdG5zfYZFANwOFvuem7-=s64",
      "userId": "10700062273568709982"
     },
     "user_tz": -330
    },
    "id": "inLPVv6dRo73",
    "outputId": "dce62e36-ca90-498e-be37-60b41fda7c14"
   },
   "outputs": [
    {
     "name": "stdout",
     "output_type": "stream",
     "text": [
      "{'n_neighbors': 4}\n",
      "Train Score: 0.9967213114754099 .\n",
      "Validation Score: 0.6666666666666666 .\n"
     ]
    }
   ],
   "source": [
    "knn = KNeighborsClassifier()\n",
    "\n",
    "param_grid_knn = {'n_neighbors':[4,5,6]}\n",
    "\n",
    "knn_grid = GridSearchCV(knn, param_grid=param_grid_knn, cv=5)\n",
    "\n",
    "\n",
    "knn_grid.fit(x_train_re,y_train_re)\n",
    "\n",
    "print(knn_grid.best_params_)\n",
    "\n",
    "train_pred_rf = knn_grid.predict(x_train_re)\n",
    "test_pred_rf = knn_grid.predict(x_test_re)\n",
    "\n",
    "print(\"Train Score: {} .\" .format(f1_score(y_train_re, train_pred_rf)))\n",
    "print(\"Validation Score: {} .\" .format(f1_score(y_test_re, test_pred_rf)))\n",
    "\n"
   ]
  },
  {
   "cell_type": "markdown",
   "metadata": {
    "colab_type": "text",
    "id": "vCVGIEJXSLnD"
   },
   "source": [
    "# Models using Label Encoding."
   ]
  },
  {
   "cell_type": "code",
   "execution_count": 0,
   "metadata": {
    "colab": {},
    "colab_type": "code",
    "id": "Dt6-3iMZVr3h"
   },
   "outputs": [],
   "source": [
    "#convert floats into int\n",
    "\n",
    "for col in ['TotalWorkingHours','Billable_Hours','Hours_off_Duty','Touring_Hours']:\n",
    "  train_copy[col] = train_copy[col].astype('int')"
   ]
  },
  {
   "cell_type": "code",
   "execution_count": 0,
   "metadata": {
    "colab": {},
    "colab_type": "code",
    "id": "fuwPRTrLVr3k"
   },
   "outputs": [],
   "source": [
    "#Do the same on the test data \n",
    "for col in ['TotalWorkingHours','Billable_Hours','Hours_off_Duty','Touring_Hours']:\n",
    "  test_copy[col] = test_copy[col].astype('int')"
   ]
  },
  {
   "cell_type": "code",
   "execution_count": 0,
   "metadata": {
    "colab": {},
    "colab_type": "code",
    "id": "I5AHUnacVr3m"
   },
   "outputs": [],
   "source": [
    "#creating the list of numeric attributes"
   ]
  },
  {
   "cell_type": "markdown",
   "metadata": {
    "colab_type": "text",
    "id": "yZPkq7lDVr3n"
   },
   "source": [
    "### Converting objects to categories "
   ]
  },
  {
   "cell_type": "code",
   "execution_count": 0,
   "metadata": {
    "colab": {},
    "colab_type": "code",
    "id": "L_SNKlYlVr3o"
   },
   "outputs": [],
   "source": [
    "#on training data\n",
    "\n",
    "for col in ['Sex','Designation','NoOfProjects','joining_year','joining_month']:\n",
    "  train_copy[col] = train_copy[col].astype('object')\n",
    "#on testing data \n",
    "\n",
    "for col in ['Sex','Designation','NoOfProjects','joining_year','joining_month']:\n",
    "  test_copy[col] = test_copy[col].astype('object')\n",
    "\n",
    "train_copy['Left_Company'] = train_copy['Left_Company'].astype('category')"
   ]
  },
  {
   "cell_type": "code",
   "execution_count": 0,
   "metadata": {
    "colab": {},
    "colab_type": "code",
    "id": "bUegvvA-Y45c"
   },
   "outputs": [],
   "source": [
    "del train_copy['Left_Company']"
   ]
  },
  {
   "cell_type": "markdown",
   "metadata": {
    "colab_type": "text",
    "id": "WfbNEJF-Vr3v"
   },
   "source": [
    "### Encoding the data using Label encoder"
   ]
  },
  {
   "cell_type": "code",
   "execution_count": 0,
   "metadata": {
    "colab": {},
    "colab_type": "code",
    "id": "2TjJzQ0uTc8F"
   },
   "outputs": [],
   "source": [
    "#pass the label encoded data to the random forest Model\n",
    "\n",
    "for x in train_copy.columns:\n",
    "  if train_copy[x].dtype == 'object':\n",
    "        lbl = preprocessing.LabelEncoder()\n",
    "        lbl.fit(list(train_copy[x].values))\n",
    "        train_copy[x] = lbl.transform(list(train_copy[x].values))\n",
    "        "
   ]
  },
  {
   "cell_type": "code",
   "execution_count": 0,
   "metadata": {
    "colab": {
     "base_uri": "https://localhost:8080/",
     "height": 216
    },
    "colab_type": "code",
    "executionInfo": {
     "elapsed": 43310,
     "status": "ok",
     "timestamp": 1568700029307,
     "user": {
      "displayName": "Raghuvaran Tyson",
      "photoUrl": "https://lh3.googleusercontent.com/a-/AAuE7mBhAZB-htu3DgBaqN_MOdG5zfYZFANwOFvuem7-=s64",
      "userId": "10700062273568709982"
     },
     "user_tz": -330
    },
    "id": "DWASkyozYOCo",
    "outputId": "193e3bc0-3d40-46e5-f158-d0fa49237a4d"
   },
   "outputs": [
    {
     "data": {
      "text/html": [
       "<div>\n",
       "<style scoped>\n",
       "    .dataframe tbody tr th:only-of-type {\n",
       "        vertical-align: middle;\n",
       "    }\n",
       "\n",
       "    .dataframe tbody tr th {\n",
       "        vertical-align: top;\n",
       "    }\n",
       "\n",
       "    .dataframe thead th {\n",
       "        text-align: right;\n",
       "    }\n",
       "</style>\n",
       "<table border=\"1\" class=\"dataframe\">\n",
       "  <thead>\n",
       "    <tr style=\"text-align: right;\">\n",
       "      <th></th>\n",
       "      <th>Job_History</th>\n",
       "      <th>Designation</th>\n",
       "      <th>Sex</th>\n",
       "      <th>TotalWorkingHours</th>\n",
       "      <th>Billable_Hours</th>\n",
       "      <th>Hours_off_Duty</th>\n",
       "      <th>Touring_Hours</th>\n",
       "      <th>NoOfProjects</th>\n",
       "      <th>ActualTimeSpent</th>\n",
       "      <th>joining_year</th>\n",
       "      <th>joining_month</th>\n",
       "      <th>job_count</th>\n",
       "    </tr>\n",
       "  </thead>\n",
       "  <tbody>\n",
       "    <tr>\n",
       "      <th>0</th>\n",
       "      <td>156</td>\n",
       "      <td>2</td>\n",
       "      <td>1</td>\n",
       "      <td>205</td>\n",
       "      <td>189</td>\n",
       "      <td>72</td>\n",
       "      <td>189</td>\n",
       "      <td>3</td>\n",
       "      <td>231</td>\n",
       "      <td>8</td>\n",
       "      <td>0</td>\n",
       "      <td>3</td>\n",
       "    </tr>\n",
       "    <tr>\n",
       "      <th>1</th>\n",
       "      <td>217</td>\n",
       "      <td>4</td>\n",
       "      <td>0</td>\n",
       "      <td>241</td>\n",
       "      <td>233</td>\n",
       "      <td>120</td>\n",
       "      <td>186</td>\n",
       "      <td>2</td>\n",
       "      <td>147</td>\n",
       "      <td>3</td>\n",
       "      <td>1</td>\n",
       "      <td>4</td>\n",
       "    </tr>\n",
       "    <tr>\n",
       "      <th>2</th>\n",
       "      <td>129</td>\n",
       "      <td>3</td>\n",
       "      <td>1</td>\n",
       "      <td>278</td>\n",
       "      <td>264</td>\n",
       "      <td>40</td>\n",
       "      <td>264</td>\n",
       "      <td>3</td>\n",
       "      <td>308</td>\n",
       "      <td>8</td>\n",
       "      <td>11</td>\n",
       "      <td>2</td>\n",
       "    </tr>\n",
       "    <tr>\n",
       "      <th>3</th>\n",
       "      <td>28</td>\n",
       "      <td>3</td>\n",
       "      <td>1</td>\n",
       "      <td>345</td>\n",
       "      <td>233</td>\n",
       "      <td>64</td>\n",
       "      <td>0</td>\n",
       "      <td>2</td>\n",
       "      <td>217</td>\n",
       "      <td>9</td>\n",
       "      <td>0</td>\n",
       "      <td>3</td>\n",
       "    </tr>\n",
       "    <tr>\n",
       "      <th>4</th>\n",
       "      <td>34</td>\n",
       "      <td>3</td>\n",
       "      <td>1</td>\n",
       "      <td>270</td>\n",
       "      <td>249</td>\n",
       "      <td>88</td>\n",
       "      <td>213</td>\n",
       "      <td>2</td>\n",
       "      <td>231</td>\n",
       "      <td>8</td>\n",
       "      <td>11</td>\n",
       "      <td>1</td>\n",
       "    </tr>\n",
       "  </tbody>\n",
       "</table>\n",
       "</div>"
      ],
      "text/plain": [
       "   Job_History  Designation  Sex  ...  joining_year  joining_month  job_count\n",
       "0          156            2    1  ...             8              0          3\n",
       "1          217            4    0  ...             3              1          4\n",
       "2          129            3    1  ...             8             11          2\n",
       "3           28            3    1  ...             9              0          3\n",
       "4           34            3    1  ...             8             11          1\n",
       "\n",
       "[5 rows x 12 columns]"
      ]
     },
     "execution_count": 86,
     "metadata": {
      "tags": []
     },
     "output_type": "execute_result"
    }
   ],
   "source": [
    "train_copy.head()"
   ]
  },
  {
   "cell_type": "code",
   "execution_count": 0,
   "metadata": {
    "colab": {},
    "colab_type": "code",
    "id": "4zJSFEGnZ0Z7"
   },
   "outputs": [],
   "source": [
    "x_train_l, x_test_l, y_train_l, y_test_l = train_test_split(train_copy, y, test_size= 0.3, random_state=12, stratify= y)"
   ]
  },
  {
   "cell_type": "code",
   "execution_count": 0,
   "metadata": {
    "colab": {
     "base_uri": "https://localhost:8080/",
     "height": 584
    },
    "colab_type": "code",
    "executionInfo": {
     "elapsed": 43277,
     "status": "ok",
     "timestamp": 1568700029310,
     "user": {
      "displayName": "Raghuvaran Tyson",
      "photoUrl": "https://lh3.googleusercontent.com/a-/AAuE7mBhAZB-htu3DgBaqN_MOdG5zfYZFANwOFvuem7-=s64",
      "userId": "10700062273568709982"
     },
     "user_tz": -330
    },
    "id": "xJr6KHtoYUtT",
    "outputId": "ca2a823f-1498-4098-9a3a-be2c3c68ac3f"
   },
   "outputs": [
    {
     "data": {
      "text/html": [
       "<div>\n",
       "<style scoped>\n",
       "    .dataframe tbody tr th:only-of-type {\n",
       "        vertical-align: middle;\n",
       "    }\n",
       "\n",
       "    .dataframe tbody tr th {\n",
       "        vertical-align: top;\n",
       "    }\n",
       "\n",
       "    .dataframe thead th {\n",
       "        text-align: right;\n",
       "    }\n",
       "</style>\n",
       "<table border=\"1\" class=\"dataframe\">\n",
       "  <thead>\n",
       "    <tr style=\"text-align: right;\">\n",
       "      <th></th>\n",
       "      <th>Job_History</th>\n",
       "      <th>Designation</th>\n",
       "      <th>Sex</th>\n",
       "      <th>TotalWorkingHours</th>\n",
       "      <th>Billable_Hours</th>\n",
       "      <th>Hours_off_Duty</th>\n",
       "      <th>Touring_Hours</th>\n",
       "      <th>NoOfProjects</th>\n",
       "      <th>ActualTimeSpent</th>\n",
       "      <th>joining_year</th>\n",
       "      <th>joining_month</th>\n",
       "      <th>job_count</th>\n",
       "    </tr>\n",
       "  </thead>\n",
       "  <tbody>\n",
       "    <tr>\n",
       "      <th>0</th>\n",
       "      <td>Worked at Company - 510 , Company - 658 , Comp...</td>\n",
       "      <td>Senior</td>\n",
       "      <td>0</td>\n",
       "      <td>278</td>\n",
       "      <td>263</td>\n",
       "      <td>90</td>\n",
       "      <td>2</td>\n",
       "      <td>2</td>\n",
       "      <td>203</td>\n",
       "      <td>2012</td>\n",
       "      <td>01</td>\n",
       "      <td>4</td>\n",
       "    </tr>\n",
       "    <tr>\n",
       "      <th>1</th>\n",
       "      <td>Worked at Company - 42 , Company - 432 , Compa...</td>\n",
       "      <td>VP</td>\n",
       "      <td>1</td>\n",
       "      <td>273</td>\n",
       "      <td>256</td>\n",
       "      <td>72</td>\n",
       "      <td>176</td>\n",
       "      <td>3</td>\n",
       "      <td>182</td>\n",
       "      <td>2012</td>\n",
       "      <td>02</td>\n",
       "      <td>3</td>\n",
       "    </tr>\n",
       "    <tr>\n",
       "      <th>2</th>\n",
       "      <td>Worked at Company - 99 , Company - 88 , Compan...</td>\n",
       "      <td>EVP</td>\n",
       "      <td>1</td>\n",
       "      <td>275</td>\n",
       "      <td>179</td>\n",
       "      <td>48</td>\n",
       "      <td>176</td>\n",
       "      <td>3</td>\n",
       "      <td>154</td>\n",
       "      <td>2012</td>\n",
       "      <td>02</td>\n",
       "      <td>3</td>\n",
       "    </tr>\n",
       "    <tr>\n",
       "      <th>3</th>\n",
       "      <td>Worked at Company - 554 , Company - 304</td>\n",
       "      <td>EVP</td>\n",
       "      <td>1</td>\n",
       "      <td>238</td>\n",
       "      <td>215</td>\n",
       "      <td>40</td>\n",
       "      <td>160</td>\n",
       "      <td>3</td>\n",
       "      <td>238</td>\n",
       "      <td>2012</td>\n",
       "      <td>04</td>\n",
       "      <td>2</td>\n",
       "    </tr>\n",
       "    <tr>\n",
       "      <th>4</th>\n",
       "      <td>Worked at Company - 548 , Company - 405</td>\n",
       "      <td>VP</td>\n",
       "      <td>1</td>\n",
       "      <td>293</td>\n",
       "      <td>228</td>\n",
       "      <td>88</td>\n",
       "      <td>228</td>\n",
       "      <td>4</td>\n",
       "      <td>315</td>\n",
       "      <td>2006</td>\n",
       "      <td>09</td>\n",
       "      <td>2</td>\n",
       "    </tr>\n",
       "  </tbody>\n",
       "</table>\n",
       "</div>"
      ],
      "text/plain": [
       "                                         Job_History  ... job_count\n",
       "0  Worked at Company - 510 , Company - 658 , Comp...  ...         4\n",
       "1  Worked at Company - 42 , Company - 432 , Compa...  ...         3\n",
       "2  Worked at Company - 99 , Company - 88 , Compan...  ...         3\n",
       "3            Worked at Company - 554 , Company - 304  ...         2\n",
       "4            Worked at Company - 548 , Company - 405  ...         2\n",
       "\n",
       "[5 rows x 12 columns]"
      ]
     },
     "execution_count": 88,
     "metadata": {
      "tags": []
     },
     "output_type": "execute_result"
    }
   ],
   "source": [
    "test_copy.head()"
   ]
  },
  {
   "cell_type": "markdown",
   "metadata": {
    "colab_type": "text",
    "id": "n8zKFN0DamUK"
   },
   "source": [
    "## Model 1 Random forest :"
   ]
  },
  {
   "cell_type": "code",
   "execution_count": 0,
   "metadata": {
    "colab": {
     "base_uri": "https://localhost:8080/",
     "height": 100
    },
    "colab_type": "code",
    "executionInfo": {
     "elapsed": 46251,
     "status": "ok",
     "timestamp": 1568700032306,
     "user": {
      "displayName": "Raghuvaran Tyson",
      "photoUrl": "https://lh3.googleusercontent.com/a-/AAuE7mBhAZB-htu3DgBaqN_MOdG5zfYZFANwOFvuem7-=s64",
      "userId": "10700062273568709982"
     },
     "user_tz": -330
    },
    "id": "rmbQoKfvSKyD",
    "outputId": "31c72208-bcdd-4983-adbd-8be2f746b7d2"
   },
   "outputs": [
    {
     "name": "stdout",
     "output_type": "stream",
     "text": [
      "{'criterion': 'gini', 'max_depth': 4, 'min_samples_leaf': 1, 'min_samples_split': 5}\n",
      "Train Score: 0.9142857142857143 .\n",
      "Validation Score: 0.6666666666666666 .\n",
      "CPU times: user 2.49 s, sys: 3.06 ms, total: 2.5 s\n",
      "Wall time: 2.5 s\n"
     ]
    }
   ],
   "source": [
    "%%time\n",
    "clf_rf = RandomForestClassifier()\n",
    "\n",
    "kfold = StratifiedKFold(n_splits=5, shuffle=True, random_state=143)\n",
    "\n",
    "param_grid = {\"n_estimators\" : [3,4,5,10,12,13,14],\n",
    "              \"max_depth\" : [2,3,5,6],\n",
    "              \"max_features\" : [3, 5, 7],\n",
    "              \"min_samples_leaf\" : [4, 6, 8, 10]}\n",
    "\n",
    "rf_grid = GridSearchCV(clf_rf, param_grid=dt_param_grid, cv=kfold)\n",
    "\n",
    "\n",
    "rf_grid.fit(x_train_l,y_train_l)\n",
    "\n",
    "print(rf_grid.best_params_)\n",
    "\n",
    "train_pred_rf = rf_grid.predict(x_train_l)\n",
    "test_pred_rf = rf_grid.predict(x_test_l)\n",
    "\n",
    "print(\"Train Score: {} .\" .format(f1_score(y_train_l, train_pred_rf)))\n",
    "print(\"Validation Score: {} .\" .format(f1_score(y_test_l, test_pred_rf)))\n",
    "\n"
   ]
  },
  {
   "cell_type": "markdown",
   "metadata": {
    "colab_type": "text",
    "id": "o0pkmLhZavV8"
   },
   "source": [
    "## Model 2 xgboost : "
   ]
  },
  {
   "cell_type": "code",
   "execution_count": 0,
   "metadata": {
    "colab": {},
    "colab_type": "code",
    "id": "p8IBJpnLbMCV"
   },
   "outputs": [],
   "source": [
    "import xgboost as xgb\n",
    "from sklearn.model_selection import GridSearchCV"
   ]
  },
  {
   "cell_type": "code",
   "execution_count": 0,
   "metadata": {
    "colab": {
     "base_uri": "https://localhost:8080/"
    },
    "colab_type": "code",
    "executionInfo": {
     "elapsed": 55626,
     "status": "ok",
     "timestamp": 1568700041716,
     "user": {
      "displayName": "Raghuvaran Tyson",
      "photoUrl": "https://lh3.googleusercontent.com/a-/AAuE7mBhAZB-htu3DgBaqN_MOdG5zfYZFANwOFvuem7-=s64",
      "userId": "10700062273568709982"
     },
     "user_tz": -330
    },
    "id": "vF5X-t3ZTbaP",
    "outputId": "e173cdec-52f0-4cd0-ace5-fd5ccdf56d44"
   },
   "outputs": [
    {
     "name": "stdout",
     "output_type": "stream",
     "text": [
      "{'colsample_bytree': 0.5, 'learning_rate': 0.1, 'max_depth': 3, 'n_estimators': 6, 'objective': 'binary:logistic', 'subsample': 0.8}\n",
      "Train Score: 0.8823529411764706.\n",
      "Validation Score: 0.5454545454545454.\n",
      "CPU times: user 1.93 s, sys: 19.4 ms, total: 1.95 s\n",
      "Wall time: 9.55 s\n"
     ]
    }
   ],
   "source": [
    "\n",
    "%%time\n",
    "xgb = xgb.XGBClassifier()\n",
    "\n",
    "\n",
    "kfold = StratifiedKFold(n_splits=5, shuffle=True, random_state=143)\n",
    "\n",
    "param_grid = {\"n_estimators\" : [3,4,5,6,7,8,10],\n",
    "              \"max_depth\" : [3,5,6,7],\n",
    "              \"colsample_bytree\":[0.4,0.5],\n",
    "              \"learning_rate\": [0.001,0.01,0.1],\n",
    "              \"subsample\":[0.8,0.6],\n",
    "              'objective':['binary:logistic']}\n",
    "\n",
    "xg_grid = GridSearchCV(xgb, param_grid=param_grid, n_jobs=-1, cv=kfold)\n",
    "\n",
    "\n",
    "xg_grid.fit(x_train_l,y_train_l)\n",
    "\n",
    "print(xg_grid.best_params_)\n",
    "\n",
    "train_pred_xgb = xg_grid.predict(x_train_l)\n",
    "test_pred_xgb = xg_grid.predict(x_test_l)\n",
    "\n",
    "print(\"Train Score: {}.\" .format(f1_score(y_train_l, train_pred_xgb)))\n",
    "print(\"Validation Score: {}.\" .format(f1_score(y_test_l, test_pred_xgb)))\n"
   ]
  },
  {
   "cell_type": "markdown",
   "metadata": {
    "colab_type": "text",
    "id": "GZFdfIaobtn-"
   },
   "source": [
    "## Model 3 Gradient Boosting : "
   ]
  },
  {
   "cell_type": "code",
   "execution_count": 0,
   "metadata": {
    "colab": {
     "base_uri": "https://localhost:8080/"
    },
    "colab_type": "code",
    "executionInfo": {
     "elapsed": 57107,
     "status": "ok",
     "timestamp": 1568700043214,
     "user": {
      "displayName": "Raghuvaran Tyson",
      "photoUrl": "https://lh3.googleusercontent.com/a-/AAuE7mBhAZB-htu3DgBaqN_MOdG5zfYZFANwOFvuem7-=s64",
      "userId": "10700062273568709982"
     },
     "user_tz": -330
    },
    "id": "53pFwXSObtYX",
    "outputId": "d11c4988-8a6a-472a-dd75-968906ab6875"
   },
   "outputs": [
    {
     "name": "stdout",
     "output_type": "stream",
     "text": [
      "The Best parameters are: {'learning_rate': 0.1, 'max_depth': 2, 'max_features': 0.3, 'n_estimators': 20, 'subsample': 0.8} .\n",
      "0.5384615384615384\n",
      "0.0\n",
      "CPU times: user 179 ms, sys: 4.05 ms, total: 183 ms\n",
      "Wall time: 1.16 s\n"
     ]
    }
   ],
   "source": [
    "\n",
    "%%time\n",
    "clf_gb = GradientBoostingClassifier()\n",
    "\n",
    "gbm_param_grid = {'max_depth': [2,3,4],\n",
    "                  'subsample': [0.8,0.6],\n",
    "                  'max_features':[0.3], \n",
    "                  'n_estimators': [5,7,9,11],\n",
    "                  'learning_rate':[0.1]}\n",
    "\n",
    "gbm_grid_l = GridSearchCV(clf_gb, param_grid=gbm_param_grid, n_jobs =-1, cv=5)\n",
    "\n",
    "gbm_grid_l.fit(x_train_l, y_train_l)\n",
    "\n",
    "print(\"The Best parameters are: {} .\".format(gbm_grid.best_params_))\n",
    "\n",
    "train_pred_gb_l = gbm_grid_l.predict(x_train_l)\n",
    "test_pred_gb_l = gbm_grid_l.predict(x_test_l)\n",
    "print(f1_score(y_train_l, train_pred_gb_l))\n",
    "print(f1_score(y_test_l, test_pred_gb_l))\n"
   ]
  },
  {
   "cell_type": "code",
   "execution_count": 0,
   "metadata": {
    "colab": {},
    "colab_type": "code",
    "id": "jd77cVQMhpFC"
   },
   "outputs": [],
   "source": []
  },
  {
   "cell_type": "markdown",
   "metadata": {
    "colab_type": "text",
    "id": "7ke28T-Ehq7t"
   },
   "source": [
    "### The training data is insufficient & it is underfitting when building the models. \n",
    "\n",
    "\n",
    "### The target labelled data is class imbalanced & should perform SMOTE method to over sample the data, It may be helpful in building the model without underfitting. "
   ]
  },
  {
   "cell_type": "markdown",
   "metadata": {
    "colab_type": "text",
    "id": "vcIbV574ix4n"
   },
   "source": [
    "### Feature Engineering can be done by using the Job_History column by counting the no of companies he worked earlier & make better predictions. "
   ]
  },
  {
   "cell_type": "code",
   "execution_count": 0,
   "metadata": {
    "colab": {},
    "colab_type": "code",
    "id": "yexFK5tQirGw"
   },
   "outputs": [],
   "source": []
  },
  {
   "cell_type": "markdown",
   "metadata": {
    "colab_type": "text",
    "id": "Jbpp-Wy93hnQ"
   },
   "source": [
    "# Deep Learning Techniques : "
   ]
  },
  {
   "cell_type": "code",
   "execution_count": 0,
   "metadata": {
    "colab": {},
    "colab_type": "code",
    "id": "ePQr0qzG3gQu"
   },
   "outputs": [],
   "source": [
    "#importing packages \n",
    "import tensorflow as tf \n",
    "import keras\n",
    "from keras import Sequential\n",
    "from keras.layers import Dense, BatchNormalization, Dropout\n",
    "from keras.layers import Activation"
   ]
  },
  {
   "cell_type": "code",
   "execution_count": 0,
   "metadata": {
    "colab": {
     "base_uri": "https://localhost:8080/",
     "height": 84
    },
    "colab_type": "code",
    "executionInfo": {
     "elapsed": 665,
     "status": "ok",
     "timestamp": 1568700531019,
     "user": {
      "displayName": "Raghuvaran Tyson",
      "photoUrl": "https://lh3.googleusercontent.com/a-/AAuE7mBhAZB-htu3DgBaqN_MOdG5zfYZFANwOFvuem7-=s64",
      "userId": "10700062273568709982"
     },
     "user_tz": -330
    },
    "id": "F8MNls860ZZU",
    "outputId": "66405b7b-ba6c-4c71-cbb8-be780368f033"
   },
   "outputs": [
    {
     "name": "stdout",
     "output_type": "stream",
     "text": [
      "(304, 283)\n",
      "(132, 283)\n",
      "(304,)\n",
      "(132,)\n"
     ]
    }
   ],
   "source": [
    "# chceking the splitted data \n",
    "print(x_train_re.shape)\n",
    "print(x_test_re.shape)\n",
    "print(y_train_re.shape)\n",
    "print(y_test_re.shape)\n"
   ]
  },
  {
   "cell_type": "code",
   "execution_count": 0,
   "metadata": {
    "colab": {
     "base_uri": "https://localhost:8080/",
     "height": 84
    },
    "colab_type": "code",
    "executionInfo": {
     "elapsed": 1052,
     "status": "ok",
     "timestamp": 1568700750680,
     "user": {
      "displayName": "Raghuvaran Tyson",
      "photoUrl": "https://lh3.googleusercontent.com/a-/AAuE7mBhAZB-htu3DgBaqN_MOdG5zfYZFANwOFvuem7-=s64",
      "userId": "10700062273568709982"
     },
     "user_tz": -330
    },
    "id": "IABTWDdL2GH2",
    "outputId": "91a76f51-18f4-461b-a30f-a4104efad47d"
   },
   "outputs": [
    {
     "name": "stdout",
     "output_type": "stream",
     "text": [
      "(171, 12)\n",
      "(74, 12)\n",
      "(171,)\n",
      "(74,)\n"
     ]
    }
   ],
   "source": [
    "#chcecking the label encoded  data \n",
    "\n",
    "print(x_train_l.shape)\n",
    "print(x_test_l.shape)\n",
    "print(y_train_l.shape) \n",
    "print(y_test_l.shape)"
   ]
  },
  {
   "cell_type": "code",
   "execution_count": 0,
   "metadata": {
    "colab": {
     "base_uri": "https://localhost:8080/",
     "height": 234
    },
    "colab_type": "code",
    "executionInfo": {
     "elapsed": 1034,
     "status": "ok",
     "timestamp": 1568703663485,
     "user": {
      "displayName": "Raghuvaran Tyson",
      "photoUrl": "https://lh3.googleusercontent.com/a-/AAuE7mBhAZB-htu3DgBaqN_MOdG5zfYZFANwOFvuem7-=s64",
      "userId": "10700062273568709982"
     },
     "user_tz": -330
    },
    "id": "7M4N8v3YBfer",
    "outputId": "45848bfd-9e80-405a-cdf4-6824ef6ca27e"
   },
   "outputs": [
    {
     "data": {
      "text/plain": [
       "Job_History          int64\n",
       "Designation          int64\n",
       "Sex                  int64\n",
       "TotalWorkingHours    int64\n",
       "Billable_Hours       int64\n",
       "Hours_off_Duty       int64\n",
       "Touring_Hours        int64\n",
       "NoOfProjects         int64\n",
       "ActualTimeSpent      int64\n",
       "joining_year         int64\n",
       "joining_month        int64\n",
       "job_count            int64\n",
       "dtype: object"
      ]
     },
     "execution_count": 122,
     "metadata": {
      "tags": []
     },
     "output_type": "execute_result"
    }
   ],
   "source": [
    "x_train_l.dtypes"
   ]
  },
  {
   "cell_type": "code",
   "execution_count": 0,
   "metadata": {
    "colab": {},
    "colab_type": "code",
    "id": "JQ-IAdex1Tu8"
   },
   "outputs": [],
   "source": [
    "model = Sequential()\n",
    "\n",
    "#layer-1\n",
    "model.add(Dense(6,kernel_initializer='glorot_uniform', input_dim=283))\n",
    "# model.add(BatchNormalization())\n",
    "model.add(Activation('relu'))\n",
    "\n",
    "#layer -2 \n",
    "\n",
    "#model.add(Dense(6, kernel_initializer='glorot_uniform', activation='relu'))\n",
    "#model.add(BatchNormalization())\n",
    "\n",
    "#layer-3 -Output layer \n",
    "\n",
    "model.add(Dense(1, activation='softmax', kernel_initializer='glorot_normal'))\n",
    "\n",
    "#compiling the model \n",
    "\n",
    "model.compile(optimizer='adam', loss='binary_crossentropy', metrics=['accuracy'])"
   ]
  },
  {
   "cell_type": "code",
   "execution_count": 0,
   "metadata": {
    "colab": {
     "base_uri": "https://localhost:8080/",
     "height": 1000
    },
    "colab_type": "code",
    "executionInfo": {
     "elapsed": 6466,
     "status": "ok",
     "timestamp": 1568703575015,
     "user": {
      "displayName": "Raghuvaran Tyson",
      "photoUrl": "https://lh3.googleusercontent.com/a-/AAuE7mBhAZB-htu3DgBaqN_MOdG5zfYZFANwOFvuem7-=s64",
      "userId": "10700062273568709982"
     },
     "user_tz": -330
    },
    "id": "lXWHB4ea1lze",
    "outputId": "ee502dcb-ce16-45dc-8f56-a0b432261a38"
   },
   "outputs": [
    {
     "name": "stdout",
     "output_type": "stream",
     "text": [
      "Train on 220 samples, validate on 25 samples\n",
      "Epoch 1/100\n",
      "220/220 [==============================] - 0s 295us/step - loss: 14.1308 - acc: 0.1136 - val_loss: 14.6670 - val_acc: 0.0800\n",
      "Epoch 2/100\n",
      "220/220 [==============================] - 0s 255us/step - loss: 14.1308 - acc: 0.1136 - val_loss: 14.6670 - val_acc: 0.0800\n",
      "Epoch 3/100\n",
      "220/220 [==============================] - 0s 236us/step - loss: 14.1308 - acc: 0.1136 - val_loss: 14.6670 - val_acc: 0.0800\n",
      "Epoch 4/100\n",
      "220/220 [==============================] - 0s 231us/step - loss: 14.1308 - acc: 0.1136 - val_loss: 14.6670 - val_acc: 0.0800\n",
      "Epoch 5/100\n",
      "220/220 [==============================] - 0s 1ms/step - loss: 14.1308 - acc: 0.1136 - val_loss: 14.6670 - val_acc: 0.0800\n",
      "Epoch 6/100\n",
      "220/220 [==============================] - 0s 237us/step - loss: 14.1308 - acc: 0.1136 - val_loss: 14.6670 - val_acc: 0.0800\n",
      "Epoch 7/100\n",
      "220/220 [==============================] - 0s 224us/step - loss: 14.1308 - acc: 0.1136 - val_loss: 14.6670 - val_acc: 0.0800\n",
      "Epoch 8/100\n",
      "220/220 [==============================] - 0s 227us/step - loss: 14.1308 - acc: 0.1136 - val_loss: 14.6670 - val_acc: 0.0800\n",
      "Epoch 9/100\n",
      "220/220 [==============================] - 0s 237us/step - loss: 14.1308 - acc: 0.1136 - val_loss: 14.6670 - val_acc: 0.0800\n",
      "Epoch 10/100\n",
      "220/220 [==============================] - 0s 225us/step - loss: 14.1308 - acc: 0.1136 - val_loss: 14.6670 - val_acc: 0.0800\n",
      "Epoch 11/100\n",
      "220/220 [==============================] - 0s 227us/step - loss: 14.1308 - acc: 0.1136 - val_loss: 14.6670 - val_acc: 0.0800\n",
      "Epoch 12/100\n",
      "220/220 [==============================] - 0s 228us/step - loss: 14.1308 - acc: 0.1136 - val_loss: 14.6670 - val_acc: 0.0800\n",
      "Epoch 13/100\n",
      "220/220 [==============================] - 0s 218us/step - loss: 14.1308 - acc: 0.1136 - val_loss: 14.6670 - val_acc: 0.0800\n",
      "Epoch 14/100\n",
      "220/220 [==============================] - 0s 231us/step - loss: 14.1308 - acc: 0.1136 - val_loss: 14.6670 - val_acc: 0.0800\n",
      "Epoch 15/100\n",
      "220/220 [==============================] - 0s 229us/step - loss: 14.1308 - acc: 0.1136 - val_loss: 14.6670 - val_acc: 0.0800\n",
      "Epoch 16/100\n",
      "220/220 [==============================] - 0s 217us/step - loss: 14.1308 - acc: 0.1136 - val_loss: 14.6670 - val_acc: 0.0800\n",
      "Epoch 17/100\n",
      "220/220 [==============================] - 0s 212us/step - loss: 14.1308 - acc: 0.1136 - val_loss: 14.6670 - val_acc: 0.0800\n",
      "Epoch 18/100\n",
      "220/220 [==============================] - 0s 232us/step - loss: 14.1308 - acc: 0.1136 - val_loss: 14.6670 - val_acc: 0.0800\n",
      "Epoch 19/100\n",
      "220/220 [==============================] - 0s 222us/step - loss: 14.1308 - acc: 0.1136 - val_loss: 14.6670 - val_acc: 0.0800\n",
      "Epoch 20/100\n",
      "220/220 [==============================] - 0s 223us/step - loss: 14.1308 - acc: 0.1136 - val_loss: 14.6670 - val_acc: 0.0800\n",
      "Epoch 21/100\n",
      "220/220 [==============================] - 0s 244us/step - loss: 14.1308 - acc: 0.1136 - val_loss: 14.6670 - val_acc: 0.0800\n",
      "Epoch 22/100\n",
      "220/220 [==============================] - 0s 344us/step - loss: 14.1308 - acc: 0.1136 - val_loss: 14.6670 - val_acc: 0.0800\n",
      "Epoch 23/100\n",
      "220/220 [==============================] - 0s 215us/step - loss: 14.1308 - acc: 0.1136 - val_loss: 14.6670 - val_acc: 0.0800\n",
      "Epoch 24/100\n",
      "220/220 [==============================] - 0s 213us/step - loss: 14.1308 - acc: 0.1136 - val_loss: 14.6670 - val_acc: 0.0800\n",
      "Epoch 25/100\n",
      "220/220 [==============================] - 0s 234us/step - loss: 14.1308 - acc: 0.1136 - val_loss: 14.6670 - val_acc: 0.0800\n",
      "Epoch 26/100\n",
      "220/220 [==============================] - 0s 230us/step - loss: 14.1308 - acc: 0.1136 - val_loss: 14.6670 - val_acc: 0.0800\n",
      "Epoch 27/100\n",
      "220/220 [==============================] - 0s 243us/step - loss: 14.1308 - acc: 0.1136 - val_loss: 14.6670 - val_acc: 0.0800\n",
      "Epoch 28/100\n",
      "220/220 [==============================] - 0s 238us/step - loss: 14.1308 - acc: 0.1136 - val_loss: 14.6670 - val_acc: 0.0800\n",
      "Epoch 29/100\n",
      "220/220 [==============================] - 0s 238us/step - loss: 14.1308 - acc: 0.1136 - val_loss: 14.6670 - val_acc: 0.0800\n",
      "Epoch 30/100\n",
      "220/220 [==============================] - 0s 264us/step - loss: 14.1308 - acc: 0.1136 - val_loss: 14.6670 - val_acc: 0.0800\n",
      "Epoch 31/100\n",
      "220/220 [==============================] - 0s 247us/step - loss: 14.1308 - acc: 0.1136 - val_loss: 14.6670 - val_acc: 0.0800\n",
      "Epoch 32/100\n",
      "220/220 [==============================] - 0s 242us/step - loss: 14.1308 - acc: 0.1136 - val_loss: 14.6670 - val_acc: 0.0800\n",
      "Epoch 33/100\n",
      "220/220 [==============================] - 0s 236us/step - loss: 14.1308 - acc: 0.1136 - val_loss: 14.6670 - val_acc: 0.0800\n",
      "Epoch 34/100\n",
      "220/220 [==============================] - 0s 235us/step - loss: 14.1308 - acc: 0.1136 - val_loss: 14.6670 - val_acc: 0.0800\n",
      "Epoch 35/100\n",
      "220/220 [==============================] - 0s 241us/step - loss: 14.1308 - acc: 0.1136 - val_loss: 14.6670 - val_acc: 0.0800\n",
      "Epoch 36/100\n",
      "220/220 [==============================] - 0s 233us/step - loss: 14.1308 - acc: 0.1136 - val_loss: 14.6670 - val_acc: 0.0800\n",
      "Epoch 37/100\n",
      "220/220 [==============================] - 0s 233us/step - loss: 14.1308 - acc: 0.1136 - val_loss: 14.6670 - val_acc: 0.0800\n",
      "Epoch 38/100\n",
      "220/220 [==============================] - 0s 230us/step - loss: 14.1308 - acc: 0.1136 - val_loss: 14.6670 - val_acc: 0.0800\n",
      "Epoch 39/100\n",
      "220/220 [==============================] - 0s 214us/step - loss: 14.1308 - acc: 0.1136 - val_loss: 14.6670 - val_acc: 0.0800\n",
      "Epoch 40/100\n",
      "220/220 [==============================] - 0s 232us/step - loss: 14.1308 - acc: 0.1136 - val_loss: 14.6670 - val_acc: 0.0800\n",
      "Epoch 41/100\n",
      "220/220 [==============================] - 0s 249us/step - loss: 14.1308 - acc: 0.1136 - val_loss: 14.6670 - val_acc: 0.0800\n",
      "Epoch 42/100\n",
      "220/220 [==============================] - 0s 246us/step - loss: 14.1308 - acc: 0.1136 - val_loss: 14.6670 - val_acc: 0.0800\n",
      "Epoch 43/100\n",
      "220/220 [==============================] - 0s 253us/step - loss: 14.1308 - acc: 0.1136 - val_loss: 14.6670 - val_acc: 0.0800\n",
      "Epoch 44/100\n",
      "220/220 [==============================] - 0s 242us/step - loss: 14.1308 - acc: 0.1136 - val_loss: 14.6670 - val_acc: 0.0800\n",
      "Epoch 45/100\n",
      "220/220 [==============================] - 0s 229us/step - loss: 14.1308 - acc: 0.1136 - val_loss: 14.6670 - val_acc: 0.0800\n",
      "Epoch 46/100\n",
      "220/220 [==============================] - 0s 257us/step - loss: 14.1308 - acc: 0.1136 - val_loss: 14.6670 - val_acc: 0.0800\n",
      "Epoch 47/100\n",
      "220/220 [==============================] - 0s 244us/step - loss: 14.1308 - acc: 0.1136 - val_loss: 14.6670 - val_acc: 0.0800\n",
      "Epoch 48/100\n",
      "220/220 [==============================] - 0s 242us/step - loss: 14.1308 - acc: 0.1136 - val_loss: 14.6670 - val_acc: 0.0800\n",
      "Epoch 49/100\n",
      "220/220 [==============================] - 0s 234us/step - loss: 14.1308 - acc: 0.1136 - val_loss: 14.6670 - val_acc: 0.0800\n",
      "Epoch 50/100\n",
      "220/220 [==============================] - 0s 229us/step - loss: 14.1308 - acc: 0.1136 - val_loss: 14.6670 - val_acc: 0.0800\n",
      "Epoch 51/100\n",
      "220/220 [==============================] - 0s 231us/step - loss: 14.1308 - acc: 0.1136 - val_loss: 14.6670 - val_acc: 0.0800\n",
      "Epoch 52/100\n",
      "220/220 [==============================] - 0s 217us/step - loss: 14.1308 - acc: 0.1136 - val_loss: 14.6670 - val_acc: 0.0800\n",
      "Epoch 53/100\n",
      "220/220 [==============================] - 0s 227us/step - loss: 14.1308 - acc: 0.1136 - val_loss: 14.6670 - val_acc: 0.0800\n",
      "Epoch 54/100\n",
      "220/220 [==============================] - 0s 233us/step - loss: 14.1308 - acc: 0.1136 - val_loss: 14.6670 - val_acc: 0.0800\n",
      "Epoch 55/100\n",
      "220/220 [==============================] - 0s 215us/step - loss: 14.1308 - acc: 0.1136 - val_loss: 14.6670 - val_acc: 0.0800\n",
      "Epoch 56/100\n",
      "220/220 [==============================] - 0s 223us/step - loss: 14.1308 - acc: 0.1136 - val_loss: 14.6670 - val_acc: 0.0800\n",
      "Epoch 57/100\n",
      "220/220 [==============================] - 0s 226us/step - loss: 14.1308 - acc: 0.1136 - val_loss: 14.6670 - val_acc: 0.0800\n",
      "Epoch 58/100\n",
      "220/220 [==============================] - 0s 202us/step - loss: 14.1308 - acc: 0.1136 - val_loss: 14.6670 - val_acc: 0.0800\n",
      "Epoch 59/100\n",
      "220/220 [==============================] - 0s 218us/step - loss: 14.1308 - acc: 0.1136 - val_loss: 14.6670 - val_acc: 0.0800\n",
      "Epoch 60/100\n",
      "220/220 [==============================] - 0s 271us/step - loss: 14.1308 - acc: 0.1136 - val_loss: 14.6670 - val_acc: 0.0800\n",
      "Epoch 61/100\n",
      "220/220 [==============================] - 0s 239us/step - loss: 14.1308 - acc: 0.1136 - val_loss: 14.6670 - val_acc: 0.0800\n",
      "Epoch 62/100\n",
      "220/220 [==============================] - 0s 248us/step - loss: 14.1308 - acc: 0.1136 - val_loss: 14.6670 - val_acc: 0.0800\n",
      "Epoch 63/100\n",
      "220/220 [==============================] - 0s 228us/step - loss: 14.1308 - acc: 0.1136 - val_loss: 14.6670 - val_acc: 0.0800\n",
      "Epoch 64/100\n",
      "220/220 [==============================] - 0s 226us/step - loss: 14.1308 - acc: 0.1136 - val_loss: 14.6670 - val_acc: 0.0800\n",
      "Epoch 65/100\n",
      "220/220 [==============================] - 0s 211us/step - loss: 14.1308 - acc: 0.1136 - val_loss: 14.6670 - val_acc: 0.0800\n",
      "Epoch 66/100\n",
      "220/220 [==============================] - 0s 259us/step - loss: 14.1308 - acc: 0.1136 - val_loss: 14.6670 - val_acc: 0.0800\n",
      "Epoch 67/100\n",
      "220/220 [==============================] - 0s 232us/step - loss: 14.1308 - acc: 0.1136 - val_loss: 14.6670 - val_acc: 0.0800\n",
      "Epoch 68/100\n",
      "220/220 [==============================] - 0s 229us/step - loss: 14.1308 - acc: 0.1136 - val_loss: 14.6670 - val_acc: 0.0800\n",
      "Epoch 69/100\n",
      "220/220 [==============================] - 0s 238us/step - loss: 14.1308 - acc: 0.1136 - val_loss: 14.6670 - val_acc: 0.0800\n",
      "Epoch 70/100\n",
      "220/220 [==============================] - 0s 250us/step - loss: 14.1308 - acc: 0.1136 - val_loss: 14.6670 - val_acc: 0.0800\n",
      "Epoch 71/100\n",
      "220/220 [==============================] - 0s 227us/step - loss: 14.1308 - acc: 0.1136 - val_loss: 14.6670 - val_acc: 0.0800\n",
      "Epoch 72/100\n",
      "220/220 [==============================] - 0s 228us/step - loss: 14.1308 - acc: 0.1136 - val_loss: 14.6670 - val_acc: 0.0800\n",
      "Epoch 73/100\n",
      "220/220 [==============================] - 0s 220us/step - loss: 14.1308 - acc: 0.1136 - val_loss: 14.6670 - val_acc: 0.0800\n",
      "Epoch 74/100\n",
      "220/220 [==============================] - 0s 226us/step - loss: 14.1308 - acc: 0.1136 - val_loss: 14.6670 - val_acc: 0.0800\n",
      "Epoch 75/100\n",
      "220/220 [==============================] - 0s 214us/step - loss: 14.1308 - acc: 0.1136 - val_loss: 14.6670 - val_acc: 0.0800\n",
      "Epoch 76/100\n",
      "220/220 [==============================] - 0s 281us/step - loss: 14.1308 - acc: 0.1136 - val_loss: 14.6670 - val_acc: 0.0800\n",
      "Epoch 77/100\n",
      "220/220 [==============================] - 0s 221us/step - loss: 14.1308 - acc: 0.1136 - val_loss: 14.6670 - val_acc: 0.0800\n",
      "Epoch 78/100\n",
      "220/220 [==============================] - 0s 225us/step - loss: 14.1308 - acc: 0.1136 - val_loss: 14.6670 - val_acc: 0.0800\n",
      "Epoch 79/100\n",
      "220/220 [==============================] - 0s 252us/step - loss: 14.1308 - acc: 0.1136 - val_loss: 14.6670 - val_acc: 0.0800\n",
      "Epoch 80/100\n",
      "220/220 [==============================] - 0s 219us/step - loss: 14.1308 - acc: 0.1136 - val_loss: 14.6670 - val_acc: 0.0800\n",
      "Epoch 81/100\n",
      "220/220 [==============================] - 0s 215us/step - loss: 14.1308 - acc: 0.1136 - val_loss: 14.6670 - val_acc: 0.0800\n",
      "Epoch 82/100\n",
      "220/220 [==============================] - 0s 215us/step - loss: 14.1308 - acc: 0.1136 - val_loss: 14.6670 - val_acc: 0.0800\n",
      "Epoch 83/100\n",
      "220/220 [==============================] - 0s 205us/step - loss: 14.1308 - acc: 0.1136 - val_loss: 14.6670 - val_acc: 0.0800\n",
      "Epoch 84/100\n",
      "220/220 [==============================] - 0s 219us/step - loss: 14.1308 - acc: 0.1136 - val_loss: 14.6670 - val_acc: 0.0800\n",
      "Epoch 85/100\n",
      "220/220 [==============================] - 0s 217us/step - loss: 14.1308 - acc: 0.1136 - val_loss: 14.6670 - val_acc: 0.0800\n",
      "Epoch 86/100\n",
      "220/220 [==============================] - 0s 215us/step - loss: 14.1308 - acc: 0.1136 - val_loss: 14.6670 - val_acc: 0.0800\n",
      "Epoch 87/100\n",
      "220/220 [==============================] - 0s 230us/step - loss: 14.1308 - acc: 0.1136 - val_loss: 14.6670 - val_acc: 0.0800\n",
      "Epoch 88/100\n",
      "220/220 [==============================] - 0s 224us/step - loss: 14.1308 - acc: 0.1136 - val_loss: 14.6670 - val_acc: 0.0800\n",
      "Epoch 89/100\n",
      "220/220 [==============================] - 0s 230us/step - loss: 14.1308 - acc: 0.1136 - val_loss: 14.6670 - val_acc: 0.0800\n",
      "Epoch 90/100\n",
      "220/220 [==============================] - 0s 227us/step - loss: 14.1308 - acc: 0.1136 - val_loss: 14.6670 - val_acc: 0.0800\n",
      "Epoch 91/100\n",
      "220/220 [==============================] - 0s 231us/step - loss: 14.1308 - acc: 0.1136 - val_loss: 14.6670 - val_acc: 0.0800\n",
      "Epoch 92/100\n",
      "220/220 [==============================] - 0s 223us/step - loss: 14.1308 - acc: 0.1136 - val_loss: 14.6670 - val_acc: 0.0800\n",
      "Epoch 93/100\n",
      "220/220 [==============================] - 0s 254us/step - loss: 14.1308 - acc: 0.1136 - val_loss: 14.6670 - val_acc: 0.0800\n",
      "Epoch 94/100\n",
      "220/220 [==============================] - 0s 234us/step - loss: 14.1308 - acc: 0.1136 - val_loss: 14.6670 - val_acc: 0.0800\n",
      "Epoch 95/100\n",
      "220/220 [==============================] - 0s 229us/step - loss: 14.1308 - acc: 0.1136 - val_loss: 14.6670 - val_acc: 0.0800\n",
      "Epoch 96/100\n",
      "220/220 [==============================] - 0s 240us/step - loss: 14.1308 - acc: 0.1136 - val_loss: 14.6670 - val_acc: 0.0800\n",
      "Epoch 97/100\n",
      "220/220 [==============================] - 0s 238us/step - loss: 14.1308 - acc: 0.1136 - val_loss: 14.6670 - val_acc: 0.0800\n",
      "Epoch 98/100\n",
      "220/220 [==============================] - 0s 213us/step - loss: 14.1308 - acc: 0.1136 - val_loss: 14.6670 - val_acc: 0.0800\n",
      "Epoch 99/100\n",
      "220/220 [==============================] - 0s 265us/step - loss: 14.1308 - acc: 0.1136 - val_loss: 14.6670 - val_acc: 0.0800\n",
      "Epoch 100/100\n",
      "220/220 [==============================] - 0s 216us/step - loss: 14.1308 - acc: 0.1136 - val_loss: 14.6670 - val_acc: 0.0800\n"
     ]
    }
   ],
   "source": [
    "model_1 = model.fit(std_x, y, epochs=100, batch_size=22, validation_split=0.1)"
   ]
  },
  {
   "cell_type": "code",
   "execution_count": 0,
   "metadata": {
    "colab": {},
    "colab_type": "code",
    "id": "PbjNnPy-7EQp"
   },
   "outputs": [],
   "source": []
  }
 ],
 "metadata": {
  "accelerator": "GPU",
  "colab": {
   "collapsed_sections": [
    "gOgBNBlbrN4z",
    "MGWH3k6urWkZ",
    "o0pkmLhZavV8",
    "GZFdfIaobtn-",
    "7ke28T-Ehq7t",
    "vcIbV574ix4n"
   ],
   "name": "ML_classification_model.ipynb",
   "provenance": [],
   "toc_visible": true
  },
  "kernelspec": {
   "display_name": "Python 3 (ipykernel)",
   "language": "python",
   "name": "python3"
  },
  "language_info": {
   "codemirror_mode": {
    "name": "ipython",
    "version": 3
   },
   "file_extension": ".py",
   "mimetype": "text/x-python",
   "name": "python",
   "nbconvert_exporter": "python",
   "pygments_lexer": "ipython3",
   "version": "3.9.12"
  }
 },
 "nbformat": 4,
 "nbformat_minor": 1
}
