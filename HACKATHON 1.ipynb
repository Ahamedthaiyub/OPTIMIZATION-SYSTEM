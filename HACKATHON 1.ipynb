{
 "cells": [
  {
   "cell_type": "code",
   "execution_count": 1,
   "metadata": {},
   "outputs": [
    {
     "data": {
      "text/html": [
       "        <script type=\"text/javascript\">\n",
       "        window.PlotlyConfig = {MathJaxConfig: 'local'};\n",
       "        if (window.MathJax) {MathJax.Hub.Config({SVG: {font: \"STIX-Web\"}});}\n",
       "        if (typeof require !== 'undefined') {\n",
       "        require.undef(\"plotly\");\n",
       "        requirejs.config({\n",
       "            paths: {\n",
       "                'plotly': ['https://cdn.plot.ly/plotly-latest.min']\n",
       "            }\n",
       "        });\n",
       "        require(['plotly'], function(Plotly) {\n",
       "            window._Plotly = Plotly;\n",
       "        });\n",
       "        }\n",
       "        </script>\n",
       "        "
      ]
     },
     "metadata": {},
     "output_type": "display_data"
    },
    {
     "data": {
      "text/html": [
       "        <script type=\"text/javascript\">\n",
       "        window.PlotlyConfig = {MathJaxConfig: 'local'};\n",
       "        if (window.MathJax) {MathJax.Hub.Config({SVG: {font: \"STIX-Web\"}});}\n",
       "        if (typeof require !== 'undefined') {\n",
       "        require.undef(\"plotly\");\n",
       "        requirejs.config({\n",
       "            paths: {\n",
       "                'plotly': ['https://cdn.plot.ly/plotly-latest.min']\n",
       "            }\n",
       "        });\n",
       "        require(['plotly'], function(Plotly) {\n",
       "            window._Plotly = Plotly;\n",
       "        });\n",
       "        }\n",
       "        </script>\n",
       "        "
      ]
     },
     "metadata": {},
     "output_type": "display_data"
    }
   ],
   "source": [
    "import pandas as pd\n",
    "import numpy as np \n",
    "import matplotlib.pyplot as plt\n",
    "import seaborn as sns\n",
    "from chart_studio import plotly\n",
    "from plotly.offline import download_plotlyjs,plot, iplot, init_notebook_mode\n",
    "\n",
    "import cufflinks as cf\n",
    "cf.go_offline()\n",
    "import plotly\n",
    "from plotly import graph_objs as go\n",
    "\n",
    "init_notebook_mode(connected=True)\n",
    "%matplotlib inline"
   ]
  },
  {
   "cell_type": "code",
   "execution_count": 2,
   "metadata": {},
   "outputs": [],
   "source": [
    "train = pd.read_csv(\"train_data_final.csv\")"
   ]
  },
  {
   "cell_type": "code",
   "execution_count": 3,
   "metadata": {},
   "outputs": [
    {
     "data": {
      "text/html": [
       "<div>\n",
       "<style scoped>\n",
       "    .dataframe tbody tr th:only-of-type {\n",
       "        vertical-align: middle;\n",
       "    }\n",
       "\n",
       "    .dataframe tbody tr th {\n",
       "        vertical-align: top;\n",
       "    }\n",
       "\n",
       "    .dataframe thead th {\n",
       "        text-align: right;\n",
       "    }\n",
       "</style>\n",
       "<table border=\"1\" class=\"dataframe\">\n",
       "  <thead>\n",
       "    <tr style=\"text-align: right;\">\n",
       "      <th></th>\n",
       "      <th>EmployeeID</th>\n",
       "      <th>Left_Company</th>\n",
       "      <th>Job_History</th>\n",
       "      <th>Joining_Date</th>\n",
       "      <th>Designation</th>\n",
       "      <th>Sex</th>\n",
       "      <th>TotalWorkingHours</th>\n",
       "      <th>Billable_Hours</th>\n",
       "      <th>Hours_off_Duty</th>\n",
       "      <th>Touring_Hours</th>\n",
       "      <th>NoOfProjects</th>\n",
       "      <th>ActualTimeSpent</th>\n",
       "    </tr>\n",
       "  </thead>\n",
       "  <tbody>\n",
       "    <tr>\n",
       "      <th>0</th>\n",
       "      <td>emp-1</td>\n",
       "      <td>0.0</td>\n",
       "      <td>Worked at Company - 639 , Company - 212 , Comp...</td>\n",
       "      <td>2011_01</td>\n",
       "      <td>MD</td>\n",
       "      <td>1</td>\n",
       "      <td>205.0</td>\n",
       "      <td>189.0</td>\n",
       "      <td>72.0</td>\n",
       "      <td>189.0</td>\n",
       "      <td>3</td>\n",
       "      <td>231</td>\n",
       "    </tr>\n",
       "    <tr>\n",
       "      <th>1</th>\n",
       "      <td>emp-10</td>\n",
       "      <td>1.0</td>\n",
       "      <td>Worked at Company - 816 , Company - 724 , Comp...</td>\n",
       "      <td>2006_02</td>\n",
       "      <td>VP</td>\n",
       "      <td>0</td>\n",
       "      <td>241.0</td>\n",
       "      <td>233.0</td>\n",
       "      <td>120.0</td>\n",
       "      <td>186.0</td>\n",
       "      <td>2</td>\n",
       "      <td>147</td>\n",
       "    </tr>\n",
       "    <tr>\n",
       "      <th>2</th>\n",
       "      <td>emp-100</td>\n",
       "      <td>0.0</td>\n",
       "      <td>Worked at Company - 562 , Company - 319</td>\n",
       "      <td>2011_12</td>\n",
       "      <td>Senior</td>\n",
       "      <td>1</td>\n",
       "      <td>278.0</td>\n",
       "      <td>264.0</td>\n",
       "      <td>40.0</td>\n",
       "      <td>264.0</td>\n",
       "      <td>3</td>\n",
       "      <td>308</td>\n",
       "    </tr>\n",
       "    <tr>\n",
       "      <th>3</th>\n",
       "      <td>emp-101</td>\n",
       "      <td>0.0</td>\n",
       "      <td>Worked at Company - 212 , Company - 668 , Comp...</td>\n",
       "      <td>2012_01</td>\n",
       "      <td>Senior</td>\n",
       "      <td>1</td>\n",
       "      <td>345.5</td>\n",
       "      <td>233.5</td>\n",
       "      <td>64.0</td>\n",
       "      <td>0.0</td>\n",
       "      <td>2</td>\n",
       "      <td>217</td>\n",
       "    </tr>\n",
       "    <tr>\n",
       "      <th>4</th>\n",
       "      <td>emp-102</td>\n",
       "      <td>0.0</td>\n",
       "      <td>Worked at Company - 234</td>\n",
       "      <td>2011_12</td>\n",
       "      <td>Senior</td>\n",
       "      <td>1</td>\n",
       "      <td>270.0</td>\n",
       "      <td>249.0</td>\n",
       "      <td>88.0</td>\n",
       "      <td>213.0</td>\n",
       "      <td>2</td>\n",
       "      <td>231</td>\n",
       "    </tr>\n",
       "  </tbody>\n",
       "</table>\n",
       "</div>"
      ],
      "text/plain": [
       "  EmployeeID  Left_Company                                        Job_History  \\\n",
       "0      emp-1           0.0  Worked at Company - 639 , Company - 212 , Comp...   \n",
       "1     emp-10           1.0  Worked at Company - 816 , Company - 724 , Comp...   \n",
       "2    emp-100           0.0            Worked at Company - 562 , Company - 319   \n",
       "3    emp-101           0.0  Worked at Company - 212 , Company - 668 , Comp...   \n",
       "4    emp-102           0.0                            Worked at Company - 234   \n",
       "\n",
       "  Joining_Date Designation  Sex  TotalWorkingHours  Billable_Hours  \\\n",
       "0      2011_01          MD    1              205.0           189.0   \n",
       "1      2006_02          VP    0              241.0           233.0   \n",
       "2      2011_12      Senior    1              278.0           264.0   \n",
       "3      2012_01      Senior    1              345.5           233.5   \n",
       "4      2011_12      Senior    1              270.0           249.0   \n",
       "\n",
       "   Hours_off_Duty  Touring_Hours  NoOfProjects  ActualTimeSpent  \n",
       "0            72.0          189.0             3              231  \n",
       "1           120.0          186.0             2              147  \n",
       "2            40.0          264.0             3              308  \n",
       "3            64.0            0.0             2              217  \n",
       "4            88.0          213.0             2              231  "
      ]
     },
     "execution_count": 3,
     "metadata": {},
     "output_type": "execute_result"
    }
   ],
   "source": [
    "train.head()"
   ]
  },
  {
   "cell_type": "code",
   "execution_count": 4,
   "metadata": {},
   "outputs": [
    {
     "data": {
      "text/plain": [
       "EmployeeID           0\n",
       "Left_Company         0\n",
       "Job_History          0\n",
       "Joining_Date         0\n",
       "Designation          0\n",
       "Sex                  0\n",
       "TotalWorkingHours    0\n",
       "Billable_Hours       0\n",
       "Hours_off_Duty       0\n",
       "Touring_Hours        0\n",
       "NoOfProjects         0\n",
       "ActualTimeSpent      0\n",
       "dtype: int64"
      ]
     },
     "execution_count": 4,
     "metadata": {},
     "output_type": "execute_result"
    }
   ],
   "source": [
    "train.isnull().sum()"
   ]
  },
  {
   "cell_type": "markdown",
   "metadata": {},
   "source": [
    "## Uni-Variate Analysis - Independent variables."
   ]
  },
  {
   "cell_type": "code",
   "execution_count": 5,
   "metadata": {},
   "outputs": [
    {
     "name": "stdout",
     "output_type": "stream",
     "text": [
      "Sex counts in the data: \n",
      "1    216\n",
      "0     29\n",
      "Name: Sex, dtype: int64\n",
      "------------------------------------------------------------------------------------------------------------------------------\n"
     ]
    },
    {
     "data": {
      "application/vnd.plotly.v1+json": {
       "config": {
        "linkText": "Export to plot.ly",
        "plotlyServerURL": "https://plot.ly",
        "showLink": true
       },
       "data": [
        {
         "marker": {
          "color": "rgba(255, 153, 51, 0.6)",
          "line": {
           "color": "rgba(255, 153, 51, 1.0)",
           "width": 1
          }
         },
         "name": "Sex",
         "orientation": "v",
         "text": "",
         "type": "bar",
         "uid": "7709babc-67ef-4e41-bd66-94c1b1235885",
         "x": [
          1,
          0
         ],
         "y": [
          216,
          29
         ]
        }
       ],
       "layout": {
        "height": 400,
        "legend": {
         "bgcolor": "#F5F6F9",
         "font": {
          "color": "#4D5663"
         }
        },
        "paper_bgcolor": "#F5F6F9",
        "plot_bgcolor": "#F5F6F9",
        "title": {
         "font": {
          "color": "#4D5663"
         },
         "text": "No of Males & Females in the data"
        },
        "width": 400,
        "xaxis": {
         "gridcolor": "#E1E5ED",
         "showgrid": true,
         "tickfont": {
          "color": "#4D5663"
         },
         "title": {
          "font": {
           "color": "#4D5663"
          },
          "text": "Gender"
         },
         "zerolinecolor": "#E1E5ED"
        },
        "yaxis": {
         "gridcolor": "#E1E5ED",
         "showgrid": true,
         "tickfont": {
          "color": "#4D5663"
         },
         "title": {
          "font": {
           "color": "#4D5663"
          },
          "text": "Counts of Gender"
         },
         "zerolinecolor": "#E1E5ED"
        }
       }
      },
      "text/html": [
       "<div>\n",
       "        \n",
       "        \n",
       "            <div id=\"e960d1e2-3106-4238-9c83-85f5ff67a049\" class=\"plotly-graph-div\" style=\"height:400px; width:400px;\"></div>\n",
       "            <script type=\"text/javascript\">\n",
       "                require([\"plotly\"], function(Plotly) {\n",
       "                    window.PLOTLYENV=window.PLOTLYENV || {};\n",
       "                    window.PLOTLYENV.BASE_URL='https://plot.ly';\n",
       "                    \n",
       "                if (document.getElementById(\"e960d1e2-3106-4238-9c83-85f5ff67a049\")) {\n",
       "                    Plotly.newPlot(\n",
       "                        'e960d1e2-3106-4238-9c83-85f5ff67a049',\n",
       "                        [{\"marker\": {\"color\": \"rgba(255, 153, 51, 0.6)\", \"line\": {\"color\": \"rgba(255, 153, 51, 1.0)\", \"width\": 1}}, \"name\": \"Sex\", \"orientation\": \"v\", \"text\": \"\", \"type\": \"bar\", \"uid\": \"7709babc-67ef-4e41-bd66-94c1b1235885\", \"x\": [1, 0], \"y\": [216, 29]}],\n",
       "                        {\"height\": 400, \"legend\": {\"bgcolor\": \"#F5F6F9\", \"font\": {\"color\": \"#4D5663\"}}, \"paper_bgcolor\": \"#F5F6F9\", \"plot_bgcolor\": \"#F5F6F9\", \"title\": {\"font\": {\"color\": \"#4D5663\"}, \"text\": \"No of Males & Females in the data\"}, \"width\": 400, \"xaxis\": {\"gridcolor\": \"#E1E5ED\", \"showgrid\": true, \"tickfont\": {\"color\": \"#4D5663\"}, \"title\": {\"font\": {\"color\": \"#4D5663\"}, \"text\": \"Gender\"}, \"zerolinecolor\": \"#E1E5ED\"}, \"yaxis\": {\"gridcolor\": \"#E1E5ED\", \"showgrid\": true, \"tickfont\": {\"color\": \"#4D5663\"}, \"title\": {\"font\": {\"color\": \"#4D5663\"}, \"text\": \"Counts of Gender\"}, \"zerolinecolor\": \"#E1E5ED\"}},\n",
       "                        {\"showLink\": true, \"linkText\": \"Export to plot.ly\", \"plotlyServerURL\": \"https://plot.ly\", \"responsive\": true}\n",
       "                    ).then(function(){\n",
       "                            \n",
       "var gd = document.getElementById('e960d1e2-3106-4238-9c83-85f5ff67a049');\n",
       "var x = new MutationObserver(function (mutations, observer) {{\n",
       "        var display = window.getComputedStyle(gd).display;\n",
       "        if (!display || display === 'none') {{\n",
       "            console.log([gd, 'removed!']);\n",
       "            Plotly.purge(gd);\n",
       "            observer.disconnect();\n",
       "        }}\n",
       "}});\n",
       "\n",
       "// Listen for the removal of the full notebook cells\n",
       "var notebookContainer = gd.closest('#notebook-container');\n",
       "if (notebookContainer) {{\n",
       "    x.observe(notebookContainer, {childList: true});\n",
       "}}\n",
       "\n",
       "// Listen for the clearing of the current output cell\n",
       "var outputEl = gd.closest('.output');\n",
       "if (outputEl) {{\n",
       "    x.observe(outputEl, {childList: true});\n",
       "}}\n",
       "\n",
       "                        })\n",
       "                };\n",
       "                });\n",
       "            </script>\n",
       "        </div>"
      ]
     },
     "metadata": {},
     "output_type": "display_data"
    }
   ],
   "source": [
    "#Checking the count's of the gender in the data.\n",
    "\n",
    "print(\"Sex counts in the data: \")\n",
    "print(train['Sex'].value_counts())\n",
    "print(\"------------------------------------------------------------------------------------------------------------------------------\")\n",
    "\n",
    "#visulaize using the graph\n",
    "train['Sex'].value_counts().iplot(kind='bar', yTitle=\"Counts of Gender\", \n",
    "                                  xTitle=\"Gender\", title=\"No of Males & Females in the data\",\n",
    "                                 dimensions=(400,400))\n"
   ]
  },
  {
   "cell_type": "code",
   "execution_count": null,
   "metadata": {},
   "outputs": [],
   "source": []
  },
  {
   "cell_type": "code",
   "execution_count": 6,
   "metadata": {},
   "outputs": [
    {
     "name": "stdout",
     "output_type": "stream",
     "text": [
      "Designation counts in the data: \n",
      "Junior    79\n",
      "Senior    63\n",
      "VP        63\n",
      "EVP       28\n",
      "MD        12\n",
      "Name: Designation, dtype: int64\n",
      "------------------------------------------------------------------------------------------------------------------------------\n"
     ]
    },
    {
     "data": {
      "application/vnd.plotly.v1+json": {
       "config": {
        "linkText": "Export to plot.ly",
        "plotlyServerURL": "https://plot.ly",
        "showLink": true
       },
       "data": [
        {
         "marker": {
          "color": "rgba(255, 153, 51, 0.6)",
          "line": {
           "color": "rgba(255, 153, 51, 1.0)",
           "width": 1
          }
         },
         "name": "Designation",
         "orientation": "v",
         "text": "",
         "type": "bar",
         "uid": "9a8a0030-27d9-45ae-bf5d-c80fb1b4651a",
         "x": [
          "Junior",
          "Senior",
          "VP",
          "EVP",
          "MD"
         ],
         "y": [
          79,
          63,
          63,
          28,
          12
         ]
        }
       ],
       "layout": {
        "height": 500,
        "legend": {
         "bgcolor": "#F5F6F9",
         "font": {
          "color": "#4D5663"
         }
        },
        "paper_bgcolor": "#F5F6F9",
        "plot_bgcolor": "#F5F6F9",
        "title": {
         "font": {
          "color": "#4D5663"
         },
         "text": "Different Designations in the data"
        },
        "width": 600,
        "xaxis": {
         "gridcolor": "#E1E5ED",
         "showgrid": true,
         "tickfont": {
          "color": "#4D5663"
         },
         "title": {
          "font": {
           "color": "#4D5663"
          },
          "text": "Designations"
         },
         "zerolinecolor": "#E1E5ED"
        },
        "yaxis": {
         "gridcolor": "#E1E5ED",
         "showgrid": true,
         "tickfont": {
          "color": "#4D5663"
         },
         "title": {
          "font": {
           "color": "#4D5663"
          },
          "text": "Counts of Designation in the company"
         },
         "zerolinecolor": "#E1E5ED"
        }
       }
      },
      "text/html": [
       "<div>\n",
       "        \n",
       "        \n",
       "            <div id=\"77b37733-03f4-48f1-ae2a-4439426c4e52\" class=\"plotly-graph-div\" style=\"height:500px; width:600px;\"></div>\n",
       "            <script type=\"text/javascript\">\n",
       "                require([\"plotly\"], function(Plotly) {\n",
       "                    window.PLOTLYENV=window.PLOTLYENV || {};\n",
       "                    window.PLOTLYENV.BASE_URL='https://plot.ly';\n",
       "                    \n",
       "                if (document.getElementById(\"77b37733-03f4-48f1-ae2a-4439426c4e52\")) {\n",
       "                    Plotly.newPlot(\n",
       "                        '77b37733-03f4-48f1-ae2a-4439426c4e52',\n",
       "                        [{\"marker\": {\"color\": \"rgba(255, 153, 51, 0.6)\", \"line\": {\"color\": \"rgba(255, 153, 51, 1.0)\", \"width\": 1}}, \"name\": \"Designation\", \"orientation\": \"v\", \"text\": \"\", \"type\": \"bar\", \"uid\": \"9a8a0030-27d9-45ae-bf5d-c80fb1b4651a\", \"x\": [\"Junior\", \"Senior\", \"VP\", \"EVP\", \"MD\"], \"y\": [79, 63, 63, 28, 12]}],\n",
       "                        {\"height\": 500, \"legend\": {\"bgcolor\": \"#F5F6F9\", \"font\": {\"color\": \"#4D5663\"}}, \"paper_bgcolor\": \"#F5F6F9\", \"plot_bgcolor\": \"#F5F6F9\", \"title\": {\"font\": {\"color\": \"#4D5663\"}, \"text\": \"Different Designations in the data\"}, \"width\": 600, \"xaxis\": {\"gridcolor\": \"#E1E5ED\", \"showgrid\": true, \"tickfont\": {\"color\": \"#4D5663\"}, \"title\": {\"font\": {\"color\": \"#4D5663\"}, \"text\": \"Designations\"}, \"zerolinecolor\": \"#E1E5ED\"}, \"yaxis\": {\"gridcolor\": \"#E1E5ED\", \"showgrid\": true, \"tickfont\": {\"color\": \"#4D5663\"}, \"title\": {\"font\": {\"color\": \"#4D5663\"}, \"text\": \"Counts of Designation in the company\"}, \"zerolinecolor\": \"#E1E5ED\"}},\n",
       "                        {\"showLink\": true, \"linkText\": \"Export to plot.ly\", \"plotlyServerURL\": \"https://plot.ly\", \"responsive\": true}\n",
       "                    ).then(function(){\n",
       "                            \n",
       "var gd = document.getElementById('77b37733-03f4-48f1-ae2a-4439426c4e52');\n",
       "var x = new MutationObserver(function (mutations, observer) {{\n",
       "        var display = window.getComputedStyle(gd).display;\n",
       "        if (!display || display === 'none') {{\n",
       "            console.log([gd, 'removed!']);\n",
       "            Plotly.purge(gd);\n",
       "            observer.disconnect();\n",
       "        }}\n",
       "}});\n",
       "\n",
       "// Listen for the removal of the full notebook cells\n",
       "var notebookContainer = gd.closest('#notebook-container');\n",
       "if (notebookContainer) {{\n",
       "    x.observe(notebookContainer, {childList: true});\n",
       "}}\n",
       "\n",
       "// Listen for the clearing of the current output cell\n",
       "var outputEl = gd.closest('.output');\n",
       "if (outputEl) {{\n",
       "    x.observe(outputEl, {childList: true});\n",
       "}}\n",
       "\n",
       "                        })\n",
       "                };\n",
       "                });\n",
       "            </script>\n",
       "        </div>"
      ]
     },
     "metadata": {},
     "output_type": "display_data"
    }
   ],
   "source": [
    "#Checking the different designations in the data. \n",
    "\n",
    "print(\"Designation counts in the data: \")\n",
    "print(train['Designation'].value_counts())\n",
    "print(\"------------------------------------------------------------------------------------------------------------------------------\")\n",
    "\n",
    "train['Designation'].value_counts().iplot(kind='bar', yTitle=\"Counts of Designation in the company\",\n",
    "                                          xTitle=\"Designations\", title=\"Different Designations in the data\",\n",
    "                                 dimensions=(600,500))\n"
   ]
  },
  {
   "cell_type": "markdown",
   "metadata": {},
   "source": [
    "## Observations\n",
    "- **In the company most of the designations belong to Junior, Senior & VP**"
   ]
  },
  {
   "cell_type": "code",
   "execution_count": 7,
   "metadata": {},
   "outputs": [
    {
     "name": "stdout",
     "output_type": "stream",
     "text": [
      "No of projects that each employess work on most: \n",
      "2    123\n",
      "3     57\n",
      "1     30\n",
      "4     16\n",
      "5      8\n",
      "6      5\n",
      "0      5\n",
      "7      1\n",
      "Name: NoOfProjects, dtype: int64\n",
      "------------------------------------------------------------------------------------------------------------------------------\n"
     ]
    },
    {
     "data": {
      "application/vnd.plotly.v1+json": {
       "config": {
        "linkText": "Export to plot.ly",
        "plotlyServerURL": "https://plot.ly",
        "showLink": true
       },
       "data": [
        {
         "marker": {
          "color": "rgba(255, 153, 51, 0.6)",
          "line": {
           "color": "rgba(255, 153, 51, 1.0)",
           "width": 1
          }
         },
         "name": "NoOfProjects",
         "orientation": "v",
         "text": "",
         "type": "bar",
         "uid": "0ac2c78b-3dbf-4795-9827-167c9d8745ad",
         "x": [
          2,
          3,
          1,
          4,
          5,
          6,
          0,
          7
         ],
         "y": [
          123,
          57,
          30,
          16,
          8,
          5,
          5,
          1
         ]
        }
       ],
       "layout": {
        "height": 500,
        "legend": {
         "bgcolor": "#F5F6F9",
         "font": {
          "color": "#4D5663"
         }
        },
        "paper_bgcolor": "#F5F6F9",
        "plot_bgcolor": "#F5F6F9",
        "title": {
         "font": {
          "color": "#4D5663"
         },
         "text": "No of projects that each employee work."
        },
        "width": 600,
        "xaxis": {
         "gridcolor": "#E1E5ED",
         "showgrid": true,
         "tickfont": {
          "color": "#4D5663"
         },
         "title": {
          "font": {
           "color": "#4D5663"
          },
          "text": "No of projects"
         },
         "zerolinecolor": "#E1E5ED"
        },
        "yaxis": {
         "gridcolor": "#E1E5ED",
         "showgrid": true,
         "tickfont": {
          "color": "#4D5663"
         },
         "title": {
          "font": {
           "color": "#4D5663"
          },
          "text": "Counts of projects in the company"
         },
         "zerolinecolor": "#E1E5ED"
        }
       }
      },
      "text/html": [
       "<div>\n",
       "        \n",
       "        \n",
       "            <div id=\"2e8395f4-1933-46f8-a7c8-fbac32ce28d0\" class=\"plotly-graph-div\" style=\"height:500px; width:600px;\"></div>\n",
       "            <script type=\"text/javascript\">\n",
       "                require([\"plotly\"], function(Plotly) {\n",
       "                    window.PLOTLYENV=window.PLOTLYENV || {};\n",
       "                    window.PLOTLYENV.BASE_URL='https://plot.ly';\n",
       "                    \n",
       "                if (document.getElementById(\"2e8395f4-1933-46f8-a7c8-fbac32ce28d0\")) {\n",
       "                    Plotly.newPlot(\n",
       "                        '2e8395f4-1933-46f8-a7c8-fbac32ce28d0',\n",
       "                        [{\"marker\": {\"color\": \"rgba(255, 153, 51, 0.6)\", \"line\": {\"color\": \"rgba(255, 153, 51, 1.0)\", \"width\": 1}}, \"name\": \"NoOfProjects\", \"orientation\": \"v\", \"text\": \"\", \"type\": \"bar\", \"uid\": \"0ac2c78b-3dbf-4795-9827-167c9d8745ad\", \"x\": [2, 3, 1, 4, 5, 6, 0, 7], \"y\": [123, 57, 30, 16, 8, 5, 5, 1]}],\n",
       "                        {\"height\": 500, \"legend\": {\"bgcolor\": \"#F5F6F9\", \"font\": {\"color\": \"#4D5663\"}}, \"paper_bgcolor\": \"#F5F6F9\", \"plot_bgcolor\": \"#F5F6F9\", \"title\": {\"font\": {\"color\": \"#4D5663\"}, \"text\": \"No of projects that each employee work.\"}, \"width\": 600, \"xaxis\": {\"gridcolor\": \"#E1E5ED\", \"showgrid\": true, \"tickfont\": {\"color\": \"#4D5663\"}, \"title\": {\"font\": {\"color\": \"#4D5663\"}, \"text\": \"No of projects\"}, \"zerolinecolor\": \"#E1E5ED\"}, \"yaxis\": {\"gridcolor\": \"#E1E5ED\", \"showgrid\": true, \"tickfont\": {\"color\": \"#4D5663\"}, \"title\": {\"font\": {\"color\": \"#4D5663\"}, \"text\": \"Counts of projects in the company\"}, \"zerolinecolor\": \"#E1E5ED\"}},\n",
       "                        {\"showLink\": true, \"linkText\": \"Export to plot.ly\", \"plotlyServerURL\": \"https://plot.ly\", \"responsive\": true}\n",
       "                    ).then(function(){\n",
       "                            \n",
       "var gd = document.getElementById('2e8395f4-1933-46f8-a7c8-fbac32ce28d0');\n",
       "var x = new MutationObserver(function (mutations, observer) {{\n",
       "        var display = window.getComputedStyle(gd).display;\n",
       "        if (!display || display === 'none') {{\n",
       "            console.log([gd, 'removed!']);\n",
       "            Plotly.purge(gd);\n",
       "            observer.disconnect();\n",
       "        }}\n",
       "}});\n",
       "\n",
       "// Listen for the removal of the full notebook cells\n",
       "var notebookContainer = gd.closest('#notebook-container');\n",
       "if (notebookContainer) {{\n",
       "    x.observe(notebookContainer, {childList: true});\n",
       "}}\n",
       "\n",
       "// Listen for the clearing of the current output cell\n",
       "var outputEl = gd.closest('.output');\n",
       "if (outputEl) {{\n",
       "    x.observe(outputEl, {childList: true});\n",
       "}}\n",
       "\n",
       "                        })\n",
       "                };\n",
       "                });\n",
       "            </script>\n",
       "        </div>"
      ]
     },
     "metadata": {},
     "output_type": "display_data"
    }
   ],
   "source": [
    "\n",
    "print(\"No of projects that each employess work on most: \")\n",
    "print(train['NoOfProjects'].value_counts())\n",
    "print(\"------------------------------------------------------------------------------------------------------------------------------\")\n",
    "\n",
    "train['NoOfProjects'].value_counts().iplot(kind='bar', yTitle=\"Counts of projects in the company\",\n",
    "                                           xTitle=\"No of projects\", title=\"No of projects that each employee work.\",\n",
    "                                 dimensions=(600,500))\n"
   ]
  },
  {
   "cell_type": "markdown",
   "metadata": {},
   "source": [
    "## Observation:\n",
    "- **Mostly employess end up doing 2 or 3 projects in the company.**"
   ]
  },
  {
   "cell_type": "code",
   "execution_count": 8,
   "metadata": {},
   "outputs": [
    {
     "name": "stdout",
     "output_type": "stream",
     "text": [
      "Joning dates of the employee's in the company\n",
      "2012_05    17\n",
      "2012_02    15\n",
      "2012_09    13\n",
      "2013_02    10\n",
      "2009_07    10\n",
      "2012_11    10\n",
      "2013_01     9\n",
      "2010_07     8\n",
      "2011_02     8\n",
      "2011_12     7\n",
      "Name: Joining_Date, dtype: int64\n",
      "------------------------------------------------------------------------------------------------------------------------------\n"
     ]
    },
    {
     "data": {
      "application/vnd.plotly.v1+json": {
       "config": {
        "linkText": "Export to plot.ly",
        "plotlyServerURL": "https://plot.ly",
        "showLink": true
       },
       "data": [
        {
         "marker": {
          "color": "rgba(255, 153, 51, 0.6)",
          "line": {
           "color": "rgba(255, 153, 51, 1.0)",
           "width": 1
          }
         },
         "name": "Joining_Date",
         "orientation": "v",
         "text": "",
         "type": "bar",
         "uid": "e27ee1e7-5ab5-4cef-87b9-9edc53d3e704",
         "x": [
          "2012_05",
          "2012_02",
          "2012_09",
          "2013_02",
          "2009_07",
          "2012_11",
          "2013_01",
          "2010_07",
          "2011_02",
          "2011_12",
          "2010_10",
          "2011_06",
          "2012_04",
          "2012_01",
          "2010_04",
          "2011_09",
          "2009_10",
          "2010_12",
          "2012_06",
          "2011_10",
          "2012_10",
          "2010_06",
          "2012_12",
          "2010_09",
          "2011_11",
          "2012_07",
          "2011_07",
          "2012_03",
          "2007_07",
          "2012_08",
          "2011_01",
          "2009_12",
          "2008_07",
          "2013_03",
          "2009_02",
          "2003_06",
          "2009_03",
          "2002_04",
          "2006_02",
          "2008_02",
          "2008_12",
          "2013_04",
          "2010_05",
          "2008_06",
          "2011_05",
          "2008_10",
          "2008_01",
          "2008_09",
          "2011_04",
          "2006_09",
          "2003_12",
          "2008_11",
          "2005_12",
          "2009_08",
          "2007_11"
         ],
         "y": [
          17,
          15,
          13,
          10,
          10,
          10,
          9,
          8,
          8,
          7,
          7,
          7,
          7,
          7,
          6,
          5,
          5,
          5,
          5,
          5,
          5,
          5,
          4,
          4,
          4,
          4,
          3,
          3,
          3,
          3,
          3,
          3,
          3,
          2,
          2,
          2,
          2,
          2,
          2,
          2,
          2,
          2,
          2,
          1,
          1,
          1,
          1,
          1,
          1,
          1,
          1,
          1,
          1,
          1,
          1
         ]
        }
       ],
       "layout": {
        "height": 500,
        "legend": {
         "bgcolor": "#F5F6F9",
         "font": {
          "color": "#4D5663"
         }
        },
        "paper_bgcolor": "#F5F6F9",
        "plot_bgcolor": "#F5F6F9",
        "title": {
         "font": {
          "color": "#4D5663"
         },
         "text": "Different joining in the data"
        },
        "width": 600,
        "xaxis": {
         "gridcolor": "#E1E5ED",
         "showgrid": true,
         "tickfont": {
          "color": "#4D5663"
         },
         "title": {
          "font": {
           "color": "#4D5663"
          },
          "text": "Joing dates"
         },
         "zerolinecolor": "#E1E5ED"
        },
        "yaxis": {
         "gridcolor": "#E1E5ED",
         "showgrid": true,
         "tickfont": {
          "color": "#4D5663"
         },
         "title": {
          "font": {
           "color": "#4D5663"
          },
          "text": "Joining dates of employees in the company"
         },
         "zerolinecolor": "#E1E5ED"
        }
       }
      },
      "text/html": [
       "<div>\n",
       "        \n",
       "        \n",
       "            <div id=\"acb1b96b-bd17-4b4c-ac3e-e8374c4de57f\" class=\"plotly-graph-div\" style=\"height:500px; width:600px;\"></div>\n",
       "            <script type=\"text/javascript\">\n",
       "                require([\"plotly\"], function(Plotly) {\n",
       "                    window.PLOTLYENV=window.PLOTLYENV || {};\n",
       "                    window.PLOTLYENV.BASE_URL='https://plot.ly';\n",
       "                    \n",
       "                if (document.getElementById(\"acb1b96b-bd17-4b4c-ac3e-e8374c4de57f\")) {\n",
       "                    Plotly.newPlot(\n",
       "                        'acb1b96b-bd17-4b4c-ac3e-e8374c4de57f',\n",
       "                        [{\"marker\": {\"color\": \"rgba(255, 153, 51, 0.6)\", \"line\": {\"color\": \"rgba(255, 153, 51, 1.0)\", \"width\": 1}}, \"name\": \"Joining_Date\", \"orientation\": \"v\", \"text\": \"\", \"type\": \"bar\", \"uid\": \"e27ee1e7-5ab5-4cef-87b9-9edc53d3e704\", \"x\": [\"2012_05\", \"2012_02\", \"2012_09\", \"2013_02\", \"2009_07\", \"2012_11\", \"2013_01\", \"2010_07\", \"2011_02\", \"2011_12\", \"2010_10\", \"2011_06\", \"2012_04\", \"2012_01\", \"2010_04\", \"2011_09\", \"2009_10\", \"2010_12\", \"2012_06\", \"2011_10\", \"2012_10\", \"2010_06\", \"2012_12\", \"2010_09\", \"2011_11\", \"2012_07\", \"2011_07\", \"2012_03\", \"2007_07\", \"2012_08\", \"2011_01\", \"2009_12\", \"2008_07\", \"2013_03\", \"2009_02\", \"2003_06\", \"2009_03\", \"2002_04\", \"2006_02\", \"2008_02\", \"2008_12\", \"2013_04\", \"2010_05\", \"2008_06\", \"2011_05\", \"2008_10\", \"2008_01\", \"2008_09\", \"2011_04\", \"2006_09\", \"2003_12\", \"2008_11\", \"2005_12\", \"2009_08\", \"2007_11\"], \"y\": [17, 15, 13, 10, 10, 10, 9, 8, 8, 7, 7, 7, 7, 7, 6, 5, 5, 5, 5, 5, 5, 5, 4, 4, 4, 4, 3, 3, 3, 3, 3, 3, 3, 2, 2, 2, 2, 2, 2, 2, 2, 2, 2, 1, 1, 1, 1, 1, 1, 1, 1, 1, 1, 1, 1]}],\n",
       "                        {\"height\": 500, \"legend\": {\"bgcolor\": \"#F5F6F9\", \"font\": {\"color\": \"#4D5663\"}}, \"paper_bgcolor\": \"#F5F6F9\", \"plot_bgcolor\": \"#F5F6F9\", \"title\": {\"font\": {\"color\": \"#4D5663\"}, \"text\": \"Different joining in the data\"}, \"width\": 600, \"xaxis\": {\"gridcolor\": \"#E1E5ED\", \"showgrid\": true, \"tickfont\": {\"color\": \"#4D5663\"}, \"title\": {\"font\": {\"color\": \"#4D5663\"}, \"text\": \"Joing dates\"}, \"zerolinecolor\": \"#E1E5ED\"}, \"yaxis\": {\"gridcolor\": \"#E1E5ED\", \"showgrid\": true, \"tickfont\": {\"color\": \"#4D5663\"}, \"title\": {\"font\": {\"color\": \"#4D5663\"}, \"text\": \"Joining dates of employees in the company\"}, \"zerolinecolor\": \"#E1E5ED\"}},\n",
       "                        {\"showLink\": true, \"linkText\": \"Export to plot.ly\", \"plotlyServerURL\": \"https://plot.ly\", \"responsive\": true}\n",
       "                    ).then(function(){\n",
       "                            \n",
       "var gd = document.getElementById('acb1b96b-bd17-4b4c-ac3e-e8374c4de57f');\n",
       "var x = new MutationObserver(function (mutations, observer) {{\n",
       "        var display = window.getComputedStyle(gd).display;\n",
       "        if (!display || display === 'none') {{\n",
       "            console.log([gd, 'removed!']);\n",
       "            Plotly.purge(gd);\n",
       "            observer.disconnect();\n",
       "        }}\n",
       "}});\n",
       "\n",
       "// Listen for the removal of the full notebook cells\n",
       "var notebookContainer = gd.closest('#notebook-container');\n",
       "if (notebookContainer) {{\n",
       "    x.observe(notebookContainer, {childList: true});\n",
       "}}\n",
       "\n",
       "// Listen for the clearing of the current output cell\n",
       "var outputEl = gd.closest('.output');\n",
       "if (outputEl) {{\n",
       "    x.observe(outputEl, {childList: true});\n",
       "}}\n",
       "\n",
       "                        })\n",
       "                };\n",
       "                });\n",
       "            </script>\n",
       "        </div>"
      ]
     },
     "metadata": {},
     "output_type": "display_data"
    }
   ],
   "source": [
    "#Joining dates in the company by year\n",
    "\n",
    "print(\"Joning dates of the employee's in the company\")\n",
    "\n",
    "#Check which year or month when employees hired most\n",
    "print(train['Joining_Date'].value_counts().head(10))\n",
    "print(\"------------------------------------------------------------------------------------------------------------------------------\")\n",
    "\n",
    "#visualize the Joning dates \n",
    "train['Joining_Date'].value_counts().iplot(kind='bar', yTitle=\"Joining dates of employees in the company\",\n",
    "                                           xTitle=\"Joing dates\", title=\"Different joining in the data\",\n",
    "                                 dimensions=(600,500))\n"
   ]
  },
  {
   "cell_type": "markdown",
   "metadata": {},
   "source": [
    "## Observation:\n",
    "- **Most of the employess are hired from the year 2010 to 2013.**\n",
    "- **In 2012 most employees(45) were hired.**"
   ]
  },
  {
   "cell_type": "markdown",
   "metadata": {},
   "source": [
    "## Dependent variable distribution."
   ]
  },
  {
   "cell_type": "code",
   "execution_count": 9,
   "metadata": {},
   "outputs": [
    {
     "name": "stdout",
     "output_type": "stream",
     "text": [
      "0.0    218\n",
      "1.0     27\n",
      "Name: Left_Company, dtype: int64\n"
     ]
    },
    {
     "data": {
      "application/vnd.plotly.v1+json": {
       "config": {
        "linkText": "Export to plot.ly",
        "plotlyServerURL": "https://plot.ly",
        "showLink": true
       },
       "data": [
        {
         "marker": {
          "color": "rgba(255, 153, 51, 0.6)",
          "line": {
           "color": "rgba(255, 153, 51, 1.0)",
           "width": 1
          }
         },
         "name": "Left_Company",
         "orientation": "v",
         "text": "",
         "type": "bar",
         "uid": "4b1fe05c-eb5f-4ca6-8851-3899cfb5044d",
         "x": [
          0,
          1
         ],
         "y": [
          218,
          27
         ]
        }
       ],
       "layout": {
        "height": 500,
        "legend": {
         "bgcolor": "#F5F6F9",
         "font": {
          "color": "#4D5663"
         }
        },
        "paper_bgcolor": "#F5F6F9",
        "plot_bgcolor": "#F5F6F9",
        "title": {
         "font": {
          "color": "#4D5663"
         },
         "text": "No of employee's stayed or left the company"
        },
        "width": 400,
        "xaxis": {
         "gridcolor": "#E1E5ED",
         "showgrid": true,
         "tickfont": {
          "color": "#4D5663"
         },
         "title": {
          "font": {
           "color": "#4D5663"
          },
          "text": "Employees- If Left=1, Stayed=0"
         },
         "zerolinecolor": "#E1E5ED"
        },
        "yaxis": {
         "gridcolor": "#E1E5ED",
         "showgrid": true,
         "tickfont": {
          "color": "#4D5663"
         },
         "title": {
          "font": {
           "color": "#4D5663"
          },
          "text": "Counts"
         },
         "zerolinecolor": "#E1E5ED"
        }
       }
      },
      "text/html": [
       "<div>\n",
       "        \n",
       "        \n",
       "            <div id=\"d243bf58-ad01-4d57-a284-b155e99841b9\" class=\"plotly-graph-div\" style=\"height:500px; width:400px;\"></div>\n",
       "            <script type=\"text/javascript\">\n",
       "                require([\"plotly\"], function(Plotly) {\n",
       "                    window.PLOTLYENV=window.PLOTLYENV || {};\n",
       "                    window.PLOTLYENV.BASE_URL='https://plot.ly';\n",
       "                    \n",
       "                if (document.getElementById(\"d243bf58-ad01-4d57-a284-b155e99841b9\")) {\n",
       "                    Plotly.newPlot(\n",
       "                        'd243bf58-ad01-4d57-a284-b155e99841b9',\n",
       "                        [{\"marker\": {\"color\": \"rgba(255, 153, 51, 0.6)\", \"line\": {\"color\": \"rgba(255, 153, 51, 1.0)\", \"width\": 1}}, \"name\": \"Left_Company\", \"orientation\": \"v\", \"text\": \"\", \"type\": \"bar\", \"uid\": \"4b1fe05c-eb5f-4ca6-8851-3899cfb5044d\", \"x\": [0.0, 1.0], \"y\": [218, 27]}],\n",
       "                        {\"height\": 500, \"legend\": {\"bgcolor\": \"#F5F6F9\", \"font\": {\"color\": \"#4D5663\"}}, \"paper_bgcolor\": \"#F5F6F9\", \"plot_bgcolor\": \"#F5F6F9\", \"title\": {\"font\": {\"color\": \"#4D5663\"}, \"text\": \"No of employee's stayed or left the company\"}, \"width\": 400, \"xaxis\": {\"gridcolor\": \"#E1E5ED\", \"showgrid\": true, \"tickfont\": {\"color\": \"#4D5663\"}, \"title\": {\"font\": {\"color\": \"#4D5663\"}, \"text\": \"Employees- If Left=1, Stayed=0\"}, \"zerolinecolor\": \"#E1E5ED\"}, \"yaxis\": {\"gridcolor\": \"#E1E5ED\", \"showgrid\": true, \"tickfont\": {\"color\": \"#4D5663\"}, \"title\": {\"font\": {\"color\": \"#4D5663\"}, \"text\": \"Counts\"}, \"zerolinecolor\": \"#E1E5ED\"}},\n",
       "                        {\"showLink\": true, \"linkText\": \"Export to plot.ly\", \"plotlyServerURL\": \"https://plot.ly\", \"responsive\": true}\n",
       "                    ).then(function(){\n",
       "                            \n",
       "var gd = document.getElementById('d243bf58-ad01-4d57-a284-b155e99841b9');\n",
       "var x = new MutationObserver(function (mutations, observer) {{\n",
       "        var display = window.getComputedStyle(gd).display;\n",
       "        if (!display || display === 'none') {{\n",
       "            console.log([gd, 'removed!']);\n",
       "            Plotly.purge(gd);\n",
       "            observer.disconnect();\n",
       "        }}\n",
       "}});\n",
       "\n",
       "// Listen for the removal of the full notebook cells\n",
       "var notebookContainer = gd.closest('#notebook-container');\n",
       "if (notebookContainer) {{\n",
       "    x.observe(notebookContainer, {childList: true});\n",
       "}}\n",
       "\n",
       "// Listen for the clearing of the current output cell\n",
       "var outputEl = gd.closest('.output');\n",
       "if (outputEl) {{\n",
       "    x.observe(outputEl, {childList: true});\n",
       "}}\n",
       "\n",
       "                        })\n",
       "                };\n",
       "                });\n",
       "            </script>\n",
       "        </div>"
      ]
     },
     "metadata": {},
     "output_type": "display_data"
    },
    {
     "name": "stdout",
     "output_type": "stream",
     "text": [
      "------------------------------------------------------------------------------------------------------------------------------\n"
     ]
    }
   ],
   "source": [
    "#No of people left the company(Our target column)\n",
    "\n",
    "#Counts of the People left the company\n",
    "print(train['Left_Company'].value_counts().head(10))\n",
    "\n",
    "#Visualizing the same value counts.\n",
    "train['Left_Company'].value_counts().iplot(kind='bar', yTitle=\"Counts\",\n",
    "                                           xTitle=\"Employees- If Left=1, Stayed=0\", title=\"No of employee's stayed or left the company\",\n",
    "                                 dimensions=(400,500))\n",
    "print(\"------------------------------------------------------------------------------------------------------------------------------\")\n"
   ]
  },
  {
   "cell_type": "markdown",
   "metadata": {},
   "source": [
    "## Obsevations: \n",
    "- **27 Employees left the company**"
   ]
  },
  {
   "cell_type": "markdown",
   "metadata": {},
   "source": [
    "### Distributions of the Numerical variables:"
   ]
  },
  {
   "cell_type": "code",
   "execution_count": 10,
   "metadata": {},
   "outputs": [
    {
     "data": {
      "application/vnd.plotly.v1+json": {
       "config": {
        "linkText": "Export to plot.ly",
        "plotlyServerURL": "https://plot.ly",
        "showLink": true
       },
       "data": [
        {
         "histfunc": "count",
         "histnorm": "probability",
         "marker": {
          "color": "rgba(255, 153, 51, 1.0)",
          "line": {
           "color": "#4D5663",
           "width": 1.3
          }
         },
         "name": "TotalWorkingHours",
         "nbinsx": 6,
         "opacity": 0.8,
         "orientation": "v",
         "type": "histogram",
         "uid": "7727fef7-2061-4400-a21d-a9e81c2a836f",
         "x": [
          205,
          241,
          278,
          345.5,
          270,
          228,
          349,
          254,
          229,
          215.5,
          256,
          221,
          252,
          246.5,
          213.5,
          213.2999992371,
          200,
          224,
          235,
          214,
          204,
          259,
          227,
          269,
          232,
          254.5,
          363,
          253,
          293,
          224,
          246.5,
          335.5,
          260,
          244,
          241.99999904630002,
          284,
          223,
          289,
          265.5,
          229,
          182,
          271.5999999046,
          244,
          209,
          228,
          200,
          252.5,
          200,
          265,
          200,
          221,
          274.5,
          217,
          230,
          236,
          259,
          252.5,
          200,
          272,
          172,
          244,
          223,
          202,
          225,
          213.5,
          200,
          198,
          307,
          202,
          180,
          200,
          218,
          142,
          50,
          96,
          274,
          245.5,
          247,
          219,
          295,
          289.5,
          294,
          305,
          283,
          234,
          240,
          316,
          275,
          285,
          300,
          220,
          240,
          282,
          402,
          244,
          321,
          269,
          233,
          270,
          246,
          276.5,
          234,
          305,
          254,
          222,
          343.5,
          274,
          177,
          309,
          266.5,
          262,
          232,
          269,
          280,
          267,
          269.5,
          292.5,
          242,
          309.5,
          248,
          252,
          291,
          244,
          245,
          256.5,
          242,
          242,
          279,
          346.5,
          229,
          349,
          256,
          255,
          277.5,
          231,
          252,
          274,
          273,
          199,
          225,
          233,
          212,
          223,
          232,
          229,
          252.5,
          295,
          245.5,
          334.5,
          262,
          239.99999904630002,
          287,
          264.5,
          231,
          240,
          201,
          211,
          251.5,
          199,
          254,
          230.5,
          265,
          276.5,
          237,
          215.5,
          318,
          258,
          254.5,
          200,
          241.5,
          246,
          222.5,
          222,
          202,
          225,
          211.5,
          276,
          188,
          198,
          202,
          191,
          140,
          202,
          235,
          228,
          312.5,
          266,
          258,
          255.5,
          263,
          201,
          214.5,
          211.2999992371,
          245,
          228,
          247.5,
          300,
          233,
          226,
          221,
          258,
          283,
          221,
          188,
          404,
          256,
          323,
          312.5,
          232,
          222,
          295.5,
          270,
          277.5,
          269,
          267,
          285,
          257.5,
          203,
          285.5,
          307,
          233,
          220,
          341.5,
          274,
          176,
          310,
          265.5,
          284.4999997616,
          277,
          234,
          279,
          268.5,
          262,
          256,
          241,
          308.5,
          246,
          250,
          246,
          363,
          246,
          254.5,
          200,
          244,
          244
         ]
        }
       ],
       "layout": {
        "barmode": "overlay",
        "height": 500,
        "legend": {
         "bgcolor": "#F5F6F9",
         "font": {
          "color": "#4D5663"
         }
        },
        "paper_bgcolor": "#F5F6F9",
        "plot_bgcolor": "#F5F6F9",
        "title": {
         "font": {
          "color": "#4D5663"
         },
         "text": "Probability Distribution of the Employee's Total working Hour's"
        },
        "width": 800,
        "xaxis": {
         "gridcolor": "#E1E5ED",
         "showgrid": true,
         "tickfont": {
          "color": "#4D5663"
         },
         "title": {
          "font": {
           "color": "#4D5663"
          },
          "text": "Total Working Hour's"
         },
         "zerolinecolor": "#E1E5ED"
        },
        "yaxis": {
         "gridcolor": "#E1E5ED",
         "showgrid": true,
         "tickfont": {
          "color": "#4D5663"
         },
         "title": {
          "font": {
           "color": "#4D5663"
          },
          "text": "Probability"
         },
         "zerolinecolor": "#E1E5ED"
        }
       }
      },
      "text/html": [
       "<div>\n",
       "        \n",
       "        \n",
       "            <div id=\"9c793074-1d12-44e0-bba6-d8e20a39f716\" class=\"plotly-graph-div\" style=\"height:500px; width:800px;\"></div>\n",
       "            <script type=\"text/javascript\">\n",
       "                require([\"plotly\"], function(Plotly) {\n",
       "                    window.PLOTLYENV=window.PLOTLYENV || {};\n",
       "                    window.PLOTLYENV.BASE_URL='https://plot.ly';\n",
       "                    \n",
       "                if (document.getElementById(\"9c793074-1d12-44e0-bba6-d8e20a39f716\")) {\n",
       "                    Plotly.newPlot(\n",
       "                        '9c793074-1d12-44e0-bba6-d8e20a39f716',\n",
       "                        [{\"histfunc\": \"count\", \"histnorm\": \"probability\", \"marker\": {\"color\": \"rgba(255, 153, 51, 1.0)\", \"line\": {\"color\": \"#4D5663\", \"width\": 1.3}}, \"name\": \"TotalWorkingHours\", \"nbinsx\": 6, \"opacity\": 0.8, \"orientation\": \"v\", \"type\": \"histogram\", \"uid\": \"7727fef7-2061-4400-a21d-a9e81c2a836f\", \"x\": [205.0, 241.0, 278.0, 345.5, 270.0, 228.0, 349.0, 254.0, 229.0, 215.5, 256.0, 221.0, 252.0, 246.5, 213.5, 213.2999992371, 200.0, 224.0, 235.0, 214.0, 204.0, 259.0, 227.0, 269.0, 232.0, 254.5, 363.0, 253.0, 293.0, 224.0, 246.5, 335.5, 260.0, 244.0, 241.99999904630002, 284.0, 223.0, 289.0, 265.5, 229.0, 182.0, 271.5999999046, 244.0, 209.0, 228.0, 200.0, 252.5, 200.0, 265.0, 200.0, 221.0, 274.5, 217.0, 230.0, 236.0, 259.0, 252.5, 200.0, 272.0, 172.0, 244.0, 223.0, 202.0, 225.0, 213.5, 200.0, 198.0, 307.0, 202.0, 180.0, 200.0, 218.0, 142.0, 50.0, 96.0, 274.0, 245.5, 247.0, 219.0, 295.0, 289.5, 294.0, 305.0, 283.0, 234.0, 240.0, 316.0, 275.0, 285.0, 300.0, 220.0, 240.0, 282.0, 402.0, 244.0, 321.0, 269.0, 233.0, 270.0, 246.0, 276.5, 234.0, 305.0, 254.0, 222.0, 343.5, 274.0, 177.0, 309.0, 266.5, 262.0, 232.0, 269.0, 280.0, 267.0, 269.5, 292.5, 242.0, 309.5, 248.0, 252.0, 291.0, 244.0, 245.0, 256.5, 242.0, 242.0, 279.0, 346.5, 229.0, 349.0, 256.0, 255.0, 277.5, 231.0, 252.0, 274.0, 273.0, 199.0, 225.0, 233.0, 212.0, 223.0, 232.0, 229.0, 252.5, 295.0, 245.5, 334.5, 262.0, 239.99999904630002, 287.0, 264.5, 231.0, 240.0, 201.0, 211.0, 251.5, 199.0, 254.0, 230.5, 265.0, 276.5, 237.0, 215.5, 318.0, 258.0, 254.5, 200.0, 241.5, 246.0, 222.5, 222.0, 202.0, 225.0, 211.5, 276.0, 188.0, 198.0, 202.0, 191.0, 140.0, 202.0, 235.0, 228.0, 312.5, 266.0, 258.0, 255.5, 263.0, 201.0, 214.5, 211.2999992371, 245.0, 228.0, 247.5, 300.0, 233.0, 226.0, 221.0, 258.0, 283.0, 221.0, 188.0, 404.0, 256.0, 323.0, 312.5, 232.0, 222.0, 295.5, 270.0, 277.5, 269.0, 267.0, 285.0, 257.5, 203.0, 285.5, 307.0, 233.0, 220.0, 341.5, 274.0, 176.0, 310.0, 265.5, 284.4999997616, 277.0, 234.0, 279.0, 268.5, 262.0, 256.0, 241.0, 308.5, 246.0, 250.0, 246.0, 363.0, 246.0, 254.5, 200.0, 244.0, 244.0]}],\n",
       "                        {\"barmode\": \"overlay\", \"height\": 500, \"legend\": {\"bgcolor\": \"#F5F6F9\", \"font\": {\"color\": \"#4D5663\"}}, \"paper_bgcolor\": \"#F5F6F9\", \"plot_bgcolor\": \"#F5F6F9\", \"title\": {\"font\": {\"color\": \"#4D5663\"}, \"text\": \"Probability Distribution of the Employee's Total working Hour's\"}, \"width\": 800, \"xaxis\": {\"gridcolor\": \"#E1E5ED\", \"showgrid\": true, \"tickfont\": {\"color\": \"#4D5663\"}, \"title\": {\"font\": {\"color\": \"#4D5663\"}, \"text\": \"Total Working Hour's\"}, \"zerolinecolor\": \"#E1E5ED\"}, \"yaxis\": {\"gridcolor\": \"#E1E5ED\", \"showgrid\": true, \"tickfont\": {\"color\": \"#4D5663\"}, \"title\": {\"font\": {\"color\": \"#4D5663\"}, \"text\": \"Probability\"}, \"zerolinecolor\": \"#E1E5ED\"}},\n",
       "                        {\"showLink\": true, \"linkText\": \"Export to plot.ly\", \"plotlyServerURL\": \"https://plot.ly\", \"responsive\": true}\n",
       "                    ).then(function(){\n",
       "                            \n",
       "var gd = document.getElementById('9c793074-1d12-44e0-bba6-d8e20a39f716');\n",
       "var x = new MutationObserver(function (mutations, observer) {{\n",
       "        var display = window.getComputedStyle(gd).display;\n",
       "        if (!display || display === 'none') {{\n",
       "            console.log([gd, 'removed!']);\n",
       "            Plotly.purge(gd);\n",
       "            observer.disconnect();\n",
       "        }}\n",
       "}});\n",
       "\n",
       "// Listen for the removal of the full notebook cells\n",
       "var notebookContainer = gd.closest('#notebook-container');\n",
       "if (notebookContainer) {{\n",
       "    x.observe(notebookContainer, {childList: true});\n",
       "}}\n",
       "\n",
       "// Listen for the clearing of the current output cell\n",
       "var outputEl = gd.closest('.output');\n",
       "if (outputEl) {{\n",
       "    x.observe(outputEl, {childList: true});\n",
       "}}\n",
       "\n",
       "                        })\n",
       "                };\n",
       "                });\n",
       "            </script>\n",
       "        </div>"
      ]
     },
     "metadata": {},
     "output_type": "display_data"
    }
   ],
   "source": [
    "#checking the distriburion of the Total working hour's column. \n",
    "\n",
    "#Total working hours of the employee's logged: \n",
    "#Let's plot the probability Distribution on the column so  that we can understand the %of employee's working hour's\n",
    "train['TotalWorkingHours'].iplot(kind='histogram', dimensions=(800,500), xTitle=\"Total Working Hour's\", \n",
    "                                 yTitle=\"Probability\", \n",
    "                                 title=\"Probability Distribution of the Employee's Total working Hour's\", \n",
    "                                 histnorm='probability', bins=6)"
   ]
  },
  {
   "cell_type": "markdown",
   "metadata": {},
   "source": [
    "## Observation: \n",
    "- **Most Employee's Total Working hours are 200-300(i.e- around 80% of the employee's)**"
   ]
  },
  {
   "cell_type": "code",
   "execution_count": 11,
   "metadata": {},
   "outputs": [
    {
     "data": {
      "application/vnd.plotly.v1+json": {
       "config": {
        "linkText": "Export to plot.ly",
        "plotlyServerURL": "https://plot.ly",
        "showLink": true
       },
       "data": [
        {
         "histfunc": "count",
         "histnorm": "probability",
         "marker": {
          "color": "rgba(255, 153, 51, 1.0)",
          "line": {
           "color": "#4D5663",
           "width": 1.3
          }
         },
         "name": "ActualTimeSpent",
         "opacity": 0.8,
         "orientation": "v",
         "type": "histogram",
         "uid": "c0b37e76-4932-4182-b621-1359efa1ee25",
         "x": [
          231,
          147,
          308,
          217,
          231,
          287,
          203,
          84,
          70,
          175,
          385,
          133,
          161,
          203,
          168,
          105,
          287,
          189,
          238,
          133,
          140,
          224,
          210,
          217,
          168,
          175,
          161,
          147,
          175,
          217,
          189,
          140,
          196,
          182,
          189,
          175,
          140,
          182,
          161,
          35,
          84,
          196,
          154,
          133,
          154,
          154,
          91,
          49,
          154,
          77,
          126,
          112,
          133,
          175,
          217,
          119,
          126,
          42,
          98,
          287,
          161,
          70,
          42,
          42,
          0,
          84,
          77,
          231,
          56,
          49,
          28,
          77,
          0,
          7,
          0,
          314,
          190,
          238,
          275,
          314,
          280,
          484,
          232,
          252,
          202,
          296,
          279,
          254,
          252,
          232,
          301,
          336,
          191,
          253,
          175,
          572,
          184,
          400,
          433,
          294,
          230,
          205,
          254,
          380,
          161,
          401,
          119,
          436,
          153,
          239,
          420,
          278,
          183,
          117,
          230,
          236,
          181,
          202,
          273,
          197,
          429,
          245,
          135,
          104,
          240,
          383,
          237,
          307,
          217,
          287,
          201,
          83,
          343,
          205,
          71,
          161,
          183,
          154,
          288,
          190,
          238,
          132,
          69,
          203,
          209,
          177,
          177,
          189,
          138,
          194,
          191,
          181,
          162,
          36,
          294,
          203,
          133,
          92,
          51,
          100,
          189,
          152,
          113,
          219,
          160,
          280,
          118,
          128,
          42,
          78,
          163,
          119,
          71,
          43,
          42,
          0,
          252,
          58,
          76,
          57,
          65,
          0,
          343,
          86,
          243,
          307,
          385,
          154,
          181,
          168,
          125,
          175,
          104,
          152,
          155,
          189,
          231,
          84,
          245,
          301,
          238,
          189,
          273,
          308,
          252,
          266,
          574,
          308,
          399,
          245,
          224,
          147,
          287,
          434,
          385,
          224,
          182,
          343,
          294,
          252,
          280,
          161,
          399,
          119,
          434,
          154,
          238,
          175,
          210,
          280,
          119,
          238,
          168,
          259,
          203,
          273,
          238,
          196,
          133,
          196,
          105,
          238,
          126,
          385,
          238
         ]
        }
       ],
       "layout": {
        "barmode": "overlay",
        "height": 500,
        "legend": {
         "bgcolor": "#F5F6F9",
         "font": {
          "color": "#4D5663"
         }
        },
        "paper_bgcolor": "#F5F6F9",
        "plot_bgcolor": "#F5F6F9",
        "title": {
         "font": {
          "color": "#4D5663"
         },
         "text": "Probability Distribution of the Actual Time Spent(Hour's)by the Employee's"
        },
        "width": 800,
        "xaxis": {
         "gridcolor": "#E1E5ED",
         "showgrid": true,
         "tickfont": {
          "color": "#4D5663"
         },
         "title": {
          "font": {
           "color": "#4D5663"
          },
          "text": "Actual time spent by Employee's"
         },
         "zerolinecolor": "#E1E5ED"
        },
        "yaxis": {
         "gridcolor": "#E1E5ED",
         "showgrid": true,
         "tickfont": {
          "color": "#4D5663"
         },
         "title": {
          "font": {
           "color": "#4D5663"
          },
          "text": "Probability"
         },
         "zerolinecolor": "#E1E5ED"
        }
       }
      },
      "text/html": [
       "<div>\n",
       "        \n",
       "        \n",
       "            <div id=\"32366320-adb1-4d57-bab8-6240bc5f938f\" class=\"plotly-graph-div\" style=\"height:500px; width:800px;\"></div>\n",
       "            <script type=\"text/javascript\">\n",
       "                require([\"plotly\"], function(Plotly) {\n",
       "                    window.PLOTLYENV=window.PLOTLYENV || {};\n",
       "                    window.PLOTLYENV.BASE_URL='https://plot.ly';\n",
       "                    \n",
       "                if (document.getElementById(\"32366320-adb1-4d57-bab8-6240bc5f938f\")) {\n",
       "                    Plotly.newPlot(\n",
       "                        '32366320-adb1-4d57-bab8-6240bc5f938f',\n",
       "                        [{\"histfunc\": \"count\", \"histnorm\": \"probability\", \"marker\": {\"color\": \"rgba(255, 153, 51, 1.0)\", \"line\": {\"color\": \"#4D5663\", \"width\": 1.3}}, \"name\": \"ActualTimeSpent\", \"opacity\": 0.8, \"orientation\": \"v\", \"type\": \"histogram\", \"uid\": \"c0b37e76-4932-4182-b621-1359efa1ee25\", \"x\": [231, 147, 308, 217, 231, 287, 203, 84, 70, 175, 385, 133, 161, 203, 168, 105, 287, 189, 238, 133, 140, 224, 210, 217, 168, 175, 161, 147, 175, 217, 189, 140, 196, 182, 189, 175, 140, 182, 161, 35, 84, 196, 154, 133, 154, 154, 91, 49, 154, 77, 126, 112, 133, 175, 217, 119, 126, 42, 98, 287, 161, 70, 42, 42, 0, 84, 77, 231, 56, 49, 28, 77, 0, 7, 0, 314, 190, 238, 275, 314, 280, 484, 232, 252, 202, 296, 279, 254, 252, 232, 301, 336, 191, 253, 175, 572, 184, 400, 433, 294, 230, 205, 254, 380, 161, 401, 119, 436, 153, 239, 420, 278, 183, 117, 230, 236, 181, 202, 273, 197, 429, 245, 135, 104, 240, 383, 237, 307, 217, 287, 201, 83, 343, 205, 71, 161, 183, 154, 288, 190, 238, 132, 69, 203, 209, 177, 177, 189, 138, 194, 191, 181, 162, 36, 294, 203, 133, 92, 51, 100, 189, 152, 113, 219, 160, 280, 118, 128, 42, 78, 163, 119, 71, 43, 42, 0, 252, 58, 76, 57, 65, 0, 343, 86, 243, 307, 385, 154, 181, 168, 125, 175, 104, 152, 155, 189, 231, 84, 245, 301, 238, 189, 273, 308, 252, 266, 574, 308, 399, 245, 224, 147, 287, 434, 385, 224, 182, 343, 294, 252, 280, 161, 399, 119, 434, 154, 238, 175, 210, 280, 119, 238, 168, 259, 203, 273, 238, 196, 133, 196, 105, 238, 126, 385, 238]}],\n",
       "                        {\"barmode\": \"overlay\", \"height\": 500, \"legend\": {\"bgcolor\": \"#F5F6F9\", \"font\": {\"color\": \"#4D5663\"}}, \"paper_bgcolor\": \"#F5F6F9\", \"plot_bgcolor\": \"#F5F6F9\", \"title\": {\"font\": {\"color\": \"#4D5663\"}, \"text\": \"Probability Distribution of the Actual Time Spent(Hour's)by the Employee's\"}, \"width\": 800, \"xaxis\": {\"gridcolor\": \"#E1E5ED\", \"showgrid\": true, \"tickfont\": {\"color\": \"#4D5663\"}, \"title\": {\"font\": {\"color\": \"#4D5663\"}, \"text\": \"Actual time spent by Employee's\"}, \"zerolinecolor\": \"#E1E5ED\"}, \"yaxis\": {\"gridcolor\": \"#E1E5ED\", \"showgrid\": true, \"tickfont\": {\"color\": \"#4D5663\"}, \"title\": {\"font\": {\"color\": \"#4D5663\"}, \"text\": \"Probability\"}, \"zerolinecolor\": \"#E1E5ED\"}},\n",
       "                        {\"showLink\": true, \"linkText\": \"Export to plot.ly\", \"plotlyServerURL\": \"https://plot.ly\", \"responsive\": true}\n",
       "                    ).then(function(){\n",
       "                            \n",
       "var gd = document.getElementById('32366320-adb1-4d57-bab8-6240bc5f938f');\n",
       "var x = new MutationObserver(function (mutations, observer) {{\n",
       "        var display = window.getComputedStyle(gd).display;\n",
       "        if (!display || display === 'none') {{\n",
       "            console.log([gd, 'removed!']);\n",
       "            Plotly.purge(gd);\n",
       "            observer.disconnect();\n",
       "        }}\n",
       "}});\n",
       "\n",
       "// Listen for the removal of the full notebook cells\n",
       "var notebookContainer = gd.closest('#notebook-container');\n",
       "if (notebookContainer) {{\n",
       "    x.observe(notebookContainer, {childList: true});\n",
       "}}\n",
       "\n",
       "// Listen for the clearing of the current output cell\n",
       "var outputEl = gd.closest('.output');\n",
       "if (outputEl) {{\n",
       "    x.observe(outputEl, {childList: true});\n",
       "}}\n",
       "\n",
       "                        })\n",
       "                };\n",
       "                });\n",
       "            </script>\n",
       "        </div>"
      ]
     },
     "metadata": {},
     "output_type": "display_data"
    }
   ],
   "source": [
    "#checking the distriburion of the Total working hour's column.(i.e-Actual time the employee spent working according to the timesheets) \n",
    "\n",
    "#Actual Time Spent by the employee: \n",
    "#Let's plot the probability Distribution on the column so that we can understand the %of employee's working hour's:\n",
    "\n",
    "train['ActualTimeSpent'].iplot(kind='histogram', dimensions=(800,500), histnorm='probability', \n",
    "                              xTitle=\"Actual time spent by Employee's\",\n",
    "                              yTitle=\"Probability\",\n",
    "                              title=\"Probability Distribution of the Actual Time Spent(Hour's)by the Employee's \")"
   ]
  },
  {
   "cell_type": "markdown",
   "metadata": {},
   "source": [
    "## Observations: \n",
    "- **Logged time Hour's are more than the actual working hours of the employee's.**"
   ]
  },
  {
   "cell_type": "code",
   "execution_count": 12,
   "metadata": {},
   "outputs": [
    {
     "data": {
      "application/vnd.plotly.v1+json": {
       "config": {
        "linkText": "Export to plot.ly",
        "plotlyServerURL": "https://plot.ly",
        "showLink": true
       },
       "data": [
        {
         "histfunc": "avg",
         "histnorm": "probability",
         "marker": {
          "color": "rgba(255, 153, 51, 1.0)",
          "line": {
           "color": "#4D5663",
           "width": 1.3
          }
         },
         "name": "Hours_off_Duty",
         "opacity": 0.8,
         "orientation": "v",
         "type": "histogram",
         "uid": "fcd6c24a-7b25-4873-b355-1fbf7adac8ce",
         "x": [
          72,
          120,
          40,
          64,
          88,
          56,
          104,
          70,
          80,
          44,
          88,
          45,
          64,
          41,
          80,
          44,
          64,
          104,
          80,
          72,
          64,
          70,
          40,
          48,
          48,
          68,
          37,
          126,
          80,
          75,
          104,
          48,
          48,
          47,
          41.5,
          40,
          80,
          40,
          24,
          45,
          45,
          96,
          64,
          24,
          40,
          40,
          16,
          56,
          24,
          48,
          24,
          64,
          24,
          40,
          0,
          24,
          48,
          72,
          16,
          48,
          16,
          40,
          16,
          16,
          80,
          16,
          16,
          64,
          16,
          40,
          32,
          40,
          24,
          16,
          15,
          56,
          88,
          96,
          72,
          88,
          104,
          108,
          64,
          146,
          128,
          48,
          80,
          70,
          146,
          96,
          72,
          128,
          80,
          136,
          120,
          64,
          45,
          80,
          160,
          96,
          44,
          88,
          80,
          104,
          120,
          74,
          128,
          58,
          80,
          126,
          80,
          96,
          48,
          128,
          80,
          120,
          56,
          120,
          88,
          76,
          72,
          97,
          106,
          80,
          88,
          80,
          56,
          40,
          64,
          56,
          104,
          70,
          64,
          90,
          80,
          64,
          72,
          48,
          64,
          104,
          80,
          72,
          53,
          128,
          40,
          68,
          80,
          104,
          48,
          48,
          41.5,
          40,
          24,
          45,
          48,
          56,
          24,
          16,
          56,
          40,
          80,
          24,
          64,
          0,
          16,
          80,
          24,
          48,
          72,
          16,
          16,
          16,
          40,
          16,
          16,
          80,
          70,
          48,
          16,
          16,
          32,
          24,
          80,
          104,
          54,
          75,
          80,
          112,
          80,
          80,
          96,
          44,
          44,
          64,
          40,
          88,
          96,
          104,
          54,
          72,
          88,
          80,
          72,
          64,
          136,
          118.5,
          64,
          75,
          80,
          72,
          144,
          112,
          40,
          160,
          80,
          80,
          80,
          80,
          40,
          80,
          104,
          120,
          74,
          128,
          58,
          80,
          126,
          96,
          104,
          96,
          128,
          120,
          80,
          80,
          120,
          88,
          64,
          76,
          106,
          56,
          80,
          88,
          96,
          80,
          56
         ]
        }
       ],
       "layout": {
        "barmode": "overlay",
        "height": 500,
        "legend": {
         "bgcolor": "#F5F6F9",
         "font": {
          "color": "#4D5663"
         }
        },
        "paper_bgcolor": "#F5F6F9",
        "plot_bgcolor": "#F5F6F9",
        "title": {
         "font": {
          "color": "#4D5663"
         },
         "text": "Probability Distribution plot of Employee's Hour's on Leave(Hour's)"
        },
        "width": 800,
        "xaxis": {
         "gridcolor": "#E1E5ED",
         "showgrid": true,
         "tickfont": {
          "color": "#4D5663"
         },
         "title": {
          "font": {
           "color": "#4D5663"
          },
          "text": "Hours off Duty"
         },
         "zerolinecolor": "#E1E5ED"
        },
        "yaxis": {
         "gridcolor": "#E1E5ED",
         "showgrid": true,
         "tickfont": {
          "color": "#4D5663"
         },
         "title": {
          "font": {
           "color": "#4D5663"
          },
          "text": "Probability of the Distribution"
         },
         "zerolinecolor": "#E1E5ED"
        }
       }
      },
      "text/html": [
       "<div>\n",
       "        \n",
       "        \n",
       "            <div id=\"7c598531-1f56-4056-ba36-53063d93ace9\" class=\"plotly-graph-div\" style=\"height:500px; width:800px;\"></div>\n",
       "            <script type=\"text/javascript\">\n",
       "                require([\"plotly\"], function(Plotly) {\n",
       "                    window.PLOTLYENV=window.PLOTLYENV || {};\n",
       "                    window.PLOTLYENV.BASE_URL='https://plot.ly';\n",
       "                    \n",
       "                if (document.getElementById(\"7c598531-1f56-4056-ba36-53063d93ace9\")) {\n",
       "                    Plotly.newPlot(\n",
       "                        '7c598531-1f56-4056-ba36-53063d93ace9',\n",
       "                        [{\"histfunc\": \"avg\", \"histnorm\": \"probability\", \"marker\": {\"color\": \"rgba(255, 153, 51, 1.0)\", \"line\": {\"color\": \"#4D5663\", \"width\": 1.3}}, \"name\": \"Hours_off_Duty\", \"opacity\": 0.8, \"orientation\": \"v\", \"type\": \"histogram\", \"uid\": \"fcd6c24a-7b25-4873-b355-1fbf7adac8ce\", \"x\": [72.0, 120.0, 40.0, 64.0, 88.0, 56.0, 104.0, 70.0, 80.0, 44.0, 88.0, 45.0, 64.0, 41.0, 80.0, 44.0, 64.0, 104.0, 80.0, 72.0, 64.0, 70.0, 40.0, 48.0, 48.0, 68.0, 37.0, 126.0, 80.0, 75.0, 104.0, 48.0, 48.0, 47.0, 41.5, 40.0, 80.0, 40.0, 24.0, 45.0, 45.0, 96.0, 64.0, 24.0, 40.0, 40.0, 16.0, 56.0, 24.0, 48.0, 24.0, 64.0, 24.0, 40.0, 0.0, 24.0, 48.0, 72.0, 16.0, 48.0, 16.0, 40.0, 16.0, 16.0, 80.0, 16.0, 16.0, 64.0, 16.0, 40.0, 32.0, 40.0, 24.0, 16.0, 15.0, 56.0, 88.0, 96.0, 72.0, 88.0, 104.0, 108.0, 64.0, 146.0, 128.0, 48.0, 80.0, 70.0, 146.0, 96.0, 72.0, 128.0, 80.0, 136.0, 120.0, 64.0, 45.0, 80.0, 160.0, 96.0, 44.0, 88.0, 80.0, 104.0, 120.0, 74.0, 128.0, 58.0, 80.0, 126.0, 80.0, 96.0, 48.0, 128.0, 80.0, 120.0, 56.0, 120.0, 88.0, 76.0, 72.0, 97.0, 106.0, 80.0, 88.0, 80.0, 56.0, 40.0, 64.0, 56.0, 104.0, 70.0, 64.0, 90.0, 80.0, 64.0, 72.0, 48.0, 64.0, 104.0, 80.0, 72.0, 53.0, 128.0, 40.0, 68.0, 80.0, 104.0, 48.0, 48.0, 41.5, 40.0, 24.0, 45.0, 48.0, 56.0, 24.0, 16.0, 56.0, 40.0, 80.0, 24.0, 64.0, 0.0, 16.0, 80.0, 24.0, 48.0, 72.0, 16.0, 16.0, 16.0, 40.0, 16.0, 16.0, 80.0, 70.0, 48.0, 16.0, 16.0, 32.0, 24.0, 80.0, 104.0, 54.0, 75.0, 80.0, 112.0, 80.0, 80.0, 96.0, 44.0, 44.0, 64.0, 40.0, 88.0, 96.0, 104.0, 54.0, 72.0, 88.0, 80.0, 72.0, 64.0, 136.0, 118.5, 64.0, 75.0, 80.0, 72.0, 144.0, 112.0, 40.0, 160.0, 80.0, 80.0, 80.0, 80.0, 40.0, 80.0, 104.0, 120.0, 74.0, 128.0, 58.0, 80.0, 126.0, 96.0, 104.0, 96.0, 128.0, 120.0, 80.0, 80.0, 120.0, 88.0, 64.0, 76.0, 106.0, 56.0, 80.0, 88.0, 96.0, 80.0, 56.0]}],\n",
       "                        {\"barmode\": \"overlay\", \"height\": 500, \"legend\": {\"bgcolor\": \"#F5F6F9\", \"font\": {\"color\": \"#4D5663\"}}, \"paper_bgcolor\": \"#F5F6F9\", \"plot_bgcolor\": \"#F5F6F9\", \"title\": {\"font\": {\"color\": \"#4D5663\"}, \"text\": \"Probability Distribution plot of Employee's Hour's on Leave(Hour's)\"}, \"width\": 800, \"xaxis\": {\"gridcolor\": \"#E1E5ED\", \"showgrid\": true, \"tickfont\": {\"color\": \"#4D5663\"}, \"title\": {\"font\": {\"color\": \"#4D5663\"}, \"text\": \"Hours off Duty\"}, \"zerolinecolor\": \"#E1E5ED\"}, \"yaxis\": {\"gridcolor\": \"#E1E5ED\", \"showgrid\": true, \"tickfont\": {\"color\": \"#4D5663\"}, \"title\": {\"font\": {\"color\": \"#4D5663\"}, \"text\": \"Probability of the Distribution\"}, \"zerolinecolor\": \"#E1E5ED\"}},\n",
       "                        {\"showLink\": true, \"linkText\": \"Export to plot.ly\", \"plotlyServerURL\": \"https://plot.ly\", \"responsive\": true}\n",
       "                    ).then(function(){\n",
       "                            \n",
       "var gd = document.getElementById('7c598531-1f56-4056-ba36-53063d93ace9');\n",
       "var x = new MutationObserver(function (mutations, observer) {{\n",
       "        var display = window.getComputedStyle(gd).display;\n",
       "        if (!display || display === 'none') {{\n",
       "            console.log([gd, 'removed!']);\n",
       "            Plotly.purge(gd);\n",
       "            observer.disconnect();\n",
       "        }}\n",
       "}});\n",
       "\n",
       "// Listen for the removal of the full notebook cells\n",
       "var notebookContainer = gd.closest('#notebook-container');\n",
       "if (notebookContainer) {{\n",
       "    x.observe(notebookContainer, {childList: true});\n",
       "}}\n",
       "\n",
       "// Listen for the clearing of the current output cell\n",
       "var outputEl = gd.closest('.output');\n",
       "if (outputEl) {{\n",
       "    x.observe(outputEl, {childList: true});\n",
       "}}\n",
       "\n",
       "                        })\n",
       "                };\n",
       "                });\n",
       "            </script>\n",
       "        </div>"
      ]
     },
     "metadata": {},
     "output_type": "display_data"
    }
   ],
   "source": [
    "#Let's check--  Hours_off_Duty : Number of hours the employee took off: \n",
    "\n",
    "train['Hours_off_Duty'].iplot(kind='histogram', dimensions=(800,500), histnorm='probability', histfunc='avg',\n",
    "                             yTitle=\"Probability of the Distribution\",\n",
    "                             xTitle=\"Hours off Duty\", \n",
    "                             title=\"Probability Distribution plot of Employee's Hour's on Leave(Hour's)\")\n"
   ]
  },
  {
   "cell_type": "code",
   "execution_count": null,
   "metadata": {},
   "outputs": [],
   "source": []
  },
  {
   "cell_type": "code",
   "execution_count": null,
   "metadata": {},
   "outputs": [],
   "source": []
  },
  {
   "cell_type": "markdown",
   "metadata": {},
   "source": []
  },
  {
   "cell_type": "markdown",
   "metadata": {},
   "source": [
    "## Bi-Variate analysis - With Dependent variable"
   ]
  },
  {
   "cell_type": "code",
   "execution_count": 13,
   "metadata": {},
   "outputs": [
    {
     "data": {
      "application/vnd.plotly.v1+json": {
       "config": {
        "linkText": "Export to plot.ly",
        "plotlyServerURL": "https://plot.ly",
        "showLink": true
       },
       "data": [
        {
         "marker": {
          "color": "rgba(255, 153, 51, 0.6)",
          "line": {
           "color": "rgba(255, 153, 51, 1.0)",
           "width": 1
          }
         },
         "name": "Joining_Date",
         "orientation": "v",
         "text": "",
         "type": "bar",
         "uid": "7429ce3f-3752-4f81-aa2e-ab3d5b369ff9",
         "x": [
          "2012_08",
          "2011_10",
          "2009_02",
          "2010_06",
          "2009_03",
          "2012_01",
          "2012_02",
          "2010_07",
          "2012_09",
          "2010_04",
          "2003_06",
          "2011_02",
          "2008_11",
          "2009_07",
          "2006_02"
         ],
         "y": [
          2,
          2,
          2,
          2,
          2,
          2,
          2,
          2,
          2,
          2,
          2,
          2,
          1,
          1,
          1
         ]
        }
       ],
       "layout": {
        "height": 500,
        "legend": {
         "bgcolor": "#F5F6F9",
         "font": {
          "color": "#4D5663"
         }
        },
        "paper_bgcolor": "#F5F6F9",
        "plot_bgcolor": "#F5F6F9",
        "title": {
         "font": {
          "color": "#4D5663"
         },
         "text": "Count of employee's left by joining dates"
        },
        "width": 600,
        "xaxis": {
         "gridcolor": "#E1E5ED",
         "showgrid": true,
         "tickfont": {
          "color": "#4D5663"
         },
         "title": {
          "font": {
           "color": "#4D5663"
          },
          "text": ""
         },
         "zerolinecolor": "#E1E5ED"
        },
        "yaxis": {
         "gridcolor": "#E1E5ED",
         "showgrid": true,
         "tickfont": {
          "color": "#4D5663"
         },
         "title": {
          "font": {
           "color": "#4D5663"
          },
          "text": "Counts of employees Left"
         },
         "zerolinecolor": "#E1E5ED"
        }
       }
      },
      "text/html": [
       "<div>\n",
       "        \n",
       "        \n",
       "            <div id=\"98c5cf26-3844-4cbb-841b-96a4fd25431e\" class=\"plotly-graph-div\" style=\"height:500px; width:600px;\"></div>\n",
       "            <script type=\"text/javascript\">\n",
       "                require([\"plotly\"], function(Plotly) {\n",
       "                    window.PLOTLYENV=window.PLOTLYENV || {};\n",
       "                    window.PLOTLYENV.BASE_URL='https://plot.ly';\n",
       "                    \n",
       "                if (document.getElementById(\"98c5cf26-3844-4cbb-841b-96a4fd25431e\")) {\n",
       "                    Plotly.newPlot(\n",
       "                        '98c5cf26-3844-4cbb-841b-96a4fd25431e',\n",
       "                        [{\"marker\": {\"color\": \"rgba(255, 153, 51, 0.6)\", \"line\": {\"color\": \"rgba(255, 153, 51, 1.0)\", \"width\": 1}}, \"name\": \"Joining_Date\", \"orientation\": \"v\", \"text\": \"\", \"type\": \"bar\", \"uid\": \"7429ce3f-3752-4f81-aa2e-ab3d5b369ff9\", \"x\": [\"2012_08\", \"2011_10\", \"2009_02\", \"2010_06\", \"2009_03\", \"2012_01\", \"2012_02\", \"2010_07\", \"2012_09\", \"2010_04\", \"2003_06\", \"2011_02\", \"2008_11\", \"2009_07\", \"2006_02\"], \"y\": [2, 2, 2, 2, 2, 2, 2, 2, 2, 2, 2, 2, 1, 1, 1]}],\n",
       "                        {\"height\": 500, \"legend\": {\"bgcolor\": \"#F5F6F9\", \"font\": {\"color\": \"#4D5663\"}}, \"paper_bgcolor\": \"#F5F6F9\", \"plot_bgcolor\": \"#F5F6F9\", \"title\": {\"font\": {\"color\": \"#4D5663\"}, \"text\": \"Count of employee's left by joining dates\"}, \"width\": 600, \"xaxis\": {\"gridcolor\": \"#E1E5ED\", \"showgrid\": true, \"tickfont\": {\"color\": \"#4D5663\"}, \"title\": {\"font\": {\"color\": \"#4D5663\"}, \"text\": \"\"}, \"zerolinecolor\": \"#E1E5ED\"}, \"yaxis\": {\"gridcolor\": \"#E1E5ED\", \"showgrid\": true, \"tickfont\": {\"color\": \"#4D5663\"}, \"title\": {\"font\": {\"color\": \"#4D5663\"}, \"text\": \"Counts of employees Left\"}, \"zerolinecolor\": \"#E1E5ED\"}},\n",
       "                        {\"showLink\": true, \"linkText\": \"Export to plot.ly\", \"plotlyServerURL\": \"https://plot.ly\", \"responsive\": true}\n",
       "                    ).then(function(){\n",
       "                            \n",
       "var gd = document.getElementById('98c5cf26-3844-4cbb-841b-96a4fd25431e');\n",
       "var x = new MutationObserver(function (mutations, observer) {{\n",
       "        var display = window.getComputedStyle(gd).display;\n",
       "        if (!display || display === 'none') {{\n",
       "            console.log([gd, 'removed!']);\n",
       "            Plotly.purge(gd);\n",
       "            observer.disconnect();\n",
       "        }}\n",
       "}});\n",
       "\n",
       "// Listen for the removal of the full notebook cells\n",
       "var notebookContainer = gd.closest('#notebook-container');\n",
       "if (notebookContainer) {{\n",
       "    x.observe(notebookContainer, {childList: true});\n",
       "}}\n",
       "\n",
       "// Listen for the clearing of the current output cell\n",
       "var outputEl = gd.closest('.output');\n",
       "if (outputEl) {{\n",
       "    x.observe(outputEl, {childList: true});\n",
       "}}\n",
       "\n",
       "                        })\n",
       "                };\n",
       "                });\n",
       "            </script>\n",
       "        </div>"
      ]
     },
     "metadata": {},
     "output_type": "display_data"
    }
   ],
   "source": [
    "#No of people left the comapany when no of employees joined\n",
    "\n",
    "train[train.Left_Company==1.0].Joining_Date.value_counts().iplot(kind='bar', dimensions=(600,500), yTitle=\"Counts of employees Left\", \n",
    "                                                                title=\"Count of employee's left by joining dates\")"
   ]
  },
  {
   "cell_type": "markdown",
   "metadata": {},
   "source": [
    "## Observation: \n",
    "- **Most of the people left the company in the year 2012.**"
   ]
  },
  {
   "cell_type": "code",
   "execution_count": 14,
   "metadata": {},
   "outputs": [
    {
     "data": {
      "application/vnd.plotly.v1+json": {
       "config": {
        "linkText": "Export to plot.ly",
        "plotlyServerURL": "https://plot.ly",
        "showLink": true
       },
       "data": [
        {
         "marker": {
          "color": "rgba(255, 153, 51, 0.6)",
          "line": {
           "color": "rgba(255, 153, 51, 1.0)",
           "width": 1
          }
         },
         "name": "Designation",
         "orientation": "v",
         "text": "",
         "type": "bar",
         "uid": "623bcf82-d97d-4dbb-a974-240682bade4c",
         "x": [
          "Junior",
          "VP",
          "Senior",
          "MD",
          "EVP"
         ],
         "y": [
          10,
          9,
          5,
          2,
          1
         ]
        }
       ],
       "layout": {
        "height": 500,
        "legend": {
         "bgcolor": "#F5F6F9",
         "font": {
          "color": "#4D5663"
         }
        },
        "paper_bgcolor": "#F5F6F9",
        "plot_bgcolor": "#F5F6F9",
        "title": {
         "font": {
          "color": "#4D5663"
         },
         "text": "Counts of employee's left with designation roles"
        },
        "width": 600,
        "xaxis": {
         "gridcolor": "#E1E5ED",
         "showgrid": true,
         "tickfont": {
          "color": "#4D5663"
         },
         "title": {
          "font": {
           "color": "#4D5663"
          },
          "text": ""
         },
         "zerolinecolor": "#E1E5ED"
        },
        "yaxis": {
         "gridcolor": "#E1E5ED",
         "showgrid": true,
         "tickfont": {
          "color": "#4D5663"
         },
         "title": {
          "font": {
           "color": "#4D5663"
          },
          "text": "Count of the employee's left"
         },
         "zerolinecolor": "#E1E5ED"
        }
       }
      },
      "text/html": [
       "<div>\n",
       "        \n",
       "        \n",
       "            <div id=\"a0b55aac-461b-46fd-9073-0db714378cdc\" class=\"plotly-graph-div\" style=\"height:500px; width:600px;\"></div>\n",
       "            <script type=\"text/javascript\">\n",
       "                require([\"plotly\"], function(Plotly) {\n",
       "                    window.PLOTLYENV=window.PLOTLYENV || {};\n",
       "                    window.PLOTLYENV.BASE_URL='https://plot.ly';\n",
       "                    \n",
       "                if (document.getElementById(\"a0b55aac-461b-46fd-9073-0db714378cdc\")) {\n",
       "                    Plotly.newPlot(\n",
       "                        'a0b55aac-461b-46fd-9073-0db714378cdc',\n",
       "                        [{\"marker\": {\"color\": \"rgba(255, 153, 51, 0.6)\", \"line\": {\"color\": \"rgba(255, 153, 51, 1.0)\", \"width\": 1}}, \"name\": \"Designation\", \"orientation\": \"v\", \"text\": \"\", \"type\": \"bar\", \"uid\": \"623bcf82-d97d-4dbb-a974-240682bade4c\", \"x\": [\"Junior\", \"VP\", \"Senior\", \"MD\", \"EVP\"], \"y\": [10, 9, 5, 2, 1]}],\n",
       "                        {\"height\": 500, \"legend\": {\"bgcolor\": \"#F5F6F9\", \"font\": {\"color\": \"#4D5663\"}}, \"paper_bgcolor\": \"#F5F6F9\", \"plot_bgcolor\": \"#F5F6F9\", \"title\": {\"font\": {\"color\": \"#4D5663\"}, \"text\": \"Counts of employee's left with designation roles\"}, \"width\": 600, \"xaxis\": {\"gridcolor\": \"#E1E5ED\", \"showgrid\": true, \"tickfont\": {\"color\": \"#4D5663\"}, \"title\": {\"font\": {\"color\": \"#4D5663\"}, \"text\": \"\"}, \"zerolinecolor\": \"#E1E5ED\"}, \"yaxis\": {\"gridcolor\": \"#E1E5ED\", \"showgrid\": true, \"tickfont\": {\"color\": \"#4D5663\"}, \"title\": {\"font\": {\"color\": \"#4D5663\"}, \"text\": \"Count of the employee's left\"}, \"zerolinecolor\": \"#E1E5ED\"}},\n",
       "                        {\"showLink\": true, \"linkText\": \"Export to plot.ly\", \"plotlyServerURL\": \"https://plot.ly\", \"responsive\": true}\n",
       "                    ).then(function(){\n",
       "                            \n",
       "var gd = document.getElementById('a0b55aac-461b-46fd-9073-0db714378cdc');\n",
       "var x = new MutationObserver(function (mutations, observer) {{\n",
       "        var display = window.getComputedStyle(gd).display;\n",
       "        if (!display || display === 'none') {{\n",
       "            console.log([gd, 'removed!']);\n",
       "            Plotly.purge(gd);\n",
       "            observer.disconnect();\n",
       "        }}\n",
       "}});\n",
       "\n",
       "// Listen for the removal of the full notebook cells\n",
       "var notebookContainer = gd.closest('#notebook-container');\n",
       "if (notebookContainer) {{\n",
       "    x.observe(notebookContainer, {childList: true});\n",
       "}}\n",
       "\n",
       "// Listen for the clearing of the current output cell\n",
       "var outputEl = gd.closest('.output');\n",
       "if (outputEl) {{\n",
       "    x.observe(outputEl, {childList: true});\n",
       "}}\n",
       "\n",
       "                        })\n",
       "                };\n",
       "                });\n",
       "            </script>\n",
       "        </div>"
      ]
     },
     "metadata": {},
     "output_type": "display_data"
    }
   ],
   "source": [
    "#let's see the designations of the people leaving the company. \n",
    "train[train.Left_Company==1.0].Designation.value_counts().iplot(kind='bar', dimensions=(600,500), \n",
    "                                                                yTitle=\"Count of the employee's left\",\n",
    "                                                               title=\"Counts of employee's left with designation roles\")"
   ]
  },
  {
   "cell_type": "markdown",
   "metadata": {},
   "source": [
    "## Observations:\n",
    "- **Most of the people leaving are of Designation Junior, VP, Senior.**"
   ]
  },
  {
   "cell_type": "code",
   "execution_count": 15,
   "metadata": {},
   "outputs": [
    {
     "name": "stdout",
     "output_type": "stream",
     "text": [
      "Count's of employees leaving by doing no of projects: \n",
      "2    20\n",
      "6     2\n",
      "4     2\n",
      "3     2\n",
      "5     1\n",
      "Name: NoOfProjects, dtype: int64\n",
      "------------------------------------------------------------------------------------------------\n"
     ]
    },
    {
     "data": {
      "application/vnd.plotly.v1+json": {
       "config": {
        "linkText": "Export to plot.ly",
        "plotlyServerURL": "https://plot.ly",
        "showLink": true
       },
       "data": [
        {
         "marker": {
          "color": "rgba(255, 153, 51, 0.6)",
          "line": {
           "color": "rgba(255, 153, 51, 1.0)",
           "width": 1
          }
         },
         "name": "NoOfProjects",
         "orientation": "v",
         "text": "",
         "type": "bar",
         "uid": "d4067852-8228-4a63-9132-fba14ce885dc",
         "x": [
          2,
          6,
          4,
          3,
          5
         ],
         "y": [
          20,
          2,
          2,
          2,
          1
         ]
        }
       ],
       "layout": {
        "height": 500,
        "legend": {
         "bgcolor": "#F5F6F9",
         "font": {
          "color": "#4D5663"
         }
        },
        "paper_bgcolor": "#F5F6F9",
        "plot_bgcolor": "#F5F6F9",
        "title": {
         "font": {
          "color": "#4D5663"
         },
         "text": "Count's of projects done by left Employee's"
        },
        "width": 600,
        "xaxis": {
         "gridcolor": "#E1E5ED",
         "showgrid": true,
         "tickfont": {
          "color": "#4D5663"
         },
         "title": {
          "font": {
           "color": "#4D5663"
          },
          "text": "No of projects"
         },
         "zerolinecolor": "#E1E5ED"
        },
        "yaxis": {
         "gridcolor": "#E1E5ED",
         "showgrid": true,
         "tickfont": {
          "color": "#4D5663"
         },
         "title": {
          "font": {
           "color": "#4D5663"
          },
          "text": "Counts of Employee's leaving"
         },
         "zerolinecolor": "#E1E5ED"
        }
       }
      },
      "text/html": [
       "<div>\n",
       "        \n",
       "        \n",
       "            <div id=\"e372a71f-c167-4e30-ad5b-5a7691b4c461\" class=\"plotly-graph-div\" style=\"height:500px; width:600px;\"></div>\n",
       "            <script type=\"text/javascript\">\n",
       "                require([\"plotly\"], function(Plotly) {\n",
       "                    window.PLOTLYENV=window.PLOTLYENV || {};\n",
       "                    window.PLOTLYENV.BASE_URL='https://plot.ly';\n",
       "                    \n",
       "                if (document.getElementById(\"e372a71f-c167-4e30-ad5b-5a7691b4c461\")) {\n",
       "                    Plotly.newPlot(\n",
       "                        'e372a71f-c167-4e30-ad5b-5a7691b4c461',\n",
       "                        [{\"marker\": {\"color\": \"rgba(255, 153, 51, 0.6)\", \"line\": {\"color\": \"rgba(255, 153, 51, 1.0)\", \"width\": 1}}, \"name\": \"NoOfProjects\", \"orientation\": \"v\", \"text\": \"\", \"type\": \"bar\", \"uid\": \"d4067852-8228-4a63-9132-fba14ce885dc\", \"x\": [2, 6, 4, 3, 5], \"y\": [20, 2, 2, 2, 1]}],\n",
       "                        {\"height\": 500, \"legend\": {\"bgcolor\": \"#F5F6F9\", \"font\": {\"color\": \"#4D5663\"}}, \"paper_bgcolor\": \"#F5F6F9\", \"plot_bgcolor\": \"#F5F6F9\", \"title\": {\"font\": {\"color\": \"#4D5663\"}, \"text\": \"Count's of projects done by left Employee's\"}, \"width\": 600, \"xaxis\": {\"gridcolor\": \"#E1E5ED\", \"showgrid\": true, \"tickfont\": {\"color\": \"#4D5663\"}, \"title\": {\"font\": {\"color\": \"#4D5663\"}, \"text\": \"No of projects\"}, \"zerolinecolor\": \"#E1E5ED\"}, \"yaxis\": {\"gridcolor\": \"#E1E5ED\", \"showgrid\": true, \"tickfont\": {\"color\": \"#4D5663\"}, \"title\": {\"font\": {\"color\": \"#4D5663\"}, \"text\": \"Counts of Employee's leaving\"}, \"zerolinecolor\": \"#E1E5ED\"}},\n",
       "                        {\"showLink\": true, \"linkText\": \"Export to plot.ly\", \"plotlyServerURL\": \"https://plot.ly\", \"responsive\": true}\n",
       "                    ).then(function(){\n",
       "                            \n",
       "var gd = document.getElementById('e372a71f-c167-4e30-ad5b-5a7691b4c461');\n",
       "var x = new MutationObserver(function (mutations, observer) {{\n",
       "        var display = window.getComputedStyle(gd).display;\n",
       "        if (!display || display === 'none') {{\n",
       "            console.log([gd, 'removed!']);\n",
       "            Plotly.purge(gd);\n",
       "            observer.disconnect();\n",
       "        }}\n",
       "}});\n",
       "\n",
       "// Listen for the removal of the full notebook cells\n",
       "var notebookContainer = gd.closest('#notebook-container');\n",
       "if (notebookContainer) {{\n",
       "    x.observe(notebookContainer, {childList: true});\n",
       "}}\n",
       "\n",
       "// Listen for the clearing of the current output cell\n",
       "var outputEl = gd.closest('.output');\n",
       "if (outputEl) {{\n",
       "    x.observe(outputEl, {childList: true});\n",
       "}}\n",
       "\n",
       "                        })\n",
       "                };\n",
       "                });\n",
       "            </script>\n",
       "        </div>"
      ]
     },
     "metadata": {},
     "output_type": "display_data"
    }
   ],
   "source": [
    "# No Of Projects vs the people left the company \n",
    "#value count's of employees leaving by doing no of projects\n",
    "\n",
    "print(\"Count's of employees leaving by doing no of projects: \")\n",
    "print(train[train.Left_Company==1.0].NoOfProjects.value_counts())\n",
    "print(\"------------------------------------------------------------------------------------------------\")\n",
    "train[train.Left_Company==1.0].NoOfProjects.value_counts().iplot(kind='bar', dimensions=(600,500), \n",
    "                                                                yTitle=\"Counts of Employee's leaving\",\n",
    "                                                                 xTitle=\"No of projects\",\n",
    "                                                               title=\"Count's of projects done by left Employee's\")"
   ]
  },
  {
   "cell_type": "markdown",
   "metadata": {},
   "source": [
    "## Onservations:\n",
    "- **Employee's who are leaving have done only two projects**"
   ]
  },
  {
   "cell_type": "code",
   "execution_count": 16,
   "metadata": {},
   "outputs": [
    {
     "name": "stdout",
     "output_type": "stream",
     "text": [
      "Count's of employees leaving by Gender: \n",
      "1    22\n",
      "0     5\n",
      "Name: Sex, dtype: int64\n",
      "------------------------------------------------------------------------------------------------\n"
     ]
    },
    {
     "data": {
      "application/vnd.plotly.v1+json": {
       "config": {
        "linkText": "Export to plot.ly",
        "plotlyServerURL": "https://plot.ly",
        "showLink": true
       },
       "data": [
        {
         "marker": {
          "color": "rgba(255, 153, 51, 0.6)",
          "line": {
           "color": "rgba(255, 153, 51, 1.0)",
           "width": 1
          }
         },
         "name": "Sex",
         "orientation": "v",
         "text": "",
         "type": "bar",
         "uid": "98b03e9b-0c41-43f1-b520-2c5b81706b51",
         "x": [
          1,
          0
         ],
         "y": [
          22,
          5
         ]
        }
       ],
       "layout": {
        "height": 500,
        "legend": {
         "bgcolor": "#F5F6F9",
         "font": {
          "color": "#4D5663"
         }
        },
        "paper_bgcolor": "#F5F6F9",
        "plot_bgcolor": "#F5F6F9",
        "title": {
         "font": {
          "color": "#4D5663"
         },
         "text": "Count of employee's left by Gender"
        },
        "width": 400,
        "xaxis": {
         "gridcolor": "#E1E5ED",
         "showgrid": true,
         "tickfont": {
          "color": "#4D5663"
         },
         "title": {
          "font": {
           "color": "#4D5663"
          },
          "text": "Gender of employee - Male=1, Female=0. "
         },
         "zerolinecolor": "#E1E5ED"
        },
        "yaxis": {
         "gridcolor": "#E1E5ED",
         "showgrid": true,
         "tickfont": {
          "color": "#4D5663"
         },
         "title": {
          "font": {
           "color": "#4D5663"
          },
          "text": "Counts of Employee's leaving"
         },
         "zerolinecolor": "#E1E5ED"
        }
       }
      },
      "text/html": [
       "<div>\n",
       "        \n",
       "        \n",
       "            <div id=\"6e32ced4-500a-4a00-9993-b7c59299f9fc\" class=\"plotly-graph-div\" style=\"height:500px; width:400px;\"></div>\n",
       "            <script type=\"text/javascript\">\n",
       "                require([\"plotly\"], function(Plotly) {\n",
       "                    window.PLOTLYENV=window.PLOTLYENV || {};\n",
       "                    window.PLOTLYENV.BASE_URL='https://plot.ly';\n",
       "                    \n",
       "                if (document.getElementById(\"6e32ced4-500a-4a00-9993-b7c59299f9fc\")) {\n",
       "                    Plotly.newPlot(\n",
       "                        '6e32ced4-500a-4a00-9993-b7c59299f9fc',\n",
       "                        [{\"marker\": {\"color\": \"rgba(255, 153, 51, 0.6)\", \"line\": {\"color\": \"rgba(255, 153, 51, 1.0)\", \"width\": 1}}, \"name\": \"Sex\", \"orientation\": \"v\", \"text\": \"\", \"type\": \"bar\", \"uid\": \"98b03e9b-0c41-43f1-b520-2c5b81706b51\", \"x\": [1, 0], \"y\": [22, 5]}],\n",
       "                        {\"height\": 500, \"legend\": {\"bgcolor\": \"#F5F6F9\", \"font\": {\"color\": \"#4D5663\"}}, \"paper_bgcolor\": \"#F5F6F9\", \"plot_bgcolor\": \"#F5F6F9\", \"title\": {\"font\": {\"color\": \"#4D5663\"}, \"text\": \"Count of employee's left by Gender\"}, \"width\": 400, \"xaxis\": {\"gridcolor\": \"#E1E5ED\", \"showgrid\": true, \"tickfont\": {\"color\": \"#4D5663\"}, \"title\": {\"font\": {\"color\": \"#4D5663\"}, \"text\": \"Gender of employee - Male=1, Female=0. \"}, \"zerolinecolor\": \"#E1E5ED\"}, \"yaxis\": {\"gridcolor\": \"#E1E5ED\", \"showgrid\": true, \"tickfont\": {\"color\": \"#4D5663\"}, \"title\": {\"font\": {\"color\": \"#4D5663\"}, \"text\": \"Counts of Employee's leaving\"}, \"zerolinecolor\": \"#E1E5ED\"}},\n",
       "                        {\"showLink\": true, \"linkText\": \"Export to plot.ly\", \"plotlyServerURL\": \"https://plot.ly\", \"responsive\": true}\n",
       "                    ).then(function(){\n",
       "                            \n",
       "var gd = document.getElementById('6e32ced4-500a-4a00-9993-b7c59299f9fc');\n",
       "var x = new MutationObserver(function (mutations, observer) {{\n",
       "        var display = window.getComputedStyle(gd).display;\n",
       "        if (!display || display === 'none') {{\n",
       "            console.log([gd, 'removed!']);\n",
       "            Plotly.purge(gd);\n",
       "            observer.disconnect();\n",
       "        }}\n",
       "}});\n",
       "\n",
       "// Listen for the removal of the full notebook cells\n",
       "var notebookContainer = gd.closest('#notebook-container');\n",
       "if (notebookContainer) {{\n",
       "    x.observe(notebookContainer, {childList: true});\n",
       "}}\n",
       "\n",
       "// Listen for the clearing of the current output cell\n",
       "var outputEl = gd.closest('.output');\n",
       "if (outputEl) {{\n",
       "    x.observe(outputEl, {childList: true});\n",
       "}}\n",
       "\n",
       "                        })\n",
       "                };\n",
       "                });\n",
       "            </script>\n",
       "        </div>"
      ]
     },
     "metadata": {},
     "output_type": "display_data"
    }
   ],
   "source": [
    "#Employee's left the company on gender \n",
    "\n",
    "#Count's of employees left by Gender: \n",
    "print(\"Count's of employees leaving by Gender: \")\n",
    "print(train[train.Left_Company==1.0].Sex.value_counts())\n",
    "print(\"------------------------------------------------------------------------------------------------\")\n",
    "train[train.Left_Company==1.0].Sex.value_counts().iplot(kind='bar', dimensions=(400,500), \n",
    "                                                                yTitle=\"Counts of Employee's leaving\",\n",
    "                                                                 xTitle=\"Gender of employee - Male=1, Female=0. \",\n",
    "                                                        title=\"Count of employee's left by Gender\")"
   ]
  },
  {
   "cell_type": "markdown",
   "metadata": {},
   "source": [
    "## result: \n",
    "- **Majority of the employees leaving are the Males. and machines work better than males but sittting of males is always better**\n",
    "\n",
    "\n",
    "\n",
    "\n",
    "\n",
    "\n",
    "\n",
    "                                                -AHAMED THAIYUB A "
   ]
  },
  {
   "cell_type": "code",
   "execution_count": null,
   "metadata": {},
   "outputs": [],
   "source": []
  },
  {
   "cell_type": "code",
   "execution_count": null,
   "metadata": {},
   "outputs": [],
   "source": []
  }
 ],
 "metadata": {
  "kernelspec": {
   "display_name": "Python 3 (ipykernel)",
   "language": "python",
   "name": "python3"
  },
  "language_info": {
   "codemirror_mode": {
    "name": "ipython",
    "version": 3
   },
   "file_extension": ".py",
   "mimetype": "text/x-python",
   "name": "python",
   "nbconvert_exporter": "python",
   "pygments_lexer": "ipython3",
   "version": "3.9.12"
  }
 },
 "nbformat": 4,
 "nbformat_minor": 2
}
